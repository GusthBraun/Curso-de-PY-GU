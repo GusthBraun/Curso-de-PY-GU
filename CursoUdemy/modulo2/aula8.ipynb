{
 "cells": [
  {
   "cell_type": "markdown",
   "metadata": {},
   "source": [
    "Recebendo dados do usuário\n",
    "\n",
    "input() -> Todo dado recebido via input é do tipo String\n",
    "\n",
    "Em Python, string é tudo que estiver entre:\n",
    "\n",
    "- Aspas simples ''\n",
    "- Aspas duplas \"\"\n",
    "- Aspas simples triplas '''\n",
    "- Aspas duplas triplas  \"\"\""
   ]
  },
  {
   "cell_type": "code",
   "execution_count": 4,
   "metadata": {},
   "outputs": [],
   "source": [
    "#Entrada de dados\n",
    "#print(\"qual seu nome?\")\n",
    "#nome = input('Qual seu nome? ') #Input -> Entrada\n",
    "\n",
    "nome = input('Qual seu nome? ')"
   ]
  },
  {
   "cell_type": "code",
   "execution_count": 5,
   "metadata": {},
   "outputs": [
    {
     "name": "stdout",
     "output_type": "stream",
     "text": [
      "Seja bem vindo(a) Gustavo\n"
     ]
    }
   ],
   "source": [
    "#essa é a forma do python 2.0\n",
    "#print('seja ben vindo(a) %s' % nome)\n",
    "\n",
    "#exemplo de print do python 3.0\n",
    "#print('A {0} tem {1} anos'.format(nome,idade))\n",
    "\n",
    "#exemplo de print 3.7\n",
    "print(f'Seja bem vindo(a) {nome}')\n",
    "\n",
    "#print(\"Qual sua idade?\" )\n",
    "#idade = input()"
   ]
  },
  {
   "cell_type": "code",
   "execution_count": 7,
   "metadata": {},
   "outputs": [
    {
     "name": "stdout",
     "output_type": "stream",
     "text": [
      "A Gustavo tem 24 anos\n",
      "A Gustavo nasceu em 2000\n"
     ]
    }
   ],
   "source": [
    "idade = int(input('Qual sua idade? '))\n",
    "\n",
    "#processamento\n",
    "\n",
    "#Saída\n",
    "#Exemplo de print 'antigo' Python 2.\n",
    "#print('A %s tem %s anos' % (nome, idade))\n",
    "\n",
    "#Exemplo de print Python 3.0\n",
    "# print(f'A {0} tem {1} anos'.format(nome,idade))\n",
    "\n",
    "#Exemplo de print Python 3.7\n",
    "print(f'A {nome} tem {idade} anos')\n",
    "\n",
    "#int(idade) => cast \n",
    "\n",
    "#Cast é a 'conversão de um tipo de dado para outro'.\n",
    "\n",
    "print(f'A {nome} nasceu em {2024 - idade}')"
   ]
  }
 ],
 "metadata": {
  "kernelspec": {
   "display_name": "Python 3",
   "language": "python",
   "name": "python3"
  },
  "language_info": {
   "codemirror_mode": {
    "name": "ipython",
    "version": 3
   },
   "file_extension": ".py",
   "mimetype": "text/x-python",
   "name": "python",
   "nbconvert_exporter": "python",
   "pygments_lexer": "ipython3",
   "version": "3.11.9"
  }
 },
 "nbformat": 4,
 "nbformat_minor": 2
}

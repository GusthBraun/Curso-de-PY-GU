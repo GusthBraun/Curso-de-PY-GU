{
 "cells": [
  {
   "cell_type": "markdown",
   "metadata": {},
   "source": [
    "# entendendo Iterators e iterables\n",
    "\n",
    "## Iterator ->\n",
    "    - um objeto que pode ter iterado.\n",
    "    - um objeto que retorna um dado, sendo um elemento por vez quando uma função next() é chamada;\n",
    "\n",
    "## Iterable ->\n",
    "    - um objeto que irá retornar um iterador quando a função iter() for chamada."
   ]
  },
  {
   "cell_type": "code",
   "execution_count": 1,
   "metadata": {},
   "outputs": [
    {
     "name": "stdout",
     "output_type": "stream",
     "text": [
      "geek\n",
      "[1, 2, 3, 4, 5, 6]\n",
      "g\n",
      "1\n",
      "e\n",
      "2\n",
      "e\n",
      "3\n",
      "k\n",
      "4\n"
     ]
    }
   ],
   "source": [
    "nome = 'geek' #é um iterables mas não é um interator \n",
    "numeros = [1, 2, 3, 4, 5, 6]#é um iterables mas não é um interator \n",
    "\n",
    "print(nome)\n",
    "#print(next(nome)) vair dar um erro \n",
    "\n",
    "print(numeros)\n",
    "#print(next(numeros)) vair dar um erro \n",
    "\n",
    "it1 = iter(nome)\n",
    "it2 = iter(numeros)\n",
    "\n",
    "\n",
    "print(next(it1))\n",
    "print(next(it2))\n",
    "print(next(it1))\n",
    "print(next(it2))\n",
    "print(next(it1))\n",
    "print(next(it2))\n",
    "print(next(it1))\n",
    "print(next(it2))\n",
    "\n",
    "#se dar um proximo depois da letra k vai dar um erro de stopiterator"
   ]
  }
 ],
 "metadata": {
  "kernelspec": {
   "display_name": "Python 3",
   "language": "python",
   "name": "python3"
  },
  "language_info": {
   "codemirror_mode": {
    "name": "ipython",
    "version": 3
   },
   "file_extension": ".py",
   "mimetype": "text/x-python",
   "name": "python",
   "nbconvert_exporter": "python",
   "pygments_lexer": "ipython3",
   "version": "3.11.9"
  }
 },
 "nbformat": 4,
 "nbformat_minor": 2
}

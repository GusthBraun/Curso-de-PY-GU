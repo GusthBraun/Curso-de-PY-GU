{
 "cells": [
  {
   "cell_type": "code",
   "execution_count": 1,
   "metadata": {},
   "outputs": [
    {
     "name": "stdout",
     "output_type": "stream",
     "text": [
      "Geek University\n",
      "\n",
      "9\n"
     ]
    }
   ],
   "source": [
    "# Exemplo de função onde a passagem de parÂmetro seja opciuonal \n",
    "print('Geek University')\n",
    "\n",
    "print()\n",
    "\n",
    "\n",
    "# Exemplo de função onde a passagem do parâmetro seja obrigatória\n",
    "\n",
    "def quadrado(numero):\n",
    "    return numero ** 2\n",
    "\n",
    "print(quadrado(3))\n",
    "#print(quadrado()) #typer error\n",
    "\n"
   ]
  },
  {
   "cell_type": "code",
   "execution_count": 3,
   "metadata": {},
   "outputs": [
    {
     "name": "stdout",
     "output_type": "stream",
     "text": [
      "8\n",
      "9\n",
      "9\n",
      "243\n",
      "1\n"
     ]
    }
   ],
   "source": [
    "def exponencial(numero1= 1, potencia= 2):\n",
    "    return numero1 ** potencia\n",
    "\n",
    "print (exponencial(2,3))\n",
    "print (exponencial(3,2))\n",
    "\n",
    "print(exponencial(3)) # Por padrão eleve ao quadrado\n",
    "print(exponencial(3,5)) #Eleva á potência informada pelo usuário\n",
    "\n",
    "# OBS\n",
    "# Se o usuário passar somente 1 argumento, este será atríbuido ao parâmetro numero, será calculado o quadrado deste numero;\n",
    "# Se o usuário passar 2 argumentos, o primeiro será atribuído ao parÂmetro numero e o segundo ao parâmetro potencia. Então\n",
    "# será calculada esta potência.\n",
    "\n",
    "print(exponencial())\n",
    "\n",
    " "
   ]
  },
  {
   "cell_type": "markdown",
   "metadata": {},
   "source": [
    "OBS: Em funções Python, os parâmetros com valores default (padrão) devem sempre estar no final da declaração."
   ]
  },
  {
   "cell_type": "code",
   "execution_count": 4,
   "metadata": {},
   "outputs": [
    {
     "name": "stdout",
     "output_type": "stream",
     "text": [
      "Eu pensei que voê era o instrutor\n",
      "bem-vindo instrutor Geek\n",
      "Ola True\n",
      "Ola Ozzy\n",
      "Ola Stephany\n"
     ]
    }
   ],
   "source": [
    "def mostra_informacao(nome = 'Geek', instrutor =False):\n",
    "    if nome =='Geek' and instrutor:\n",
    "        return'bem-vindo instrutor Geek'\n",
    "    elif nome =='Geek':\n",
    "        return 'Eu pensei que voê era o instrutor'\n",
    "    return f'Ola {nome}'\n",
    "\n",
    "print(mostra_informacao())\n",
    "print(mostra_informacao(instrutor=True))\n",
    "print(mostra_informacao(True))\n",
    "print(mostra_informacao('Ozzy'))\n",
    "print(mostra_informacao(nome='Stephany'))"
   ]
  },
  {
   "cell_type": "markdown",
   "metadata": {},
   "source": [
    "Quais tipos de dados podemos utilizar como valores default para parâmetros?\n",
    "\n",
    "Qualquer tipo de dado:\n",
    "números, strings, floats booleanos, listas, tuplas, dicionários, funções e etc:\n",
    "\n",
    "EVITE VARIAVEIS GLOBAIS\n"
   ]
  },
  {
   "cell_type": "code",
   "execution_count": null,
   "metadata": {},
   "outputs": [],
   "source": [
    "#podemos ter funções que são declaradas dentro de funções que também tem uma forma especial de escopo de variavel\n",
    "\n",
    "def fora():\n",
    "    contador = 0\n",
    "    def dentro():\n",
    "        nonlocal contador # você diz que essa variavei é a variavel de cima nem local e nem global \n",
    "        contador = contador + 1\n",
    "        return contador\n",
    "    return dentro()\n",
    "\n",
    "print(fora())"
   ]
  }
 ],
 "metadata": {
  "kernelspec": {
   "display_name": "Python 3",
   "language": "python",
   "name": "python3"
  },
  "language_info": {
   "codemirror_mode": {
    "name": "ipython",
    "version": 3
   },
   "file_extension": ".py",
   "mimetype": "text/x-python",
   "name": "python",
   "nbconvert_exporter": "python",
   "pygments_lexer": "ipython3",
   "version": "3.11.9"
  }
 },
 "nbformat": 4,
 "nbformat_minor": 2
}

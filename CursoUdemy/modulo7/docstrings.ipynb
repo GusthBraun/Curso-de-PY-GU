{
 "cells": [
  {
   "cell_type": "markdown",
   "metadata": {},
   "source": [
    "Documentando funções com Docstrings \n",
    "\n",
    "basicamente uma aula sobre documentação.\n",
    "\n",
    "Exemplos:"
   ]
  },
  {
   "cell_type": "code",
   "execution_count": null,
   "metadata": {},
   "outputs": [],
   "source": [
    "def diz_oi():\n",
    "    \"\"\"Uma função simples que retorna a string 'Oi!'\"\"\"\n",
    "    return 'oi!'\n",
    "\n",
    "#o que estiver escrito entre 3 aspas será imprimindo caso quando usar o comando Help "
   ]
  }
 ],
 "metadata": {
  "language_info": {
   "name": "python"
  }
 },
 "nbformat": 4,
 "nbformat_minor": 2
}

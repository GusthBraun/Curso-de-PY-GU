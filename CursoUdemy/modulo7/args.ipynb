{
 "cells": [
  {
   "cell_type": "markdown",
   "metadata": {},
   "source": [
    "Entendendo o *args\n",
    "\n",
    "O *args é um parâmetro, como outro qualquer. Isso significa que você poderá chamar de qualquer coisa desde que começe com aterisco \n",
    "\n",
    "Exemplo\n",
    "\n",
    "*xis \n",
    "\n",
    "Esse nume foi definido por convenção.\n",
    "\n",
    "Mas o que é o *args ?\n",
    "\n",
    "O Parâmetro *args utilizado em um função, coloca os valores extras informados como entrada em uma tupla. Então desde já lembre-se que tuplas são imutaveis.\n"
   ]
  },
  {
   "cell_type": "code",
   "execution_count": 1,
   "metadata": {},
   "outputs": [
    {
     "name": "stdout",
     "output_type": "stream",
     "text": [
      "19\n"
     ]
    }
   ],
   "source": [
    "def soma_todas_numeros(num1=1, num2=2, num3=3):\n",
    "    return num1+num2+num3\n",
    "\n",
    "\n",
    "print(soma_todas_numeros(4,6,9)) # Temos que colocar o mesmo numero de valores de entrada"
   ]
  },
  {
   "cell_type": "markdown",
   "metadata": {},
   "source": [
    "Entendendo o args\n",
    "\n",
    "Devemos lembrar que os valores enviados para o parametro args são valores que não obrigatorios você pode por opção ignorar esses valores."
   ]
  },
  {
   "cell_type": "code",
   "execution_count": 4,
   "metadata": {},
   "outputs": [
    {
     "name": "stdout",
     "output_type": "stream",
     "text": [
      "42\n",
      "45\n"
     ]
    }
   ],
   "source": [
    "def soma_todas_numeros(nome, email, *args):\n",
    "    return sum(args)\n",
    "\n",
    "print(soma_todas_numeros(1,2,3,4,5,6,7,8,9))\n",
    "print(soma_todas_numeros('Gustavo','Gusth',1,2,3,4,5,6,7,8,9))"
   ]
  },
  {
   "cell_type": "markdown",
   "metadata": {},
   "source": [
    "o Args possue um desempacotador que auxilia no funcionamento do mesmo\n"
   ]
  },
  {
   "cell_type": "code",
   "execution_count": null,
   "metadata": {},
   "outputs": [],
   "source": [
    "numeros = [1,2,3,4,5,6,7,]\n",
    "\n",
    "print(soma_todas_numeros(*numeros))"
   ]
  },
  {
   "cell_type": "markdown",
   "metadata": {},
   "source": [
    "OBS: o asteristico serve para que informemos ao Python que estamos passando como argumento uma coleção de dados. Desta forma ele saberá que precisará antes desempacotar esses dados "
   ]
  }
 ],
 "metadata": {
  "kernelspec": {
   "display_name": "Python 3",
   "language": "python",
   "name": "python3"
  },
  "language_info": {
   "codemirror_mode": {
    "name": "ipython",
    "version": 3
   },
   "file_extension": ".py",
   "mimetype": "text/x-python",
   "name": "python",
   "nbconvert_exporter": "python",
   "pygments_lexer": "ipython3",
   "version": "3.11.9"
  }
 },
 "nbformat": 4,
 "nbformat_minor": 2
}

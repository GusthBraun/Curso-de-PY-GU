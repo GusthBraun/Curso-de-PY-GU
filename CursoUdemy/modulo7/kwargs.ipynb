{
 "cells": [
  {
   "cell_type": "markdown",
   "metadata": {},
   "source": [
    "Kwargs\n",
    "\n",
    "Poderíamos chamar este parÂmetro de **xis, mas por convenção chamamos de **kwargs\n",
    "\n",
    "Este é só mais um parÂmetro, mas diferente do *args que coloca os valores extras em uma tupla, o **kwargs exige que utilizemos parÂmetros nomeados, e transforma esses parâmetros extras em um dicionário. "
   ]
  },
  {
   "cell_type": "code",
   "execution_count": 2,
   "metadata": {},
   "outputs": [
    {
     "name": "stdout",
     "output_type": "stream",
     "text": [
      "A cor favorita de Marcos é  verde\n",
      "A cor favorita de Julia é  amarelo\n",
      "A cor favorita de Fernanada é  azul\n"
     ]
    }
   ],
   "source": [
    "def cores_favoritas(**kwargs):\n",
    "    for pessoa, cor in kwargs.items():\n",
    "        print(f'A cor favorita de {pessoa.title()} é  {(cor)}')\n",
    "\n",
    "cores_favoritas(marcos='verde', julia ='amarelo', fernanada='azul')"
   ]
  },
  {
   "cell_type": "code",
   "execution_count": 3,
   "metadata": {},
   "outputs": [
    {
     "name": "stdout",
     "output_type": "stream",
     "text": [
      "None\n",
      "você recebeu um comprimento Pythonico Geek!\n",
      "não tenho certeza quem vocÊ é\n",
      "None\n"
     ]
    }
   ],
   "source": [
    "def cumprimento_especial(**kwargs):\n",
    "    if 'geek' in kwargs and kwargs['geek'] == 'Python':\n",
    "        return 'você recebeu um comprimento Pythonico Geek!'\n",
    "    elif 'geek' in kwargs:\n",
    "        return'não tenho certeza quem vocÊ é'\n",
    "    \n",
    "print(cumprimento_especial())\n",
    "print(cumprimento_especial(geek='Python'))\n",
    "print(cumprimento_especial(geek ='Oi'))\n",
    "print(cumprimento_especial(Geek='especial'))"
   ]
  },
  {
   "cell_type": "markdown",
   "metadata": {},
   "source": [
    "Nas nossas funções podemos, ter (NESTA ORDEM):\n",
    "\n",
    "Parâmetros obrigatórios\n",
    "\n",
    "-*args;\n",
    "\n",
    "-Parâmetros default(não obrigatórios)\n",
    "\n",
    "-**kwargs\n"
   ]
  },
  {
   "cell_type": "code",
   "execution_count": 4,
   "metadata": {},
   "outputs": [
    {
     "name": "stdout",
     "output_type": "stream",
     "text": [
      "julia tem 8 anos\n",
      "()\n",
      "casado\n",
      "{}\n",
      "Felicity tem 18 anos\n",
      "(4, 5, 6)\n",
      "solteiro\n",
      "{}\n",
      "Felipe tem 34 anos\n",
      "()\n",
      "casado\n",
      "{'eu': 'Não', 'voce': 'Vai'}\n",
      "Carla tem 19 anos\n",
      "(9, 4, 3)\n",
      "casado\n",
      "{'java': False, 'Python': True}\n"
     ]
    }
   ],
   "source": [
    "def minha_funçao(idade, nome, *args, solteiro= False, **kwargs):\n",
    "    print(f'{nome} tem {idade} anos')\n",
    "    print(args)\n",
    "    if solteiro:\n",
    "        print('solteiro')\n",
    "    else:\n",
    "        print('casado')\n",
    "    \n",
    "    print(kwargs)\n",
    "\n",
    "minha_funçao(8,'julia')\n",
    "minha_funçao(18,'Felicity', 4,5,6, solteiro=True)\n",
    "minha_funçao(34, 'Felipe', eu='Não', voce='Vai')\n",
    "minha_funçao(19, 'Carla', 9, 4, 3, java=False, Python=True)"
   ]
  },
  {
   "cell_type": "markdown",
   "metadata": {},
   "source": [
    "Entenda por quÊ é importantante manter a ordem dos parâmetros na declaração\n",
    "\n",
    "pois caso voê terimar e tentar deslocar as coisas vai dar errado as informações entram no local errado "
   ]
  },
  {
   "cell_type": "markdown",
   "metadata": {},
   "source": [
    "Desempacotamento com **kwargs"
   ]
  },
  {
   "cell_type": "code",
   "execution_count": null,
   "metadata": {},
   "outputs": [],
   "source": [
    "def mostra_nomes(**kwargs):\n",
    "    return(f\"{kwargs['nome']} {kwargs['sobrenomes']}\n",
    "           \n",
    "nome = ('nome': 'Felicity', 'Sobrenome': 'Jones')\")"
   ]
  },
  {
   "cell_type": "markdown",
   "metadata": {},
   "source": [
    "como se devem ser passado os argumentos com exemplo"
   ]
  },
  {
   "cell_type": "code",
   "execution_count": 6,
   "metadata": {},
   "outputs": [
    {
     "name": "stdout",
     "output_type": "stream",
     "text": [
      "6\n",
      "6\n",
      "6\n",
      "6\n"
     ]
    }
   ],
   "source": [
    "def soma_multiplos_numeros(a,b,c):\n",
    "    print(a+b+c)\n",
    "    \n",
    "lista = [1,2,3,]\n",
    "tupla = (1,2,3,)\n",
    "conjunto = {1, 2, 3}\n",
    "\n",
    "soma_multiplos_numeros(*lista)\n",
    "soma_multiplos_numeros(*tupla)\n",
    "soma_multiplos_numeros(*conjunto)\n",
    "\n",
    "dicionario = dict(a=1, b=2, c=3)\n",
    "\n",
    "soma_multiplos_numeros(**dicionario) # os nome da chave em um dicionario devem ser os mesmo do parâmetro da função."
   ]
  }
 ],
 "metadata": {
  "kernelspec": {
   "display_name": "Python 3",
   "language": "python",
   "name": "python3"
  },
  "language_info": {
   "codemirror_mode": {
    "name": "ipython",
    "version": 3
   },
   "file_extension": ".py",
   "mimetype": "text/x-python",
   "name": "python",
   "nbconvert_exporter": "python",
   "pygments_lexer": "ipython3",
   "version": "3.11.9"
  }
 },
 "nbformat": 4,
 "nbformat_minor": 2
}

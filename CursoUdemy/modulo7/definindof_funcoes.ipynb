{
 "cells": [
  {
   "cell_type": "markdown",
   "metadata": {},
   "source": [
    "Regras para declaração de funções:\n",
    "\n",
    "SEMPRE, com letas minúsculas, e se for nome composto, separado por underline (Snake Case);\n",
    "parametro_de_entrada -> Opcionais, onde tendo mais de um, cada um separado por vírgula. Podendo ser opcionais ou não;\n",
    "bloco_da_funcao -> Também chamado de corpo da função ou umplementação, é onde o processsamento da função acontece.\n",
    "\n",
    "OBS: Veja que para definir uma função, utilizamos a palabra reservada 'def' informando ao PyThon que estamos definindo uma função. Também abrimos o bloco de código com o já conhecido dois pontos : que é utilizado em P`ython para definir blocos."
   ]
  },
  {
   "cell_type": "code",
   "execution_count": 2,
   "metadata": {},
   "outputs": [],
   "source": [
    "#Definindo a primeira função\n",
    "\n",
    "def diz_oi():\n",
    "           print('Oi!')\n"
   ]
  },
  {
   "cell_type": "markdown",
   "metadata": {},
   "source": [
    "OBS:\n",
    "\n",
    "1- - Veja que, dentro das nossas funções podemos utilizar outras funções:\n",
    "\n",
    "2 - Nossa função só executa 1 tarefa, ou seja, a única coisa que ela faz é dizer oi:\n",
    "\n",
    "3 - está que está função não recebe nenhum parametro:\n",
    "\n",
    "4 - Ela não retorna nada"
   ]
  },
  {
   "cell_type": "code",
   "execution_count": 3,
   "metadata": {},
   "outputs": [
    {
     "name": "stdout",
     "output_type": "stream",
     "text": [
      "Oi!\n"
     ]
    }
   ],
   "source": [
    "#utilizando funções:\n",
    "\n",
    "# Cahama de execução\n",
    "diz_oi()"
   ]
  },
  {
   "cell_type": "code",
   "execution_count": 6,
   "metadata": {},
   "outputs": [
    {
     "name": "stdout",
     "output_type": "stream",
     "text": [
      "Parabéns pra você\n",
      "Nesta data querida\n",
      "Muitas felicidades\n",
      "Muitos anos de vida\n",
      "Parabéns pra você\n",
      "Nesta data querida\n",
      "Muitas felicidades\n",
      "Muitos anos de vida\n"
     ]
    }
   ],
   "source": [
    "#EX 2\n",
    "\n",
    "def cantar_parabens():\n",
    "    print('Parabéns pra você')\n",
    "    print('Nesta data querida')\n",
    "    print('Muitas felicidades')\n",
    "    print('Muitos anos de vida')\n",
    "\n",
    "#tem que colocar o parenteses pra funcionar lembra disso\n",
    "\n",
    "for n in range(2):\n",
    "    cantar_parabens()"
   ]
  }
 ],
 "metadata": {
  "kernelspec": {
   "display_name": "Python 3",
   "language": "python",
   "name": "python3"
  },
  "language_info": {
   "codemirror_mode": {
    "name": "ipython",
    "version": 3
   },
   "file_extension": ".py",
   "mimetype": "text/x-python",
   "name": "python",
   "nbconvert_exporter": "python",
   "pygments_lexer": "ipython3",
   "version": "3.11.9"
  }
 },
 "nbformat": 4,
 "nbformat_minor": 2
}

{
 "cells": [
  {
   "cell_type": "markdown",
   "metadata": {},
   "source": [
    "Crie um programa que tenha uma função que recebe um parâmetro inteiro e devolve o seu dobro."
   ]
  },
  {
   "cell_type": "code",
   "execution_count": 2,
   "metadata": {},
   "outputs": [
    {
     "name": "stdout",
     "output_type": "stream",
     "text": [
      "o Resultado do dobro do valor é :20\n"
     ]
    }
   ],
   "source": [
    "def dobro(num_inteiro):\n",
    "    return num_inteiro*2\n",
    "\n",
    "\n",
    "num = int(input(f'Informe um valor inteiro:'))\n",
    "\n",
    "print(f'o Resultado do dobro do valor é :{dobro(num)}')"
   ]
  },
  {
   "cell_type": "markdown",
   "metadata": {},
   "source": [
    "Faça um programa que tenha uma função que recebe uma data no formato string exemplo \"01/01/2024\" e imprima ela por extenso como \"1° de janeiro de 2024\""
   ]
  },
  {
   "cell_type": "code",
   "execution_count": 6,
   "metadata": {},
   "outputs": [
    {
     "name": "stdout",
     "output_type": "stream",
     "text": [
      "10 de março de 2000\n"
     ]
    }
   ],
   "source": [
    "def data_por_extenso(data: str) -> None:\n",
    "    d = data.split('/') # dividir a string entre os '/'\n",
    "\n",
    "    dia: int = int(d[0])\n",
    "    mes: int = int(d[1])\n",
    "    ano: int = int(d[2])\n",
    "\n",
    "    if mes == 1:\n",
    "        mes_str = 'janeiro'\n",
    "    elif mes == 2:\n",
    "        mes_str = 'fevereiro'\n",
    "    elif mes == 3:\n",
    "        mes_str = 'março'\n",
    "    elif mes == 4:\n",
    "        mes_str = 'Abril'\n",
    "    elif mes == 5:\n",
    "        mes_str = 'maio'\n",
    "    elif mes == 6:\n",
    "        mes_str = 'junho'\n",
    "    elif mes == 7:\n",
    "        mes_str = 'julho'\n",
    "    elif mes == 8:\n",
    "        mes_str = 'agosto'\n",
    "    elif mes == 9:\n",
    "        mes_str = 'setembro'\n",
    "    elif mes == 10:\n",
    "        mes_str = 'outubro'\n",
    "    elif mes == 11:\n",
    "        mes_str = 'novembro'\n",
    "    elif mes == 12:\n",
    "        mes_str = 'dezembro'\n",
    "    else:\n",
    "        mes_str = 'Desconhecido'\n",
    "\n",
    "    print(f'{dia} de {mes_str} de {ano}')\n",
    "\n",
    "if __name__ == '__main__':\n",
    "    data_por_extenso('10/03/2000')"
   ]
  },
  {
   "cell_type": "markdown",
   "metadata": {},
   "source": [
    "Faça um programa que tenha uma função que receba uma lista de inteiros e retorne o maior valor"
   ]
  },
  {
   "cell_type": "code",
   "execution_count": 7,
   "metadata": {},
   "outputs": [
    {
     "name": "stdout",
     "output_type": "stream",
     "text": [
      "O maior valor na lista[2, 5, 1, 0, 89, 23] é : 89\n"
     ]
    }
   ],
   "source": [
    "def maior_valor(inteiro: list[int]) -> int:\n",
    "    return max(inteiro)\n",
    "\n",
    "if __name__ == '__main__':\n",
    "    lista: list[int] = [2, 5, 1, 0, 89, 23]\n",
    "    print(f'O maior valor na lista{lista} é : {maior_valor(lista)}')\n",
    "\n"
   ]
  }
 ],
 "metadata": {
  "kernelspec": {
   "display_name": "Python 3",
   "language": "python",
   "name": "python3"
  },
  "language_info": {
   "codemirror_mode": {
    "name": "ipython",
    "version": 3
   },
   "file_extension": ".py",
   "mimetype": "text/x-python",
   "name": "python",
   "nbconvert_exporter": "python",
   "pygments_lexer": "ipython3",
   "version": "3.11.9"
  }
 },
 "nbformat": 4,
 "nbformat_minor": 2
}

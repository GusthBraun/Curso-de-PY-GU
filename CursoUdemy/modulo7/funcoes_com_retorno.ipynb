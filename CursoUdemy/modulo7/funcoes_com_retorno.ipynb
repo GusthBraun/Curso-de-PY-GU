{
 "cells": [
  {
   "cell_type": "markdown",
   "metadata": {},
   "source": [
    "funções com retorno\n",
    "\n",
    "OBS: Em python quando uma função não retorna nenhum valor, o retorno é None\n",
    "\n",
    "OBS: funções Python que retornam valores, devem retornar estes valores com a palavra reservada return\n",
    "\n",
    "OBS: Não precisamos necessariamente criar uma variável para receber o retorno de uma função. Podemos passsar a execução para outras funções.\n"
   ]
  },
  {
   "cell_type": "code",
   "execution_count": null,
   "metadata": {},
   "outputs": [],
   "source": [
    "#vamos refatorar esta função para que ela retorne o valor\n",
    "\n",
    "def quadrado_de_7():\n",
    "    return 7 * 7\n",
    "\n",
    "# criamos uma variável para receber o retorno da função\n",
    "ret = quadrado_de_7()\n",
    "\n",
    "print(f'Retorno {ret}')"
   ]
  },
  {
   "cell_type": "code",
   "execution_count": 1,
   "metadata": {},
   "outputs": [
    {
     "name": "stdout",
     "output_type": "stream",
     "text": [
      "oi!\n"
     ]
    }
   ],
   "source": [
    "#refatorando a primeira função \n",
    "\n",
    "def diz_oi():\n",
    "    return 'oi!'\n",
    "\n",
    "print(diz_oi())\n",
    "\n"
   ]
  }
 ],
 "metadata": {
  "kernelspec": {
   "display_name": "Python 3",
   "language": "python",
   "name": "python3"
  },
  "language_info": {
   "codemirror_mode": {
    "name": "ipython",
    "version": 3
   },
   "file_extension": ".py",
   "mimetype": "text/x-python",
   "name": "python",
   "nbconvert_exporter": "python",
   "pygments_lexer": "ipython3",
   "version": "3.11.9"
  }
 },
 "nbformat": 4,
 "nbformat_minor": 2
}

{
 "cells": [
  {
   "cell_type": "markdown",
   "metadata": {},
   "source": [
    "Funções com parâmetro (de entrada)\n",
    "\n",
    "Funções que recebem dados para serem processados dentro da mesma;\n",
    "\n",
    "Se a gente pensar em um programa qualquer, geralmente temos;\n",
    "\n",
    "entrada -> processamento -> saída\n",
    "\n",
    "Se a gente pensar em uma função, já sabemos que temos funções que:\n",
    "-Não possuem entrada;\n",
    "\n",
    "-Não possuem saída;\n",
    "\n",
    "-Possuem entrada mas não possuem saída;\n",
    "\n",
    "-Não possuem entrada mas possuem saída;\n",
    "\n",
    "-Possuem entrada e saída;"
   ]
  },
  {
   "cell_type": "code",
   "execution_count": 1,
   "metadata": {},
   "outputs": [
    {
     "name": "stdout",
     "output_type": "stream",
     "text": [
      "49\n",
      "4\n",
      "9\n"
     ]
    }
   ],
   "source": [
    "# Refatorando uma função:\n",
    "\n",
    "def quadrado(numero):\n",
    "    return numero * numero\n",
    "\n",
    "print(quadrado(7))\n",
    "print(quadrado(2))\n",
    "print(quadrado(3))"
   ]
  },
  {
   "cell_type": "code",
   "execution_count": 4,
   "metadata": {},
   "outputs": [
    {
     "name": "stdout",
     "output_type": "stream",
     "text": [
      "Parabéns pra você\n",
      "Nesta data querida\n",
      "Muitas felicidades\n",
      "Muitos anos de vida\n",
      "Viva o/a Patricia\n"
     ]
    }
   ],
   "source": [
    "def cantar_parabens(aniversariante):\n",
    "    print('Parabéns pra você')\n",
    "    print('Nesta data querida')\n",
    "    print('Muitas felicidades')\n",
    "    print('Muitos anos de vida')\n",
    "    print(f'Viva o/a {aniversariante}')\n",
    "\n",
    "\n",
    "cantar_parabens('Patricia')"
   ]
  }
 ],
 "metadata": {
  "kernelspec": {
   "display_name": "Python 3",
   "language": "python",
   "name": "python3"
  },
  "language_info": {
   "codemirror_mode": {
    "name": "ipython",
    "version": 3
   },
   "file_extension": ".py",
   "mimetype": "text/x-python",
   "name": "python",
   "nbconvert_exporter": "python",
   "pygments_lexer": "ipython3",
   "version": "3.11.9"
  }
 },
 "nbformat": 4,
 "nbformat_minor": 2
}

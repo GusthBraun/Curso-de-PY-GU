{
 "cells": [
  {
   "cell_type": "markdown",
   "metadata": {},
   "source": [
    "Escrevendo em arquivos\n",
    "\n",
    "para abrir arquivos para escrita a gente tem que abrir ele de forma diferente\n",
    "\n",
    "Para abrir um arquivo para ler não podemos escrever nele, então a mesma coisa é inverso.\n",
    "\n",
    "Ao abrir um arquivo para escriva, o arquivo é criado pelo proprio sistema operacional"
   ]
  },
  {
   "cell_type": "code",
   "execution_count": 1,
   "metadata": {},
   "outputs": [],
   "source": [
    "#Exemplo de escrita\n",
    "\n",
    "with open('novo.txt', 'w') as arquivo:\n",
    "    arquivo.write('Escrever dado em arquivos é muito fácil.\\n')\n",
    "    arquivo.write('Podemos escrever quantas linhas queremos.\\n')\n",
    "    arquivo.write('Esta é a última linha')\n",
    "\n"
   ]
  },
  {
   "cell_type": "markdown",
   "metadata": {},
   "source": [
    "Para escrevermos dados em um arquivo, após abrir o arquivo utilizamos a função write() essa função recebe uma string como parâmetro, caso contrario teremos um TypeError "
   ]
  },
  {
   "cell_type": "code",
   "execution_count": null,
   "metadata": {},
   "outputs": [],
   "source": [
    "with open('novo.txt', 'w') as arquivo:\n",
    "    arquivo.write('Novos dados\\n')\n",
    "    arquivo.write('Podemos escrever quantas linhas queremos.\\n')\n",
    "    arquivo.write('Esta é a última linha')"
   ]
  },
  {
   "cell_type": "markdown",
   "metadata": {},
   "source": [
    "Abrindo um arquvido para escrita com o modo 'w', se o arquivo não existir será criado, caso ele já exista, o anterior será aparagado e um novo será criado. Dessa forma todo o conteúdo no arquvio anterior é perdido. "
   ]
  },
  {
   "cell_type": "code",
   "execution_count": 9,
   "metadata": {},
   "outputs": [],
   "source": [
    "with open('geek.txt', 'w') as arquivo:\n",
    "    arquivo.write('Geek \\n' *1000)\n",
    "\n",
    "#isso vai escrever geek 1000 vezes pois tudo que da para fazer com string ele pode fazer"
   ]
  },
  {
   "cell_type": "code",
   "execution_count": 10,
   "metadata": {},
   "outputs": [],
   "source": [
    "with open('frutas.txt', 'w') as arquivo:\n",
    "    while True:\n",
    "        fruta = input('Informe uma fruta ou digite \"sair\": ')\n",
    "        if fruta.lower() == 'sair':\n",
    "            break\n",
    "        arquivo.write(fruta + '\\n')"
   ]
  }
 ],
 "metadata": {
  "kernelspec": {
   "display_name": "Python 3",
   "language": "python",
   "name": "python3"
  },
  "language_info": {
   "codemirror_mode": {
    "name": "ipython",
    "version": 3
   },
   "file_extension": ".py",
   "mimetype": "text/x-python",
   "name": "python",
   "nbconvert_exporter": "python",
   "pygments_lexer": "ipython3",
   "version": "3.11.9"
  }
 },
 "nbformat": 4,
 "nbformat_minor": 2
}

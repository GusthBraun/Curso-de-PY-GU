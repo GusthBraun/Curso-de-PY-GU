{
 "cells": [
  {
   "cell_type": "markdown",
   "metadata": {},
   "source": [
    "Sistema de Arquivo - Manipulação"
   ]
  },
  {
   "cell_type": "code",
   "execution_count": 6,
   "metadata": {},
   "outputs": [
    {
     "name": "stdout",
     "output_type": "stream",
     "text": [
      "False\n",
      "True\n",
      "False\n"
     ]
    }
   ],
   "source": [
    "import os\n",
    "\n",
    "#descubrindo se um arquivo ou diretório existe\n",
    "print(os.path.exists('arquivo.txt'))#false\n",
    "print(os.path.exists('frutas.txt'))#true\n",
    "\n",
    "#diretório\n",
    "print(os.path.exists('ESTUDOS PY'))"
   ]
  },
  {
   "cell_type": "markdown",
   "metadata": {},
   "source": [
    "# Criando arquivos"
   ]
  },
  {
   "cell_type": "code",
   "execution_count": 13,
   "metadata": {},
   "outputs": [],
   "source": [
    "#forma 1\n",
    "open('arquivo-teste.txt', 'w').close()\n",
    "\n",
    "#Forma 2\n",
    "open('arquivo-teste2.txt', 'a').close()\n",
    "\n",
    "#forma 3\n",
    "\n",
    "with open('arquivo-teste3.txt','w') as arquivo:\n",
    "    pass\n"
   ]
  },
  {
   "cell_type": "markdown",
   "metadata": {},
   "source": [
    "# fazer isso no windows"
   ]
  },
  {
   "cell_type": "code",
   "execution_count": 12,
   "metadata": {},
   "outputs": [
    {
     "name": "stdout",
     "output_type": "stream",
     "text": [
      "Diretório criado com sucesso em: C:\\Users\\VIA PARQUE\\Estudos PY\\meu_novo_diretorio\n"
     ]
    }
   ],
   "source": [
    "import os\n",
    "\n",
    "# Define o caminho base e o nome do novo diretório\n",
    "caminho_base = r'C:\\Users\\VIA PARQUE\\Estudos PY'\n",
    "nome_novo_diretorio = 'meu_novo_diretorio'  # Substitua pelo nome desejado\n",
    "\n",
    "# Combina os caminhos (evita problemas com barras)\n",
    "caminho_completo = os.path.join(caminho_base, nome_novo_diretorio)\n",
    "\n",
    "try:\n",
    "    # Tenta criar o diretório\n",
    "    os.makedirs(caminho_completo, exist_ok=True)\n",
    "    print(f\"Diretório criado com sucesso em: {caminho_completo}\")\n",
    "except Exception as e:\n",
    "    print(f\"Erro ao criar diretório: {e}\")"
   ]
  },
  {
   "cell_type": "markdown",
   "metadata": {},
   "source": [
    "# Renomear"
   ]
  },
  {
   "cell_type": "code",
   "execution_count": 14,
   "metadata": {},
   "outputs": [],
   "source": [
    "os.rename('frutas.txt', 'cesta.txt')\n",
    "\n",
    "#OBS: tome cuidado com os comando de deleção ao deltarmos um arquivo ele não vão para a liveix ales somem."
   ]
  },
  {
   "cell_type": "markdown",
   "metadata": {},
   "source": [
    "# remover"
   ]
  },
  {
   "cell_type": "code",
   "execution_count": null,
   "metadata": {},
   "outputs": [],
   "source": [
    "#removendo arquivos\n",
    "os.remove('geek.txt')\n",
    "\n",
    "#OBS: se você estiver no Windows e o arquivo que você for deletar estiver em uso, você tera um erro.\n",
    "\n",
    "#Caso o arquvio não exista teremos o FileNotFoundError\n",
    "\n",
    "#OBS: se vc informar um diretoria invz de um arquivo, teremos um IsADirectoryError"
   ]
  }
 ],
 "metadata": {
  "kernelspec": {
   "display_name": "Python 3",
   "language": "python",
   "name": "python3"
  },
  "language_info": {
   "codemirror_mode": {
    "name": "ipython",
    "version": 3
   },
   "file_extension": ".py",
   "mimetype": "text/x-python",
   "name": "python",
   "nbconvert_exporter": "python",
   "pygments_lexer": "ipython3",
   "version": "3.11.9"
  }
 },
 "nbformat": 4,
 "nbformat_minor": 2
}

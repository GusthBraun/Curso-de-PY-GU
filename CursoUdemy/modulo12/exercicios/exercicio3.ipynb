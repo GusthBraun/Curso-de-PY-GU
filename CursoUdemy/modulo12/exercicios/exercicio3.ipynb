{
 "cells": [
  {
   "cell_type": "markdown",
   "metadata": {},
   "source": [
    "3. Faça um programa que receba do usuário o nome de um arquivo texto e mostre na tela quantas linhas este arquivo possui."
   ]
  },
  {
   "cell_type": "code",
   "execution_count": 1,
   "metadata": {},
   "outputs": [
    {
     "name": "stdout",
     "output_type": "stream",
     "text": [
      "Existem(m) 15 linhas(s) no arquivo\n"
     ]
    }
   ],
   "source": [
    "arquivo: str = input('informe o nome de arquivo para abrir: ')\n",
    "\n",
    "with open(arquivo, 'r') as arq:\n",
    "    linhas = arq.readlines()\n",
    "\n",
    "print(f'Existem(m) {len(linhas)} linhas(s) no arquivo')"
   ]
  }
 ],
 "metadata": {
  "kernelspec": {
   "display_name": "Python 3",
   "language": "python",
   "name": "python3"
  },
  "language_info": {
   "codemirror_mode": {
    "name": "ipython",
    "version": 3
   },
   "file_extension": ".py",
   "mimetype": "text/x-python",
   "name": "python",
   "nbconvert_exporter": "python",
   "pygments_lexer": "ipython3",
   "version": "3.11.9"
  }
 },
 "nbformat": 4,
 "nbformat_minor": 2
}

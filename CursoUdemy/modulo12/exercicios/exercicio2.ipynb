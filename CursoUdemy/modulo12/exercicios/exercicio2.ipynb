{
 "cells": [
  {
   "cell_type": "markdown",
   "metadata": {},
   "source": [
    "2. Faça um programa que receba do usuário o nome de um arquivo texto e mostre na tela quantas letras são vogais e quantas são consoantes."
   ]
  },
  {
   "cell_type": "code",
   "execution_count": 2,
   "metadata": {},
   "outputs": [
    {
     "name": "stdout",
     "output_type": "stream",
     "text": [
      "Existem(m) 4 vogais no arquivo.\n",
      "Existem(m) 11 consoantes no arquivo.\n"
     ]
    }
   ],
   "source": [
    "import os\n",
    "\n",
    "vogais: int = 0\n",
    "consoantes: int = 0\n",
    "arquivo:str = input('informe o nome do arquivo para abrir: ')\n",
    "\n",
    "with open(arquivo, 'r') as arq:\n",
    "    for linha in arq:\n",
    "        for caractere in linha.lower():\n",
    "            if caractere in {'a', 'e', 'i', 'o', 'u'}:\n",
    "                vogais += 1\n",
    "            elif caractere.isalpha():\n",
    "                consoantes += 1\n",
    "\n",
    "if vogais > 0:\n",
    "    print(f'Existem(m) {vogais} vogais no arquivo.')\n",
    "else:\n",
    "    print('Não existem vogais no arquivo')\n",
    "\n",
    "if consoantes > 0:\n",
    "    print(f'Existem(m) {consoantes} consoantes no arquivo.')\n",
    "else:\n",
    "    print('Não existem consosantes no arquivo')"
   ]
  }
 ],
 "metadata": {
  "kernelspec": {
   "display_name": "Python 3",
   "language": "python",
   "name": "python3"
  },
  "language_info": {
   "codemirror_mode": {
    "name": "ipython",
    "version": 3
   },
   "file_extension": ".py",
   "mimetype": "text/x-python",
   "name": "python",
   "nbconvert_exporter": "python",
   "pygments_lexer": "ipython3",
   "version": "3.11.9"
  }
 },
 "nbformat": 4,
 "nbformat_minor": 2
}

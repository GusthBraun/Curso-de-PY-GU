{
 "cells": [
  {
   "cell_type": "markdown",
   "metadata": {},
   "source": [
    "1. Crie um programa que: \n",
    "    A. Crie/abra um arquivo texto de nome \"arq.txt\"\n",
    "    B. Permita que o usuário grave diversos caracteres nesse arquivo, até que o uauário entre com o caractere \"0\".\n",
    "    C. Feche o arquivo\n",
    "    D. Abra, leia o arquivo e escreva na tela todos os caracteres armazenados.\n",
    "    "
   ]
  },
  {
   "cell_type": "code",
   "execution_count": 1,
   "metadata": {},
   "outputs": [
    {
     "name": "stdout",
     "output_type": "stream",
     "text": [
      "a\n",
      "\n",
      "b\n",
      "\n",
      "c\n",
      "\n",
      "d\n",
      "\n",
      "e\n",
      "\n",
      "f\n",
      "\n",
      "g\n",
      "\n",
      "h\n",
      "\n",
      "i\n",
      "\n",
      "j\n",
      "\n",
      "l\n",
      "\n",
      "n\n",
      "\n",
      "o\n",
      "\n",
      "p\n",
      "\n",
      "q\n",
      "\n"
     ]
    }
   ],
   "source": [
    "#cria o arquivo e abre ele para inserir\n",
    "with open ('arq.txt' , 'a') as arquivo:\n",
    "    while True:\n",
    "        caractere: str = input ('informe um caractere ou 0 para sair: ')\n",
    "        #condições para saida do loop de caractere\n",
    "        if caractere != '0':\n",
    "            arquivo.write(f'{caractere}\\n')\n",
    "        else:\n",
    "            break\n",
    "#separar cada caractere em usa linha\n",
    "with open('arq.txt', 'r') as arquivo:\n",
    "    linhas = arquivo.readlines()\n",
    "#printar os linhas \n",
    "for linha in linhas:\n",
    "    print(linha)\n"
   ]
  }
 ],
 "metadata": {
  "kernelspec": {
   "display_name": "Python 3",
   "language": "python",
   "name": "python3"
  },
  "language_info": {
   "codemirror_mode": {
    "name": "ipython",
    "version": 3
   },
   "file_extension": ".py",
   "mimetype": "text/x-python",
   "name": "python",
   "nbconvert_exporter": "python",
   "pygments_lexer": "ipython3",
   "version": "3.11.9"
  }
 },
 "nbformat": 4,
 "nbformat_minor": 2
}

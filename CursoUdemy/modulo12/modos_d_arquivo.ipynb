{
 "cells": [
  {
   "cell_type": "markdown",
   "metadata": {},
   "source": [
    "# Modos de Abertura de Arquivo\n",
    "\n",
    "r -> Abre para leitura - padrão\n",
    "\n",
    "w -> Abre para escrita - sobrescreve caso o arquivo já contenha algo \n",
    "\n",
    "x -> Abre para escrita somente se o arquivo não existir.\n",
    "\n",
    "a -> Abre para escrita adicionando o conteudo ao final do arquivo.\n",
    "\n",
    "'+' -> Abre para o modo de atualizaçã: Leitura e Escrita(Temos o controle do cursor)\n"
   ]
  },
  {
   "cell_type": "code",
   "execution_count": 3,
   "metadata": {},
   "outputs": [
    {
     "name": "stdout",
     "output_type": "stream",
     "text": [
      "Arquivo já existe\n"
     ]
    }
   ],
   "source": [
    "try:\n",
    "    with open('inversity.txt', 'x') as arquivo:\n",
    "        arquivo.write('Teste de conteúdo.\\n')\n",
    "except FileExistsError:\n",
    "    print('Arquivo já existe')"
   ]
  },
  {
   "cell_type": "code",
   "execution_count": 2,
   "metadata": {},
   "outputs": [],
   "source": [
    "with open('frutas.txt', 'a') as arquivo:\n",
    "    while True:\n",
    "        fruta = input('Informe uma fruta ou sair')\n",
    "        if fruta != 'sair':    \n",
    "            arquivo.write(fruta)\n",
    "            arquivo.write('\\n')\n",
    "        else:\n",
    "            break"
   ]
  },
  {
   "cell_type": "markdown",
   "metadata": {},
   "source": [
    "Aqui estamos escrevendo no final do arquivo mas como fariamos para escrever no começo do arquivo "
   ]
  },
  {
   "cell_type": "code",
   "execution_count": 4,
   "metadata": {},
   "outputs": [],
   "source": [
    "with open('outro.txt', 'a+') as arquivo:\n",
    "    arquivo.write('No topo!\\n')\n",
    "    arquivo.write('nova linha. \\n')\n",
    "    arquivo.write('Mais uma linha. \\n')\n"
   ]
  }
 ],
 "metadata": {
  "kernelspec": {
   "display_name": "Python 3",
   "language": "python",
   "name": "python3"
  },
  "language_info": {
   "codemirror_mode": {
    "name": "ipython",
    "version": 3
   },
   "file_extension": ".py",
   "mimetype": "text/x-python",
   "name": "python",
   "nbconvert_exporter": "python",
   "pygments_lexer": "ipython3",
   "version": "3.11.9"
  }
 },
 "nbformat": 4,
 "nbformat_minor": 2
}

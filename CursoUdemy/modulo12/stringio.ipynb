{
 "cells": [
  {
   "cell_type": "markdown",
   "metadata": {},
   "source": [
    "# String IO\n",
    "\n",
    "Atenção: Para ler ou escrever dados em arquivos do sistema operacional o sftware precisa ter permissão:\n",
    "+ permição de leitura -> para ler o arquivo\n",
    "+ permição de Escrita -> para escrever o arquivo\n",
    "\n",
    "StringIO -> utilizado para ler e criar arquivos em memória."
   ]
  },
  {
   "cell_type": "code",
   "execution_count": null,
   "metadata": {},
   "outputs": [],
   "source": [
    "#primeiro fazemos o import\n",
    "from io import StringIO\n",
    "\n",
    "mensagem = 'Este é apenas a string normal'\n",
    "\n",
    "#podemos crira um arquivo em memória já com uma string inserida ou mesmo vazio para inserirmos texto depois\n",
    "arquivo = StringIO(mensagem)\n",
    "#arquivo = open('arquivo.txt', 'w')\n",
    "\n",
    "#Agora tendo o arquivo, podemos utilizar tudo que já sabemos\n",
    "print(arquivo.read())\n",
    "\n",
    "#Escrevendo outros textos\n",
    "arquivo.write('outro texto')\n",
    "\n",
    "#podemos inclusive movimentar o cursor\n",
    "arquivo.seek(0)"
   ]
  }
 ],
 "metadata": {
  "language_info": {
   "name": "python"
  }
 },
 "nbformat": 4,
 "nbformat_minor": 2
}

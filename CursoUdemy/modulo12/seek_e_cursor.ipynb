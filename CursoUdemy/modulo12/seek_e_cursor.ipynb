{
 "cells": [
  {
   "cell_type": "markdown",
   "metadata": {},
   "source": [
    "Seek e Cursors\n",
    "\n",
    "seek() -> É utilizada para movimentar o cursor pelo arquivo."
   ]
  },
  {
   "cell_type": "code",
   "execution_count": 5,
   "metadata": {},
   "outputs": [
    {
     "name": "stdout",
     "output_type": "stream",
     "text": [
      "Eu estou estudando na Geek University e estou aprendendo muito no curso de programaÃ§Ã£o em Python: Essencial\n",
      "Este cruso estÃ¡ me ajudando a ficar experty em Python.\n",
      "Neste momento, estou aprendendoa trabalhar com arquivos.\n",
      "Outras coisas escritas\n",
      "Novamente vamos\n",
      "Ainda estamos escrevendo\n",
      "Geek University e estou aprendendo muito no curso de programaÃ§Ã£o em Python: Essencial\n",
      "Este cruso estÃ¡ me ajudando a ficar experty em Python.\n",
      "Neste momento, estou aprendendoa trabalhar com arquivos.\n",
      "Outras coisas escritas\n",
      "Novamente vamos\n",
      "Ainda estamos escrevendo\n"
     ]
    }
   ],
   "source": [
    "arquivo = open('texto.txt')\n",
    "\n",
    "# Com a função read() podemos limitar a quantidade de caracteres a serem lidos no arquivo \n",
    "# por exemplo se tu colocar um numero nos () vai apenas ler o numero q vc colocou\n",
    "print(arquivo.read())\n",
    "\n",
    "#Seek() -> A função seek() é utilizada para movimentação do cursor pelo arquivo. Ela recebe um parâmetro que indica que queremos colocar o cursor.\n",
    "\n",
    "arquivo.seek(22)\n",
    "\n",
    "print(arquivo.read())\n",
    "\n",
    "arquivo.close()"
   ]
  },
  {
   "cell_type": "code",
   "execution_count": 6,
   "metadata": {},
   "outputs": [
    {
     "name": "stdout",
     "output_type": "stream",
     "text": [
      "<class 'str'>\n",
      "Eu estou estudando na Geek University e estou aprendendo muito no curso de programaÃ§Ã£o em Python: Essencial\n",
      "\n",
      "['Eu', 'estou', 'estudando', 'na', 'Geek', 'University', 'e', 'estou', 'aprendendo', 'muito', 'no', 'curso', 'de', 'programaÃ§Ã£o', 'em', 'Python:', 'Essencial\\n']\n"
     ]
    }
   ],
   "source": [
    "arquivo = open('texto.txt')\n",
    "\n",
    "# readline() -> Função que lê o arquivo linha a linha\n",
    "\n",
    "ret = arquivo.readline()\n",
    "\n",
    "print(type (ret))\n",
    "\n",
    "print(ret)\n",
    "\n",
    "print(ret.split(' '))\n",
    "\n",
    "arquivo.close()"
   ]
  },
  {
   "cell_type": "markdown",
   "metadata": {},
   "source": [
    "Quando Abrimos um arquivo com a função open() é criada uma conexão entre o arquivo no disco do computador e o nosso programa. Essa conexão é chamada de streaming. Ao finalizar os trabalho com o arquivo devemos fechar essa conexão; Para isso utilizamos a função close() \n",
    "\n",
    "# Passo para se trabalhar com um arquivo:\n",
    "\n",
    "1- Abrir o arquivo;\n",
    "\n",
    "2- Trabalhar com o arquivo;\n",
    "\n",
    "3 -Fechar o arquivo;\n"
   ]
  },
  {
   "cell_type": "code",
   "execution_count": 9,
   "metadata": {},
   "outputs": [
    {
     "name": "stdout",
     "output_type": "stream",
     "text": [
      "Eu estou estudando na Geek University e estou aprendendo muito no curso de programaÃ§Ã£o em Python: Essencial\n",
      "Este cruso estÃ¡ me ajudando a ficar experty em Python.\n",
      "Neste momento, estou aprendendoa trabalhar com arquivos.\n",
      "Outras coisas escritas\n",
      "Novamente vamos\n",
      "Ainda estamos escrevendo\n",
      "False\n",
      "True\n"
     ]
    }
   ],
   "source": [
    "#Passo para se trabalhar com um arquivo:\n",
    "\n",
    "#1- Abrir o arquivo;\n",
    "arquivo = open('texto.txt')\n",
    "\n",
    "#2- Trabalhar com o arquivo;\n",
    "print(arquivo.read())\n",
    "\n",
    "print(arquivo.closed) #False|indica que o arquivo está aberto ou fechado\n",
    "\n",
    "#3 -Fechar o arquivo;\n",
    "arquivo.close()\n",
    "\n",
    "print(arquivo.closed) #True |indica que o arquivo está aberto ou fechado"
   ]
  }
 ],
 "metadata": {
  "kernelspec": {
   "display_name": "Python 3",
   "language": "python",
   "name": "python3"
  },
  "language_info": {
   "codemirror_mode": {
    "name": "ipython",
    "version": 3
   },
   "file_extension": ".py",
   "mimetype": "text/x-python",
   "name": "python",
   "nbconvert_exporter": "python",
   "pygments_lexer": "ipython3",
   "version": "3.11.9"
  }
 },
 "nbformat": 4,
 "nbformat_minor": 2
}

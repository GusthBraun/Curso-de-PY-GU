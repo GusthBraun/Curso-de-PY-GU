{
 "cells": [
  {
   "cell_type": "markdown",
   "metadata": {},
   "source": [
    "# Leitura de Arquivos\n",
    "\n",
    "Para o conteúdo de um arquivo em Pyhton, utilizamos a função integrada open(), que literalmente significa 'abrir'.\n",
    "\n",
    "open() -> Na forma mais simples de utilização nós passamos apenas um parâmetro de entrada, que neste caso é o caminho para o arquvio a ser lido. Essa função retorna um _io.TextOWrapper e é com ele que trabalhamos então.\n",
    "\n",
    "OBS: Por padrão, a função open() abre o arquivo para leitura. Este arquivo deve existir, ou então teremos o erro FileNotFoundError\n"
   ]
  },
  {
   "cell_type": "code",
   "execution_count": 5,
   "metadata": {},
   "outputs": [
    {
     "name": "stdout",
     "output_type": "stream",
     "text": [
      "<_io.TextIOWrapper name='texto.txt' mode='r' encoding='cp1252'>\n",
      "<class '_io.TextIOWrapper'>\n",
      "Eu estou estudando Python e demora mas Ã© recompensador.\n",
      "\n",
      "sinistro\n",
      "\n",
      "\n",
      "\n",
      "\n"
     ]
    }
   ],
   "source": [
    "#exemplo\n",
    "\n",
    "arquivo = open('texto.txt')# aqui a gente abre\n",
    "\n",
    "print(arquivo)\n",
    "\n",
    "print(type(arquivo))\n",
    "\n",
    "\n",
    "#Para ler o conteúdo de um arquivo, após sua abertura, devemos utilizar a função read()\n",
    "\n",
    "print(arquivo.read())\n",
    "\n",
    "#OBS: O Python, utiliza um recurso para trabalhar com arquivos chamado cursos. Esse cursor, funciona como o cursor quando estamos escrevendo.\n",
    "\n"
   ]
  }
 ],
 "metadata": {
  "kernelspec": {
   "display_name": "Python 3",
   "language": "python",
   "name": "python3"
  },
  "language_info": {
   "codemirror_mode": {
    "name": "ipython",
    "version": 3
   },
   "file_extension": ".py",
   "mimetype": "text/x-python",
   "name": "python",
   "nbconvert_exporter": "python",
   "pygments_lexer": "ipython3",
   "version": "3.11.9"
  }
 },
 "nbformat": 4,
 "nbformat_minor": 2
}

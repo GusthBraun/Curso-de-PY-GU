{
 "cells": [
  {
   "cell_type": "markdown",
   "metadata": {},
   "source": [
    "o Bloco with\n",
    "\n",
    "passos para se trabalhar com arquivos\n",
    "\n",
    "#1 - abrimos o arquivo\n",
    "\n",
    "#2 - manipulamos o arquivo\n",
    "\n",
    "#3 - Fechamos o arquivo\n",
    "\n",
    "o bloco with é utilizado para criar um contexto de trabalho onde os recursos utilizados são fehcados após o bloco with.\n",
    "\n",
    "# o block with: é a forma Pyrhonica de manipular arquivos"
   ]
  },
  {
   "cell_type": "code",
   "execution_count": 1,
   "metadata": {},
   "outputs": [
    {
     "name": "stdout",
     "output_type": "stream",
     "text": [
      "['Eu estou estudando na Geek University e estou aprendendo muito no curso de programaÃ§Ã£o em Python: Essencial\\n', 'Este cruso estÃ¡ me ajudando a ficar experty em Python.\\n', 'Neste momento, estou aprendendoa trabalhar com arquivos.\\n', 'Outras coisas escritas\\n', 'Novamente vamos\\n', 'Ainda estamos escrevendo']\n",
      "False\n",
      "True\n"
     ]
    }
   ],
   "source": [
    "with open('texto.txt') as arquivo: #ele abre e fecha o arquivo normalmente sem ter de manipular\n",
    "    print(arquivo.readlines())\n",
    "    print(arquivo.closed)\n",
    "\n",
    "print(arquivo.closed)"
   ]
  }
 ],
 "metadata": {
  "kernelspec": {
   "display_name": "Python 3",
   "language": "python",
   "name": "python3"
  },
  "language_info": {
   "codemirror_mode": {
    "name": "ipython",
    "version": 3
   },
   "file_extension": ".py",
   "mimetype": "text/x-python",
   "name": "python",
   "nbconvert_exporter": "python",
   "pygments_lexer": "ipython3",
   "version": "3.11.9"
  }
 },
 "nbformat": 4,
 "nbformat_minor": 2
}

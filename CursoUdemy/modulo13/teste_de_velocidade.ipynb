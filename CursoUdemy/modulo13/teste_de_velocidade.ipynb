{
 "cells": [
  {
   "cell_type": "code",
   "execution_count": 1,
   "metadata": {},
   "outputs": [
    {
     "name": "stdout",
     "output_type": "stream",
     "text": [
      "<generator object nums at 0x0000019E5B5569B0>\n",
      "1\n",
      "2\n",
      "<generator object <genexpr> at 0x0000019E5B5568E0>\n",
      "1\n",
      "2\n"
     ]
    }
   ],
   "source": [
    "#Generator (geradores)\n",
    "\n",
    "def nums():\n",
    "    for num in range (1, 10):\n",
    "        yield num\n",
    "\n",
    "gel = nums()\n",
    "\n",
    "print(gel)\n",
    "\n",
    "print(next(gel))\n",
    "print(next(gel))\n",
    "\n",
    "#Generator Expression \n",
    "ge2 = (num for num in range (1,10))\n",
    "\n",
    "print(ge2)\n",
    "\n",
    "print(next(ge2))\n",
    "print(next(ge2))"
   ]
  },
  {
   "cell_type": "code",
   "execution_count": 5,
   "metadata": {},
   "outputs": [
    {
     "name": "stdout",
     "output_type": "stream",
     "text": [
      "49999995000000\n",
      "49999995000000\n",
      "Generator Expression levou 1.215768575668335\n",
      "List comprehension levou 2.276298761367798\n"
     ]
    }
   ],
   "source": [
    "#Realizando o teste de velocidade\n",
    "\n",
    "import time\n",
    "\n",
    "#generator Expression\n",
    "\n",
    "gen_inicio = time.time()\n",
    "print(sum(num for num in range(10000000)))\n",
    "gen_tempo = time.time() - gen_inicio\n",
    "\n",
    "\n",
    "# List Comprehention\n",
    "\n",
    "list_inicio = time.time()\n",
    "print(sum([num for num in range(10000000)]))\n",
    "list_tempo = time.time() -list_inicio\n",
    "\n",
    "print(f'Generator Expression levou {gen_tempo}')\n",
    "print(f'List comprehension levou {list_tempo}')"
   ]
  }
 ],
 "metadata": {
  "kernelspec": {
   "display_name": "Python 3",
   "language": "python",
   "name": "python3"
  },
  "language_info": {
   "codemirror_mode": {
    "name": "ipython",
    "version": 3
   },
   "file_extension": ".py",
   "mimetype": "text/x-python",
   "name": "python",
   "nbconvert_exporter": "python",
   "pygments_lexer": "ipython3",
   "version": "3.11.9"
  }
 },
 "nbformat": 4,
 "nbformat_minor": 2
}

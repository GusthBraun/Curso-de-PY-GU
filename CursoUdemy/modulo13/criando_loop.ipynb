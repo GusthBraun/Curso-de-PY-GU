{
 "cells": [
  {
   "cell_type": "markdown",
   "metadata": {},
   "source": [
    "# Criando sua própria versão de loop\n",
    "\n",
    "    "
   ]
  },
  {
   "cell_type": "code",
   "execution_count": null,
   "metadata": {},
   "outputs": [],
   "source": [
    "for num in [1, 2, 3, 4, 5]:\n",
    "    print(num)\n",
    "\n",
    "\n",
    "    for letra in 'Geek university':\n",
    "        print(letra)\n",
    "\n",
    "#por baixo dos panos ele pega e aplica a função iter dentro dos valores do iterator e aplica next confome o loop\n",
    "\n",
    "def meu_for(interavel):\n",
    "    it = iter(interavel)\n",
    "    while True:\n",
    "        try:\n",
    "            print(next(it))\n",
    "        except StopIteration:\n",
    "            break\n",
    "\n",
    "meu_for('Geek University')\n",
    "\n",
    "numeros = [1, 2, 3, 4, 5]\n",
    "\n",
    "meu_for(numeros)"
   ]
  },
  {
   "cell_type": "code",
   "execution_count": 1,
   "metadata": {},
   "outputs": [
    {
     "name": "stdout",
     "output_type": "stream",
     "text": [
      "o nome dele é henrique\n"
     ]
    }
   ],
   "source": [
    "print('o nome dele é henrique')"
   ]
  },
  {
   "cell_type": "markdown",
   "metadata": {},
   "source": []
  }
 ],
 "metadata": {
  "kernelspec": {
   "display_name": "Python 3",
   "language": "python",
   "name": "python3"
  },
  "language_info": {
   "codemirror_mode": {
    "name": "ipython",
    "version": 3
   },
   "file_extension": ".py",
   "mimetype": "text/x-python",
   "name": "python",
   "nbconvert_exporter": "python",
   "pygments_lexer": "ipython3",
   "version": "3.11.9"
  }
 },
 "nbformat": 4,
 "nbformat_minor": 2
}

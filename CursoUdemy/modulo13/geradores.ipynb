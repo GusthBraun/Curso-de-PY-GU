{
 "cells": [
  {
   "cell_type": "markdown",
   "metadata": {},
   "source": [
    "# Geradores (Generators) são Iterators (Iteradores);\n",
    "\n",
    "OBS: 0 contrario não é verdadeiro. Ou seja, nem todo iterator é um generator.\n",
    "\n",
    "## Outras informações:\n",
    "\n",
    "    Generators podem ser criados com funções geradoras;\n",
    "\n",
    "    Como usar a energia de reserva para gerar rendimento;\n",
    "\n",
    "    Generators podem ser criados com Expressões Geradoras;\n",
    "\n",
    "\n",
    "Diferenças entre Funções e Generator Functions (Funções Geradoras)\n",
    "\n",
    "-------------------------------------------------------------------------------\n",
    "| Funções                            | Funções Geradoras                      |\n",
    "-------------------------------------------------------------------------------\n",
    "| utilizam return                    | Utilizam rendimento                   |\n",
    "------------------------------------------------------------------------------\n",
    "| retorna uma vez                    | podem utilizar yield múltiplas vezes  |\n",
    "-------------------------------------------------------------------------------\n",
    "| quando executada, retorna um valor | quanto executada, retorna um generator|\n",
    "-------------------------------------------------------------------------------"
   ]
  },
  {
   "cell_type": "code",
   "execution_count": 1,
   "metadata": {},
   "outputs": [
    {
     "name": "stdout",
     "output_type": "stream",
     "text": [
      "<class 'generator'>\n"
     ]
    }
   ],
   "source": [
    "def conta_Ate(valor_maximo):\n",
    "    contador = 1\n",
    "    while contador <= valor_maximo:\n",
    "        yield contador\n",
    "        contador = contador + 1 \n",
    "\n",
    "    \n",
    "gen = conta_Ate(5)\n",
    "\n",
    "print(type(gen))"
   ]
  }
 ],
 "metadata": {
  "kernelspec": {
   "display_name": "Python 3",
   "language": "python",
   "name": "python3"
  },
  "language_info": {
   "codemirror_mode": {
    "name": "ipython",
    "version": 3
   },
   "file_extension": ".py",
   "mimetype": "text/x-python",
   "name": "python",
   "nbconvert_exporter": "python",
   "pygments_lexer": "ipython3",
   "version": "3.11.9"
  }
 },
 "nbformat": 4,
 "nbformat_minor": 2
}

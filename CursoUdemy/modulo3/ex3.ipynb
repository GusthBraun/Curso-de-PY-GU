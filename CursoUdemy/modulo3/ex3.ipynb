{
 "cells": [
  {
   "cell_type": "code",
   "execution_count": 2,
   "metadata": {},
   "outputs": [
    {
     "name": "stdout",
     "output_type": "stream",
     "text": [
      "o quadrado de 10 com 20 com 30 é: 1400\n"
     ]
    }
   ],
   "source": [
    "#faça um programa que recebe trÊs valores e apresenta a soma dos quadrados dos valores lidos\n",
    "\n",
    "num1 = int(input('entre com um valor:' ))\n",
    "num2 = int(input('entre com um valor:' ))\n",
    "num3 = int(input('entre com um valor:' ))\n",
    "\n",
    "quadrados = (num1 * num1) + (num2*num2) + (num3*num3) \n",
    "\n",
    "print(f\"o quadrado de {num1} com {num2} com {num3} é: {quadrados}\")\n"
   ]
  }
 ],
 "metadata": {
  "kernelspec": {
   "display_name": "Python 3",
   "language": "python",
   "name": "python3"
  },
  "language_info": {
   "codemirror_mode": {
    "name": "ipython",
    "version": 3
   },
   "file_extension": ".py",
   "mimetype": "text/x-python",
   "name": "python",
   "nbconvert_exporter": "python",
   "pygments_lexer": "ipython3",
   "version": "3.11.9"
  }
 },
 "nbformat": 4,
 "nbformat_minor": 2
}

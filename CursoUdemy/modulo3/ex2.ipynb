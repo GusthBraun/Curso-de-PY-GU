{
 "cells": [
  {
   "cell_type": "code",
   "execution_count": 2,
   "metadata": {},
   "outputs": [
    {
     "name": "stdout",
     "output_type": "stream",
     "text": [
      "o valor de soma é:  6\n"
     ]
    }
   ],
   "source": [
    "#2. faça um programa que peça para o usuário digitar 3 valores inteiros e imprima a soma deles \n",
    "\n",
    "num1 = int(input('entre com um valor:' ))\n",
    "num2 = int(input('entre com um valor:' ))\n",
    "num3 = int(input('entre com um valor:' ))\n",
    "\n",
    "\n",
    "soma = num1 + num2+ num3\n",
    "\n",
    "print('o valor de soma é: ', soma)"
   ]
  }
 ],
 "metadata": {
  "kernelspec": {
   "display_name": "Python 3",
   "language": "python",
   "name": "python3"
  },
  "language_info": {
   "codemirror_mode": {
    "name": "ipython",
    "version": 3
   },
   "file_extension": ".py",
   "mimetype": "text/x-python",
   "name": "python",
   "nbconvert_exporter": "python",
   "pygments_lexer": "ipython3",
   "version": "3.11.9"
  }
 },
 "nbformat": 4,
 "nbformat_minor": 2
}

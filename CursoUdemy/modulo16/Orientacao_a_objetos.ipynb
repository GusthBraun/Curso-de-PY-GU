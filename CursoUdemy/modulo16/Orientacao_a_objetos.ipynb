{
 "cells": [
  {
   "cell_type": "markdown",
   "metadata": {},
   "source": [
    "# Programação  Orientação a objetos POO\n",
    "\n",
    "é um paradgma de programação que tem como objetivo mapear objetos do mundo real na computação \n",
    "\n",
    "componentes: \n",
    "\n",
    "- Classe: modelo do objeto real representado computacionalmente \n",
    "- metodos: funções coisas que o objeto faz \n",
    "- construtor: é um metodo especial que é usado para criar a nossa classe\n",
    "- objeto: elementos que a gente cria baseados na nossa classe \n",
    "\n",
    "\n"
   ]
  },
  {
   "cell_type": "code",
   "execution_count": 1,
   "metadata": {},
   "outputs": [
    {
     "name": "stdout",
     "output_type": "stream",
     "text": [
      "10\n",
      "<class 'int'>\n",
      "Geek\n",
      "<class 'str'>\n",
      "<__main__.Produto object at 0x000001C148532A50>\n",
      "<class '__main__.Produto'>\n"
     ]
    }
   ],
   "source": [
    "numero = 10 \n",
    "print(numero)\n",
    "print(type(numero))\n",
    "\n",
    "nome = 'Geek'\n",
    "print(nome)\n",
    "print(type(nome))\n",
    "\n",
    "class Produto:\n",
    "    pass\n",
    "\n",
    "ps4 = Produto()\n",
    "print(ps4)\n",
    "print(type(ps4))"
   ]
  }
 ],
 "metadata": {
  "kernelspec": {
   "display_name": "Python 3",
   "language": "python",
   "name": "python3"
  },
  "language_info": {
   "codemirror_mode": {
    "name": "ipython",
    "version": 3
   },
   "file_extension": ".py",
   "mimetype": "text/x-python",
   "name": "python",
   "nbconvert_exporter": "python",
   "pygments_lexer": "ipython3",
   "version": "3.11.9"
  }
 },
 "nbformat": 4,
 "nbformat_minor": 2
}

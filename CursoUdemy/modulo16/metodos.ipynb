{
 "cells": [
  {
   "cell_type": "markdown",
   "metadata": {},
   "source": [
    "# POO - Métodos\n",
    "\n",
    "- Métodos (funções) -> Representam os comportamentos do objeto. Ou seja, as ações que este objeto pode realizar no seu sistema.\n",
    "\n",
    "Em Python, dividimos os métodos, em 2 grupos: Métodos de instância e metodos de classe.\n"
   ]
  },
  {
   "cell_type": "markdown",
   "metadata": {},
   "source": [
    "# Métodos de Instância\n",
    "\n",
    "- o método dunder init (__init__) é um método especial chamado de construtor e sua função é copnstruir o objeto a partir da classe.\n",
    "\n",
    "- todo elemento em Python que inicia e finaliza em duplo underlin é chamado de dunder\n",
    "\n",
    "- Os métodos/funções dunder em Python são chamados de métodos mágicos.\n",
    "\n",
    "- ATENÇÃO! Por mais que possamos criar nossas próprias funções utilizando dunder não é aconselhado. Python possui vérios métodos com está forma de nomenclatura e pode ser que mudemos o comportamento dessas funções mágicas internas da linguagem. Então, evite ao máximo. De preferência nunca o faça.  \n",
    "\n",
    "Método são escritos em letra minúsculas. Se o nome for composto separa por underlin _"
   ]
  },
  {
   "cell_type": "code",
   "execution_count": 5,
   "metadata": {},
   "outputs": [],
   "source": [
    "from passlib.hash import pbkdf2_sha256 as cryp\n",
    "\n",
    "class Lampada:\n",
    "    def __init__(self, cor, voltagem, luminosidade):\n",
    "        self.__cor = cor          # Corrigido: atribuição correta de 'cor'\n",
    "        self.__voltagem = voltagem  # Atribuição correta de 'voltagem'\n",
    "        self.__luminosidade = luminosidade\n",
    "\n",
    "class ContaCorrente:\n",
    "    contador = 4999\n",
    "\n",
    "    def __init__(self, limite, saldo):\n",
    "        self.__numero = ContaCorrente.contador + 1\n",
    "        self.__limite = limite\n",
    "        self.__saldo = saldo\n",
    "        ContaCorrente.contador = self.__numero\n",
    "\n",
    "class Produto:\n",
    "    # Atributos de classe\n",
    "    contador = 0\n",
    "\n",
    "    def __init__(self, nome, descricao, valor):\n",
    "        self.id = Produto.contador + 1\n",
    "        self.nome = nome\n",
    "        self.descricao = descricao\n",
    "        self.valor = valor    # Corrigido: 'valor' não é privado\n",
    "        Produto.contador = self.id\n",
    "\n",
    "    def desconto(self, porcentagem):\n",
    "        \"\"\"Retorna o valor do produto com o desconto aplicado\"\"\"\n",
    "        return self.valor - (self.valor * (porcentagem / 100))\n",
    "\n",
    "class Usuario:\n",
    "    def __init__(self, nome, sobrenome, email, senha):\n",
    "        self.__nome = nome\n",
    "        self.__sobrenome = sobrenome\n",
    "        self.__email = email\n",
    "        self.__senha = cryp.hash(senha)  # Senha é armazenada criptografada\n",
    "\n",
    "    def nome_completo(self):\n",
    "        return f\"{self.__nome} {self.__sobrenome}\"\n",
    "    \n",
    "    def checa_senha(self, senha):\n",
    "        return cryp.verify(senha, self.__senha)\n",
    "\n",
    "\n",
    "\n"
   ]
  },
  {
   "cell_type": "code",
   "execution_count": 6,
   "metadata": {},
   "outputs": [
    {
     "name": "stdout",
     "output_type": "stream",
     "text": [
      "1150.0\n",
      "1380.0\n",
      "Angelina Jolie\n",
      "Angelina Jolie\n",
      "Felicity Jones\n"
     ]
    }
   ],
   "source": [
    "# Criando um produto\n",
    "p1 = Produto('Playstation 4', 'Video Game', 2300)\n",
    "\n",
    "print(p1.desconto(50))  # Agora retorna corretamente o valor com 50% de desconto\n",
    "\n",
    "print(Produto.desconto(p1, 40))  # Agora funciona corretamente\n",
    "\n",
    "# Criando usuários\n",
    "user1 = Usuario('Angelina', 'Jolie', 'angelina@gmail.com', '123456')\n",
    "user2 = Usuario('Felicity', 'Jones', 'felicity@gmail.com', '654321')\n",
    "\n",
    "print(user1.nome_completo())  # Correto\n",
    "\n",
    "print(Usuario.nome_completo(user1))  # Correto\n",
    "\n",
    "print(user2.nome_completo())  # Correto\n"
   ]
  },
  {
   "cell_type": "code",
   "execution_count": 7,
   "metadata": {},
   "outputs": [
    {
     "name": "stdout",
     "output_type": "stream",
     "text": [
      "Usuário criado com sucesso!\n",
      "Acesso Permitido\n",
      "Senha Criptografada: $pbkdf2-sha256$29000$f2/NWSulNCaEcC6lFCKkFA$cWWJv.TnlQjskPRWz8HX.Tck8uXpDqmEFsisiL.hcXo\n"
     ]
    }
   ],
   "source": [
    "# Coleta de dados do usuário via input\n",
    "nome = input(\"Informe o nome: \")\n",
    "sobrenome = input(\"Informe o sobrenome: \")\n",
    "email = input(\"Informe o email: \")  # Agora o email é coletado\n",
    "senha = input(\"Informe a senha: \")\n",
    "confirma_senha = input(\"Confirme a senha: \")\n",
    "\n",
    "if senha == confirma_senha:\n",
    "    novo_usuario = Usuario(nome, sobrenome, email, senha)\n",
    "else:\n",
    "    print(\"Senha não confere...\")\n",
    "    exit(42)\n",
    "\n",
    "print(\"Usuário criado com sucesso!\")\n",
    "\n",
    "# Testando o acesso com senha\n",
    "senha_acesso = input(\"Informe a senha para acesso: \")\n",
    "if novo_usuario.checa_senha(senha_acesso):\n",
    "    print(\"Acesso Permitido\")\n",
    "else:\n",
    "    print(\"Acesso negado\")\n",
    "\n",
    "# Exibindo a senha criptografada (não recomendado em produção, apenas para teste)\n",
    "print(f\"Senha Criptografada: {novo_usuario._Usuario__senha}\")\n",
    " "
   ]
  },
  {
   "cell_type": "markdown",
   "metadata": {},
   "source": [
    "# Métodos de Classe\n",
    "- Conhecidos como métodos estáticos em outras linguagens. \n",
    "- Não estão vinculados a nenhuma instancia da classe mas na classe em si.\n",
    "- "
   ]
  },
  {
   "cell_type": "code",
   "execution_count": 8,
   "metadata": {},
   "outputs": [],
   "source": [
    "class Usuario:\n",
    "\n",
    "    contador = 0 \n",
    "\n",
    "    @classmethod\n",
    "    def conta_usuarios(cls):\n",
    "        print(f'Classe: [cls]')\n",
    "        print(f'Temos {cls.contador} usuários no sistema')\n",
    "\n",
    "    @classmethod\n",
    "    def ver(cls):\n",
    "        print('Teste')\n",
    "\n",
    "    def __init__(self, nome, sobrenome, email, senha):\n",
    "        self.__id = Usuario.contador + 1\n",
    "        self.__nome = nome\n",
    "        self.__sobrenome = sobrenome\n",
    "        self.__email = email\n",
    "        self.__senha = cryp.hash(senha)  # Senha é armazenada criptografada\n",
    "        Usuario.contador = self.__id\n",
    "\n",
    "    def nome_completo(self):\n",
    "        return f\"{self.__nome} {self.__sobrenome}\"\n",
    "    \n",
    "    def checa_senha(self, senha):\n",
    "        return cryp.verify(senha, self.__senha)\n"
   ]
  },
  {
   "cell_type": "code",
   "execution_count": 9,
   "metadata": {},
   "outputs": [
    {
     "name": "stdout",
     "output_type": "stream",
     "text": [
      "Temos 1 usuários no sistema\n",
      "Temos 1 usuários no sistema\n"
     ]
    }
   ],
   "source": [
    "user = Usuario('Felicity', 'Jones', 'felicity@gmail.com', '123456')\n",
    "\n",
    "Usuario.conta_usuarios() # Forma correta\n",
    "user.conta_usuarios() # Possivel, mas incorreta"
   ]
  },
  {
   "cell_type": "markdown",
   "metadata": {},
   "source": [
    "# Métodos privados"
   ]
  },
  {
   "cell_type": "code",
   "execution_count": 10,
   "metadata": {},
   "outputs": [
    {
     "name": "stdout",
     "output_type": "stream",
     "text": [
      "Usuário criado: felicity\n"
     ]
    }
   ],
   "source": [
    "class Usuario:\n",
    "\n",
    "    contador = 0 \n",
    "\n",
    "    @classmethod\n",
    "    def conta_usuarios(cls):\n",
    "        print(f'Classe: [cls]')\n",
    "        print(f'Temos {cls.contador} usuários no sistema')\n",
    "\n",
    "    @classmethod\n",
    "    def ver(cls):\n",
    "        print('Teste')\n",
    "\n",
    "    def __init__(self, nome, sobrenome, email, senha):\n",
    "        self.__id = Usuario.contador + 1\n",
    "        self.__nome = nome\n",
    "        self.__sobrenome = sobrenome\n",
    "        self.__email = email\n",
    "        self.__senha = cryp.hash(senha)  # Senha é armazenada criptografada\n",
    "        Usuario.contador = self.__id\n",
    "        print(f'Usuário criado: {self.__gera_usuario()}')\n",
    "\n",
    "    def nome_completo(self):\n",
    "        return f\"{self.__nome} {self.__sobrenome}\"\n",
    "    \n",
    "    def checa_senha(self, senha):\n",
    "        return cryp.verify(senha, self.__senha)\n",
    "    \n",
    "    #metodo privado\n",
    "\n",
    "    def __gera_usuario(self):\n",
    "        return self.__email.split('@')[0]\n",
    "    \n",
    "user = Usuario('Felicity', 'Jones', 'felicity@gmail.com', '123456')\n",
    "\n",
    "#print(user.__gera_usuario())\n",
    "#aqui gera um erro \n"
   ]
  },
  {
   "cell_type": "markdown",
   "metadata": {},
   "source": [
    "# Método Estático (de verdade dessa vez)\n",
    "\n",
    "- ele usar outro Decorador"
   ]
  },
  {
   "cell_type": "code",
   "execution_count": 11,
   "metadata": {},
   "outputs": [
    {
     "name": "stdout",
     "output_type": "stream",
     "text": [
      "0\n",
      "UXR344\n",
      "Usuário criado: felicity\n",
      "1\n",
      "UXR344\n"
     ]
    }
   ],
   "source": [
    "class Usuario:\n",
    "\n",
    "    contador = 0 \n",
    "\n",
    "    @classmethod\n",
    "    def conta_usuarios(cls):\n",
    "        print(f'Classe: [cls]')\n",
    "        print(f'Temos {cls.contador} usuários no sistema')\n",
    "\n",
    "    @classmethod\n",
    "    def ver(cls):\n",
    "        print('Teste')\n",
    "\n",
    "    #metodo estatico\n",
    "    @staticmethod\n",
    "    def definicao():\n",
    "        return('UXR344')\n",
    "\n",
    "    def __init__(self, nome, sobrenome, email, senha):\n",
    "        self.__id = Usuario.contador + 1\n",
    "        self.__nome = nome\n",
    "        self.__sobrenome = sobrenome\n",
    "        self.__email = email\n",
    "        self.__senha = cryp.hash(senha)  # Senha é armazenada criptografada\n",
    "        Usuario.contador = self.__id\n",
    "        print(f'Usuário criado: {self.__gera_usuario()}')\n",
    "\n",
    "    def nome_completo(self):\n",
    "        return f\"{self.__nome} {self.__sobrenome}\"\n",
    "    \n",
    "    def checa_senha(self, senha):\n",
    "        return cryp.verify(senha, self.__senha)\n",
    "    \n",
    "    #metodo privado\n",
    "\n",
    "    def __gera_usuario(self):\n",
    "        return self.__email.split('@')[0]\n",
    "\n",
    "print(Usuario.contador)\n",
    "\n",
    "print(Usuario.definicao())\n",
    "\n",
    "user = Usuario('Felicity', 'Jones', 'felicity@gmail.com', '123456')\n",
    "\n",
    "print(user.contador)\n",
    "\n",
    "print(user.definicao())\n"
   ]
  }
 ],
 "metadata": {
  "kernelspec": {
   "display_name": "Python 3",
   "language": "python",
   "name": "python3"
  },
  "language_info": {
   "codemirror_mode": {
    "name": "ipython",
    "version": 3
   },
   "file_extension": ".py",
   "mimetype": "text/x-python",
   "name": "python",
   "nbconvert_exporter": "python",
   "pygments_lexer": "ipython3",
   "version": "3.11.9"
  }
 },
 "nbformat": 4,
 "nbformat_minor": 2
}

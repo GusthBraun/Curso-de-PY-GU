{
 "cells": [
  {
   "cell_type": "markdown",
   "metadata": {},
   "source": [
    "# POO - Classes\n",
    "\n",
    "Em POO, classes nada mais são do que modelos dos objetos do mundo real sendo representados computacionalmente.\n",
    "\n",
    "imagine que você queira fazer um sistema para automatizar o controle das lâmpadas da sua casa.\n",
    "\n",
    "vc provavelmente criaria uma classe chamada lampada no sistema. para representar esse objeto computacionalmente \n",
    "\n",
    "Classes podem conter:\n",
    "\n",
    "    - Atributos -> Representam as características do objeto. Ou seja, pelos atributos conseguimos representar computacionalmente os estados de um objeto.\n",
    "    \n",
    "    -Metodos (funções) -> Representam o comportamento do objeto. Ou seja , as ações que estes objeto pode realizar no seu sistema. "
   ]
  },
  {
   "cell_type": "code",
   "execution_count": null,
   "metadata": {},
   "outputs": [],
   "source": [
    "class lampada:\n",
    "    pass\n",
    "\n",
    "lamp = lampada()\n",
    "\n",
    "print(type(lamp))"
   ]
  },
  {
   "cell_type": "markdown",
   "metadata": {},
   "source": [
    "OBS: Utilizamos a palavra 'pass' em Python quando temos um bloco de código que ainda não está implementado.\n",
    "\n",
    "OBS: Quando nomeamos nossas classes em Python utilizamos por convenção o nome com inicial em maiúculo. Se o nome for composto, utiliza-se iniciais de mabas as palabras em maiúculo, todas juntas.\n",
    "\n",
    "Dica: Em computação utilizamos caracteres especiais.\n",
    "\n",
    "OBS: quando estamos planejando um software e definimos quas classes teremos que ter no sistema, chamamos estes objetos que serão mapeados para classes de entidade. "
   ]
  }
 ],
 "metadata": {
  "language_info": {
   "name": "python"
  }
 },
 "nbformat": 4,
 "nbformat_minor": 2
}

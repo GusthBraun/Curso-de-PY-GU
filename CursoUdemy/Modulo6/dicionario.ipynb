{
 "cells": [
  {
   "cell_type": "markdown",
   "metadata": {},
   "source": [
    "Dicionários\n",
    "\n",
    "OBS: Em algumas linguagens de programação os dicionários Python são conhecidos por mapas.\n",
    "\n",
    "Dicionários são coleções do tipo chave/ valor\n",
    "\n",
    "Dicionários são representados por chaves {}\n",
    "\n",
    "print(type({}))\n",
    "\n",
    "OBS: Sobre dicinários\n",
    "    - Chaves e valor são separados por dois pontos 'chave:valor':\n",
    "    - Tanto chave quanto valor podem ser de qualquer tipo de dados:\n",
    "    - Podemos Misturar tipos de dados:"
   ]
  },
  {
   "cell_type": "code",
   "execution_count": 1,
   "metadata": {},
   "outputs": [
    {
     "name": "stdout",
     "output_type": "stream",
     "text": [
      "{'br': 'Brasil', 'eua': 'Estados Unidos', 'py': 'Paraguai'}\n",
      "<class 'dict'>\n"
     ]
    }
   ],
   "source": [
    "paises = {'br': 'Brasil','eua' : 'Estados Unidos', 'py': 'Paraguai'}\n",
    "\n",
    "print(paises)\n",
    "print(type(paises))"
   ]
  },
  {
   "cell_type": "code",
   "execution_count": 2,
   "metadata": {},
   "outputs": [
    {
     "name": "stdout",
     "output_type": "stream",
     "text": [
      "{'br': 'Brasil', 'eua': 'Estados Unidos', 'py': 'Paraguay'}\n",
      "<class 'dict'>\n"
     ]
    }
   ],
   "source": [
    "# Forma 2 \n",
    "\n",
    "paises = dict(br = 'Brasil', eua = 'Estados Unidos', py='Paraguay')\n",
    "\n",
    "print(paises)\n",
    "print(type(paises))"
   ]
  },
  {
   "cell_type": "markdown",
   "metadata": {},
   "source": [
    "Acessando elementos\n",
    "\n",
    "Forma 1 - Acessando pela chave, da mesma forma que lista/tupla\n"
   ]
  },
  {
   "cell_type": "code",
   "execution_count": null,
   "metadata": {},
   "outputs": [],
   "source": [
    "print(paises['py'])\n",
    "#print(paises['ru']) se não a chave no dicionario ele voltara KeyError"
   ]
  },
  {
   "cell_type": "code",
   "execution_count": 4,
   "metadata": {},
   "outputs": [
    {
     "name": "stdout",
     "output_type": "stream",
     "text": [
      "Não encontrei o país\n"
     ]
    }
   ],
   "source": [
    "#Forma 2 Acessando via ger - Recomendada\n",
    "\n",
    "paises = {'br' : 'Brasil', 'eua' : 'Estados Unidos', 'py' :'Paraguay'}\n",
    "\n",
    "russia = paises.get('ru')\n",
    "\n",
    "if russia:\n",
    "    print('Encontrei o país')\n",
    "else:\n",
    "    print('Não encontrei o país')"
   ]
  },
  {
   "cell_type": "code",
   "execution_count": null,
   "metadata": {},
   "outputs": [],
   "source": [
    "print('br' in paises)\n",
    "print('ru' in paises)\n",
    "print('Estados Unidos' in paises)\n",
    "\n",
    "if 'ru' in paises:\n",
    "    russia = paises['ru']"
   ]
  },
  {
   "cell_type": "markdown",
   "metadata": {},
   "source": [
    "Podemos utilizar qualquer tipo de dado(int, float, string, boolena), inclusive lista, tupla dicionário, como chaves de dicionários."
   ]
  },
  {
   "cell_type": "code",
   "execution_count": 5,
   "metadata": {},
   "outputs": [
    {
     "name": "stdout",
     "output_type": "stream",
     "text": [
      "{(35.6895, 39.6917): 'Escritorio em tóklio', (40.7128, 740060): 'Escritorio em Nova York', (35.7749, 122.4194): 'Escritorio em São Paulo'}\n",
      "<class 'dict'>\n"
     ]
    }
   ],
   "source": [
    "localidades =  {\n",
    "    (35.6895, 39.6917): 'Escritorio em tóklio',\n",
    "    (40.7128, 740060): 'Escritorio em Nova York',\n",
    "    (35.7749,122.4194): 'Escritorio em São Paulo',\n",
    "}\n",
    "\n",
    "print(localidades)\n",
    "print(type(localidades))\n",
    "\n",
    "#tuplas por exemplo sáo bastante interessantes para se utilizarem como chave de dicionario, pois as mesmas sáo imutaveis."
   ]
  },
  {
   "cell_type": "code",
   "execution_count": null,
   "metadata": {},
   "outputs": [],
   "source": [
    "# Adicionar elementos em um dicinario\n",
    "\n",
    "receita = { 'jan': 100, 'fev': 120, 'mar':300}\n",
    "\n",
    "print(receita)\n",
    "print(type(receita))\n",
    "\n",
    "#atualizando ados em um dicinário\n",
    "\n",
    "# Forma 1\n",
    "\n",
    "receita['mai'] = 550\n",
    "\n",
    "print(receita)\n",
    "\n",
    "# Forma 2\n",
    "\n",
    "receita.update({'mai': 600})\n",
    "\n",
    "print(receita)\n",
    "\n",
    "# CONCLUSÃO 1: A forma de ad"
   ]
  },
  {
   "cell_type": "code",
   "execution_count": 1,
   "metadata": {},
   "outputs": [
    {
     "name": "stdout",
     "output_type": "stream",
     "text": [
      "{'jan': 100, 'fev': 120, 'mar': 300}\n",
      "300\n"
     ]
    }
   ],
   "source": [
    "#Remover dados de um dicionario \n",
    "\n",
    "receita = { 'jan': 100, 'fev': 120, 'mar':300}\n",
    "print(receita)\n",
    "#forma1\n",
    "\n",
    "ret = receita.pop('mar')\n",
    "print(ret)\n",
    "#OBS : Aqui precisamos sempre informar a chave e caso não encontre um elemento um key error é retornado\n",
    "#OBS : Ao removermos um objetio, o valor deste objeto é sempre retornado\n",
    "\n",
    "# Forma 2\n",
    "\n",
    "del receita ['fev']\n",
    "print(receita)\n",
    "\n",
    "#se a chave não exisitir será gerado um KeyError\n",
    "#Neste caso o valor removido não é retornado\n"
   ]
  },
  {
   "cell_type": "markdown",
   "metadata": {},
   "source": [
    "#imagine que vocÊ tem um comércio eletronico, onde temos um carrinho de comprar na qual adicionamos produtos.\n",
    "\n",
    "Carrinho de Compras:\n",
    "    Produto 1:\n",
    "        -nome;\n",
    "        -quantidade;\n",
    "        preço;\n",
    "    Produto 2:\n",
    "        -nome;\n",
    "        -quantidade;\n",
    "        -preço;\n",
    "\n",
    "# - Poderiamos utilizar uma lista para isso? Sim"
   ]
  },
  {
   "cell_type": "code",
   "execution_count": null,
   "metadata": {},
   "outputs": [],
   "source": [
    "carrinho = []\n",
    "\n",
    "produto1 = ['Playstation 4', 1, 2300.00]\n",
    "produto2 = ['God of War 4', 1, 150.00]\n",
    "carrinho.append(produto1)\n",
    "carrinho.append(produto2)\n",
    "\n",
    "print (carrinho)\n",
    "\n",
    "#Teriamos que saber qual é o índice de cada informação no produto.\n",
    "\n",
    "# 2 -Poderiamos utilizar uma Tupla para isso? Sim\n",
    "\n",
    "produto1 = {'Playstation 4', 1, 2300.00}\n",
    "produto2 = {'God of War 4', 1, 150.00}\n",
    "carrinho = {produto1, produto2}\n",
    "\n",
    "print (carrinho)\n",
    "\n",
    "#teriamos que saber qual é o íncide de cda informação no produto.\n",
    "\n",
    "# 3 - Poderiamos utilizar um Dicionário para isso? Simcarrinho = []\n",
    "\n",
    "produto1 = {'nome':'Playstation 4','quantidade': 1, 'preco': 2300.00}\n",
    "produto2 = {'nome':'God of War 4','quantidade': 1,'preco': 150.00}\n",
    "carrinho.append(produto1)\n",
    "carrinho.append(produto2)\n",
    "\n",
    "print(carrinho)"
   ]
  },
  {
   "cell_type": "code",
   "execution_count": 2,
   "metadata": {},
   "outputs": [
    {
     "name": "stdout",
     "output_type": "stream",
     "text": [
      "{'a': 1, 'b': 2, 'c': 3}\n",
      "<class 'dict'>\n",
      "{}\n"
     ]
    }
   ],
   "source": [
    "#metodos de dicionarios\n",
    "\n",
    "d= dict (a=1, b=2, c=3)\n",
    "\n",
    "print(d)\n",
    "print(type(d))\n",
    "\n",
    "#Limpar o dicinário (Zerar dados)\n",
    "\n",
    "d.clear()\n",
    "\n",
    "print(d)\n"
   ]
  },
  {
   "cell_type": "code",
   "execution_count": 4,
   "metadata": {},
   "outputs": [
    {
     "name": "stdout",
     "output_type": "stream",
     "text": [
      "{'a': 1, 'b': 2, 'c': 3}\n",
      "<class 'dict'>\n",
      "{'a': 1, 'b': 2, 'c': 3}\n",
      "{'a': 1, 'b': 2, 'c': 3}\n",
      "{'a': 1, 'b': 2, 'c': 3, 'd': 4}\n"
     ]
    }
   ],
   "source": [
    "#metodos de dicionarios\n",
    "\n",
    "d= dict (a=1, b=2, c=3)\n",
    "\n",
    "print(d)\n",
    "print(type(d))\n",
    "\n",
    "#copiando em dicionario para outro\n",
    "\n",
    "#forma 1 Deep copy\n",
    "\n",
    "novo = d.copy()\n",
    "\n",
    "print(novo)\n",
    "\n",
    "novo['d'] = 4\n",
    "\n",
    "print(d)\n",
    "print(novo)"
   ]
  },
  {
   "cell_type": "code",
   "execution_count": 3,
   "metadata": {},
   "outputs": [
    {
     "name": "stdout",
     "output_type": "stream",
     "text": [
      "{'a': 1, 'b': 2, 'c': 3}\n",
      "<class 'dict'>\n",
      "{'a': 1, 'b': 2, 'c': 3}\n",
      "{'a': 1, 'b': 2, 'c': 3, 'd': 4}\n",
      "{'a': 1, 'b': 2, 'c': 3, 'd': 4}\n"
     ]
    }
   ],
   "source": [
    "#forma 2 Shallow Copy\n",
    "d= dict (a=1, b=2, c=3)\n",
    "\n",
    "print(d)\n",
    "print(type(d))\n",
    "\n",
    "novo = d\n",
    "print(novo)\n",
    "\n",
    "novo ['d'] = 4\n",
    "\n",
    "print(d)\n",
    "print(novo)\n",
    "\n",
    "\n"
   ]
  },
  {
   "cell_type": "code",
   "execution_count": null,
   "metadata": {},
   "outputs": [],
   "source": [
    "#forma não usual de criação de dicionario \n",
    "outro = {}.fromkeys('a','b')\n",
    "\n",
    "print(outro)\n",
    "print(type(outro))\n",
    "\n",
    "usuario = {}.fromkeys(['nome', 'pontos', 'email', 'profile'], 'desconhecido')\n",
    "print(usuario)\n",
    "print(type(usuario))\n",
    "\n",
    "#o método from keys recebe dois parametros um interável e um valor.\n",
    "#Ele vai gerar para cada valor do iterável uma chave e irá atribuir a esta chave o valor informado.\n",
    "\n",
    "veja = {}.fromkeys('teste','valor')\n",
    "print(veja)\n",
    "\n",
    "veja = {}.fromkeys(range(1, 11), 'novo')\n",
    "\n",
    "print(veja)"
   ]
  }
 ],
 "metadata": {
  "kernelspec": {
   "display_name": "Python 3",
   "language": "python",
   "name": "python3"
  },
  "language_info": {
   "codemirror_mode": {
    "name": "ipython",
    "version": 3
   },
   "file_extension": ".py",
   "mimetype": "text/x-python",
   "name": "python",
   "nbconvert_exporter": "python",
   "pygments_lexer": "ipython3",
   "version": "3.11.9"
  }
 },
 "nbformat": 4,
 "nbformat_minor": 2
}

{
 "cells": [
  {
   "cell_type": "markdown",
   "metadata": {},
   "source": [
    "Tuplas (tuple)\n",
    "\n",
    "Tuplas são bastante parecidas com listas. basicamente duas diferenças básicas:\n",
    "\n",
    "1 - As tuplas são representadas por parênteses ()\n",
    "\n",
    "2 - As tuplas são imutaveis:  isso significa que ao se criar uma tupla ela ão muda. Toda operação em um tupla gera uma nova tupla."
   ]
  },
  {
   "cell_type": "code",
   "execution_count": 2,
   "metadata": {},
   "outputs": [
    {
     "name": "stdout",
     "output_type": "stream",
     "text": [
      "(1, 2, 3, 4, 5, 6)\n",
      "<class 'tuple'>\n",
      "(1, 2, 3, 4, 5, 6)\n",
      "<class 'tuple'>\n",
      "(4,)\n",
      "(4,)\n",
      "<class 'tuple'>\n"
     ]
    }
   ],
   "source": [
    "# CUIDADO: aS TUPLAS SÃO REPRESENTADAS POR (), MAS VEJA:\n",
    "\n",
    "\n",
    "tupla1 = (1, 2, 3, 4, 5, 6)\n",
    "print(tupla1)\n",
    "\n",
    "\n",
    "print(type(tupla1))\n",
    "\n",
    "tupla2 = 1, 2, 3, 4, 5, 6\n",
    "print(tupla2)\n",
    "\n",
    "print(type(tupla2))\n",
    "\n",
    "# CUIDADO 2: TUPLAS COM 1 ELEMENTO\n",
    "\n",
    "#tampla3 = 4 # isso não é uma tupla!\n",
    "\n",
    "tupla4 = (4,) # isso é uma tupla!\n",
    "print(tupla4)\n",
    "\n",
    "tupla5 = 4,\n",
    "print(tupla5)\n",
    "\n",
    "print(type(tupla5))\n",
    "\n",
    "# CONCLUSÃO: Podemos concluir que tuplas são definidas pela virgula e não pelo uso do parênteses\n"
   ]
  },
  {
   "cell_type": "markdown",
   "metadata": {},
   "source": [
    "podemos gerar uma tupla dinamicamente com range(inicio,fim,passo)"
   ]
  },
  {
   "cell_type": "code",
   "execution_count": 3,
   "metadata": {},
   "outputs": [
    {
     "name": "stdout",
     "output_type": "stream",
     "text": [
      "(0, 1, 2, 3, 4, 5, 6, 7, 8, 9, 10)\n",
      "<class 'tuple'>\n"
     ]
    }
   ],
   "source": [
    "tupla = tuple(range(11))\n",
    "print(tupla)\n",
    "print(type(tupla))"
   ]
  },
  {
   "cell_type": "markdown",
   "metadata": {},
   "source": [
    "Dicas de utilizar tuplas\n",
    "\n",
    "Devemos utilizar tuplas SEMPRE que não precisamos modificar os dados contindos em uma coleção"
   ]
  },
  {
   "cell_type": "code",
   "execution_count": null,
   "metadata": {},
   "outputs": [],
   "source": [
    "#Exemplo 1 \n",
    "\n",
    "meses = ('Janeiro','Fevereiro','Março','Abril', 'Maio', 'Junho','Julho','Agosto', 'Setembro','Outubro', 'Novembro','Dezembro')\n",
    "\n",
    "\n",
    "#VErificamos em qual indice um elemento está na tupla\n",
    "\n",
    "print(meses.index('Junho'))\n",
    "\n",
    "# OBS caso o elemento não exista, não será gerado ValueError"
   ]
  },
  {
   "cell_type": "markdown",
   "metadata": {},
   "source": [
    "#por quÊ utilizar tuplas?\n",
    "\n",
    "- são mais rapidas do que listas\n",
    "- são mais seguras\n",
    "\n",
    "Isso porque trabalhar com elementos imutaveis traz segurança para o código.\n"
   ]
  },
  {
   "cell_type": "code",
   "execution_count": null,
   "metadata": {},
   "outputs": [],
   "source": [
    "#copiando uma tupla para outra\n",
    "\n",
    "tupla = (1, 2, 3)\n",
    "print(tupla)\n",
    "\n",
    "nova = tupla\n",
    "\n",
    "print(nova)\n",
    "print(tupla)\n",
    "\n",
    "outra = (4,5,6)\n",
    "\n",
    "print(nova)\n",
    "print(tupla)"
   ]
  }
 ],
 "metadata": {
  "kernelspec": {
   "display_name": "Python 3",
   "language": "python",
   "name": "python3"
  },
  "language_info": {
   "codemirror_mode": {
    "name": "ipython",
    "version": 3
   },
   "file_extension": ".py",
   "mimetype": "text/x-python",
   "name": "python",
   "nbconvert_exporter": "python",
   "pygments_lexer": "ipython3",
   "version": "3.11.9"
  }
 },
 "nbformat": 4,
 "nbformat_minor": 2
}

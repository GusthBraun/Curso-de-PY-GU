{
 "cells": [
  {
   "cell_type": "markdown",
   "metadata": {},
   "source": [
    "1. Crie um programa que lê 6 valores inteiros, armazene em uma lista e em seguida mostre na tela os valores\n",
    "lidos."
   ]
  },
  {
   "cell_type": "code",
   "execution_count": 3,
   "metadata": {},
   "outputs": [
    {
     "name": "stdout",
     "output_type": "stream",
     "text": [
      "1\n",
      "2\n",
      "3\n",
      "4\n",
      "5\n",
      "6\n"
     ]
    }
   ],
   "source": [
    "lista: list[int] = []\n",
    "\n",
    "while len(lista) < 6:\n",
    "    valor: int = int(input(f'Informe o valor: {len(lista) +1}/6'))\n",
    "    lista.append(valor)\n",
    "\n",
    "for valor in lista:\n",
    "    print(valor)"
   ]
  },
  {
   "cell_type": "markdown",
   "metadata": {},
   "source": [
    "2. Faça um programa que possua uma lista denominada A que armazene 6 números inteiros. O programa\n",
    "deve executar os seguintes passos:\n",
    "a) Atribua os seguintes valores a essa lista: 1, 0, 5, -2, -5, 7.\n",
    "b) Armazene em uma variável inteira a soma entre os valores das posições A[0], A[1] e A[5] da lista e mostre\n",
    "na tela esta soma.\n",
    "c) Modifique a lista na posição 5, atribuindo a esta posição o valor 100.\n",
    "d) Mostre na tela cada valor da lista A, um em cada linha."
   ]
  },
  {
   "cell_type": "code",
   "execution_count": 9,
   "metadata": {},
   "outputs": [
    {
     "name": "stdout",
     "output_type": "stream",
     "text": [
      "8\n",
      "1\n",
      "0\n",
      "-2\n",
      "-5\n",
      "100\n"
     ]
    }
   ],
   "source": [
    "A: list[int] = [1,0,-2,-5,7]\n",
    "\n",
    "soma: int = A[0] +A[1]+ A[4]\n",
    "\n",
    "print(soma)\n",
    "\n",
    "A[4] = 100\n",
    "\n",
    "for valor in A:\n",
    "    print(valor)"
   ]
  },
  {
   "cell_type": "markdown",
   "metadata": {},
   "source": [
    "3. Faça um programa que leia 10 valores, armazene-os em uma lista e apresente quantos valores pares ele\n",
    "possui.\n"
   ]
  },
  {
   "cell_type": "code",
   "execution_count": 4,
   "metadata": {},
   "outputs": [
    {
     "name": "stdout",
     "output_type": "stream",
     "text": [
      "A lista [1, 1, 1, 1, 11, 1, 1, 1, 1, 1] nao possui valor pares.\n"
     ]
    }
   ],
   "source": [
    "lista: list[int] = []\n",
    "contadores_pares: int = 0\n",
    "\n",
    "while  len(lista) <10:\n",
    "    valor: int = int(input(f'Informe o valor {len(lista) + 1 }/10: '))\n",
    "    lista.append(valor)\n",
    "\n",
    "    if valor %2 ==0:\n",
    "        contadores_pares = contadores_pares + 1\n",
    "\n",
    "if contadores_pares > 0:\n",
    "    print(f'A lista {lista} possui {contadores_pares} pares')\n",
    "else:\n",
    "    print(f'A lista {lista} nao possui valor pares.')"
   ]
  }
 ],
 "metadata": {
  "kernelspec": {
   "display_name": "Python 3",
   "language": "python",
   "name": "python3"
  },
  "language_info": {
   "codemirror_mode": {
    "name": "ipython",
    "version": 3
   },
   "file_extension": ".py",
   "mimetype": "text/x-python",
   "name": "python",
   "nbconvert_exporter": "python",
   "pygments_lexer": "ipython3",
   "version": "3.11.9"
  }
 },
 "nbformat": 4,
 "nbformat_minor": 2
}

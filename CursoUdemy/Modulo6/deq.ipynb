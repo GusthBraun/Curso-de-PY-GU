{
 "cells": [
  {
   "cell_type": "code",
   "execution_count": null,
   "metadata": {},
   "outputs": [],
   "source": [
    "#importa \n",
    "\n",
    "from collections import deque\n",
    "\n",
    "#criando deques\n",
    "\n",
    "deq = deque('geek')\n",
    "\n",
    "print(deq)\n",
    "\n",
    "deq.append('y') #adiciona no final\n",
    "\n",
    "\n",
    "deq.appendleft('k') # adiciona no começo\n",
    "\n",
    "print(deq)\n",
    "\n",
    "print(deq.pop())# Revoe e retorna o ultimo elemento\n",
    "\n",
    "print(deq)\n"
   ]
  },
  {
   "cell_type": "markdown",
   "metadata": {},
   "source": [
    "Modúlo Collections - Deque\n",
    "\n",
    "Podemos dizer que o deque é uma lista de alta performance."
   ]
  }
 ],
 "metadata": {
  "language_info": {
   "name": "python"
  }
 },
 "nbformat": 4,
 "nbformat_minor": 2
}

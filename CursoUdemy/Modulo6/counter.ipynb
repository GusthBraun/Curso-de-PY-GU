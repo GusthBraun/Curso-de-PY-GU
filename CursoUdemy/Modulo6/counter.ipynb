{
 "cells": [
  {
   "cell_type": "markdown",
   "metadata": {},
   "source": [
    "Módulo Collection - Counter\n",
    "\n",
    "Collections -> High-performace Counter Datetype\n",
    "\n",
    "counter -> recebe um iteravel como parâmetro e cria um objeto do tipo Collection Counter que é parecido com um dicionário, contendo como chave o elemento da lista passada como parâmetro e como valor e quantidade de ocorrência desse elemento.   "
   ]
  },
  {
   "cell_type": "code",
   "execution_count": 2,
   "metadata": {},
   "outputs": [
    {
     "name": "stdout",
     "output_type": "stream",
     "text": [
      "<class 'collections.Counter'>\n",
      "Counter({1: 5, 3: 5, 2: 4, 5: 4, 4: 3, 45: 2, 66: 2, 43: 1, 34: 1})\n"
     ]
    }
   ],
   "source": [
    "#utilizando \n",
    "\n",
    "from collections import Counter\n",
    "\n",
    "#Podemos utilizar qualquer iterável, aqui usamos uma lista\n",
    "lista = [1,1,1,2,2,3,3,3,3,1,1,2,2,4,4,4,5,5,5,5,3,45,45,66,66,43,34]\n",
    "\n",
    "#utilizando o Counter \n",
    "\n",
    "res = Counter(lista)\n",
    "\n",
    "print(type(res))\n",
    "print(res)\n",
    "\n",
    "#Veja que, para cada elemento da lista, o Counter criou uma chave e colocou como valor a quantidade de ocorrências."
   ]
  },
  {
   "cell_type": "code",
   "execution_count": 6,
   "metadata": {},
   "outputs": [
    {
     "name": "stdout",
     "output_type": "stream",
     "text": [
      "Counter({'de': 9, 'a': 7, 'e': 4, 'mais': 4, 'em': 3, 'o': 3, 'da': 3, 'foi': 2, 'um': 2, 'conflito': 2, 'que': 2, '—': 2, 'incluindo': 2, 'militares': 2, 'os': 2, 'milhões': 2, 'entre': 2, '\"A': 1, 'Segunda': 1, 'Guerra': 1, 'Mundial': 1, 'militar': 1, 'global': 1, 'durou': 1, '1939': 1, '1945,': 1, 'envolvendo': 1, 'maioria': 1, 'das': 1, 'nações': 1, 'do': 1, 'mundo': 1, 'todas': 1, 'as': 1, 'grandes': 1, 'potências': 1, 'organizadas': 1, 'duas': 1, 'alianças': 1, 'opostas:': 1, 'Aliados': 1, 'Eixo.': 1, 'Foi': 1, 'guerra': 1, 'abrangente': 1, 'história,': 1, 'com': 1, '100': 1, 'mobilizados.': 1, 'Em': 1, 'estado': 1, '\"guerra': 1, 'total\",': 1, 'principais': 1, 'envolvidos': 1, 'dedicaram': 1, 'toda': 1, 'sua': 1, 'capacidade': 1, 'econômica,': 1, 'industrial': 1, 'científica': 1, 'serviço': 1, 'dos': 1, 'esforços': 1, 'guerra,': 1, 'deixando': 1, 'lado': 1, 'distinção': 1, 'recursos': 1, 'civis': 1, 'militares.': 1, 'Marcado': 1, 'por': 1, 'número': 1, 'significante': 1, 'ataques': 1, 'contra': 1, 'civis,': 1, 'Holocausto': 1, 'única': 1, 'vez': 1, 'armas': 1, 'nucleares': 1, 'foram': 1, 'utilizadas': 1, 'combate,': 1, 'letal': 1, 'história': 1, 'humanidade,': 1, 'resultando': 1, '50': 1, '70': 1, 'mortes.': 1})\n",
      "[('de', 9), ('a', 7), ('e', 4), ('mais', 4), ('em', 3), ('o', 3), ('da', 3), ('foi', 2), ('um', 2), ('conflito', 2)]\n"
     ]
    }
   ],
   "source": [
    "from collections import Counter\n",
    "\n",
    "# Exemplo 3\n",
    "\n",
    "texto = \"\"\"\"A Segunda Guerra Mundial foi um conflito militar global que durou de 1939 a 1945, envolvendo a maioria das nações do mundo — incluindo\n",
    " todas as grandes potências — organizadas em duas alianças militares opostas: os Aliados e o Eixo. Foi a guerra mais abrangente da história, com\n",
    " mais de 100 milhões de militares mobilizados. Em estado de \"guerra total\", os principais envolvidos dedicaram toda sua capacidade econômica,\n",
    " industrial e científica a serviço dos esforços de guerra, deixando de lado a distinção entre recursos civis e militares. Marcado por um número \n",
    " significante de ataques contra civis, incluindo o Holocausto e a única vez em que armas nucleares foram utilizadas em combate, foi o conflito mais\n",
    " letal da história da humanidade, resultando entre 50 a mais de 70 milhões de mortes. \"\"\"\n",
    "\n",
    "palavras = texto.split()\n",
    "#print(palavras)\n",
    "res = Counter(palavras)\n",
    "\n",
    "print(res)\n",
    "#encontrando as 5 palavras com mais ocorrencia no texto\n",
    "print(res.most_common(10))\n",
    "\n"
   ]
  }
 ],
 "metadata": {
  "kernelspec": {
   "display_name": "Python 3",
   "language": "python",
   "name": "python3"
  },
  "language_info": {
   "name": "python",
   "version": "3.11.9"
  }
 },
 "nbformat": 4,
 "nbformat_minor": 2
}

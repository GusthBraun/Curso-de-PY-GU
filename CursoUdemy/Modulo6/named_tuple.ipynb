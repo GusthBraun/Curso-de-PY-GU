{
 "cells": [
  {
   "cell_type": "markdown",
   "metadata": {},
   "source": [
    "Módulo Collections - Named Tuple\n",
    "\n",
    "# Recap tupla\n",
    "tupla = (1,2,3 )\n",
    "\n",
    "print(tupla[1])\n",
    "\n",
    "Named Tupla -> São tupla, diferenciadas onde especificamos um nome para mesma e também parÂmetros."
   ]
  },
  {
   "cell_type": "code",
   "execution_count": 7,
   "metadata": {},
   "outputs": [
    {
     "name": "stdout",
     "output_type": "stream",
     "text": [
      "2\n",
      "Chow-Chow\n",
      "Ray\n",
      "2\n",
      "Chow-Chow\n",
      "Ray\n"
     ]
    }
   ],
   "source": [
    "#Importando\n",
    "\n",
    "from collections import namedtuple\n",
    "\n",
    "#Precisamos definir o nome e parÂmetros.\n",
    "\n",
    "#forma 1 - Declaração Named Tuple\n",
    "\n",
    "cachorro = namedtuple('cachorro', 'idade raca nome')\n",
    "\n",
    "#forma 2 - Declaração namedTuple\n",
    "\n",
    "cachorro = namedtuple('cachorro', 'idade, raca, nome')\n",
    "\n",
    "#forma  - Declaração namedTuple \n",
    "Cachorro = namedtuple('Cachorro', ['idade', 'raca', 'nome'])\n",
    "\n",
    "#Usando\n",
    "\n",
    "ray = Cachorro(idade=2, raca='Chow-Chow', nome='Ray')\n",
    "\n",
    "#acessando os dados\n",
    "\n",
    "#forma 1 \n",
    "\n",
    "print(ray[0])\n",
    "print(ray[1])\n",
    "print(ray[2])\n",
    "\n",
    "# Forma 2 \n",
    "\n",
    "print(ray.idade)\n",
    "print(ray.raca)\n",
    "print(ray.nome)\n"
   ]
  }
 ],
 "metadata": {
  "kernelspec": {
   "display_name": "Python 3",
   "language": "python",
   "name": "python3"
  },
  "language_info": {
   "codemirror_mode": {
    "name": "ipython",
    "version": 3
   },
   "file_extension": ".py",
   "mimetype": "text/x-python",
   "name": "python",
   "nbconvert_exporter": "python",
   "pygments_lexer": "ipython3",
   "version": "3.11.9"
  }
 },
 "nbformat": 4,
 "nbformat_minor": 2
}

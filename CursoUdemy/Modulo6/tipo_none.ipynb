{
 "cells": [
  {
   "cell_type": "markdown",
   "metadata": {},
   "source": [
    "O tipo None\n",
    "\n",
    "o tipo de dado None em Python representa o tipo sem tipo, ou poderia ser conhecido também como tipo vazio, porém, flar que é um tipo sem tipo é mais apropriado.\n",
    "\n",
    "OBs: O tipo None é SEMPRE especificado com a primeira letra maiúscula.\n",
    "\n",
    "Certo: None\n",
    "Errado: none\n",
    "\n",
    "Quanto utilizarmos?\n",
    "\n",
    "- Podemos utilizar None quando queremos criar uma variável e inicializa-la com um tipo sem tipo, antes de recebermos um valor final. \n",
    "\n"
   ]
  }
 ],
 "metadata": {
  "language_info": {
   "name": "python"
  }
 },
 "nbformat": 4,
 "nbformat_minor": 2
}

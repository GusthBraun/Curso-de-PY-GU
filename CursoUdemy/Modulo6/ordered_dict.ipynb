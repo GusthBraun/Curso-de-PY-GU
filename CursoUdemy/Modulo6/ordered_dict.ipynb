{
 "cells": [
  {
   "cell_type": "markdown",
   "metadata": {},
   "source": [
    "Modulo Collectuibs: Ordered Dict\n",
    "\n",
    "É um dicionario que nos garante a ordem e nserção dos elementos."
   ]
  },
  {
   "cell_type": "code",
   "execution_count": 1,
   "metadata": {},
   "outputs": [
    {
     "name": "stdout",
     "output_type": "stream",
     "text": [
      "chave = a: valor = 1\n",
      "chave = b: valor = 2\n",
      "chave = c: valor = 3\n",
      "chave = d: valor = 4\n",
      "chave = e: valor = 5\n"
     ]
    }
   ],
   "source": [
    "#Em um dicionário a ordem de inserção dos elementos não é garantida.\n",
    "dicionario = {'a':1, 'b':2,'c':3,'d':4,'e':5}\n",
    "\n",
    "for chave, valor in dicionario.items():\n",
    "    print(f'chave = {chave}: valor = {valor}')"
   ]
  },
  {
   "cell_type": "code",
   "execution_count": 2,
   "metadata": {},
   "outputs": [
    {
     "name": "stdout",
     "output_type": "stream",
     "text": [
      "chave = a: valor = 1\n",
      "chave = b: valor = 2\n",
      "chave = c: valor = 3\n",
      "chave = d: valor = 4\n",
      "chave = e: valor = 5\n"
     ]
    }
   ],
   "source": [
    "from collections import OrderedDict\n",
    "\n",
    "dicionario = OrderedDict({'a':1, 'b':2,'c':3,'d':4,'e':5})\n",
    "\n",
    "for chave, valor in dicionario.items():\n",
    "    print(f'chave = {chave}: valor = {valor}')"
   ]
  },
  {
   "cell_type": "code",
   "execution_count": null,
   "metadata": {},
   "outputs": [],
   "source": [
    "#entendendo a diferença entre Dict e Ordered Dict\n",
    "\n",
    "#Dicionários comuns \n",
    "\n",
    "dict1 = {'a':1, 'b':2}\n",
    "dict2 = {'b':2, 'a':1}\n",
    "\n",
    "print(dict1 == dict2) #True -> Já que a ordem dos elementos não importa para o dicionário\n",
    "\n",
    "#ordered Dict\n",
    "\n",
    "odict1 = OrderedDict{'a':1, 'b':2}\n",
    "odict2 = OrderedDict{'b':2, 'a':1}\n",
    "\n",
    "print(odict1 == odict2)# False -> já que no Ordered Dict a ordem importa"
   ]
  }
 ],
 "metadata": {
  "kernelspec": {
   "display_name": "Python 3",
   "language": "python",
   "name": "python3"
  },
  "language_info": {
   "codemirror_mode": {
    "name": "ipython",
    "version": 3
   },
   "file_extension": ".py",
   "mimetype": "text/x-python",
   "name": "python",
   "nbconvert_exporter": "python",
   "pygments_lexer": "ipython3",
   "version": "3.11.9"
  }
 },
 "nbformat": 4,
 "nbformat_minor": 2
}

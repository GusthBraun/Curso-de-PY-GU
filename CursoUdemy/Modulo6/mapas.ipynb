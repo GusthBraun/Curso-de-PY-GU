{
 "cells": [
  {
   "cell_type": "markdown",
   "metadata": {},
   "source": [
    "Mapas -> Conhecidos em Python como Dicinários\n",
    "\n",
    "Dicionários em Python são representados por chave{}"
   ]
  },
  {
   "cell_type": "code",
   "execution_count": 1,
   "metadata": {},
   "outputs": [
    {
     "name": "stdout",
     "output_type": "stream",
     "text": [
      "{'jan': 100, 'fev': 120, 'mar': 300}\n",
      "jan\n",
      "fev\n",
      "mar\n",
      "100\n",
      "120\n",
      "300\n",
      "jan recebi R$100\n",
      "fev recebi R$120\n",
      "mar recebi R$300\n"
     ]
    }
   ],
   "source": [
    "receita = { 'jan': 100, 'fev': 120, 'mar':300}\n",
    "\n",
    "print(receita)\n",
    "\n",
    "# Interar sobre dicionários\n",
    "for chave in receita:\n",
    "    print(chave)\n",
    "\n",
    "for chave in receita:\n",
    "    print(receita[chave])\n",
    "\n",
    "for chave in receita:\n",
    "    print(f'{chave} recebi R${receita[chave]}')\n"
   ]
  },
  {
   "cell_type": "code",
   "execution_count": 2,
   "metadata": {},
   "outputs": [
    {
     "name": "stdout",
     "output_type": "stream",
     "text": [
      "{'jan': 100, 'fev': 120, 'mar': 300}\n",
      "dict_keys(['jan', 'fev', 'mar'])\n",
      "100\n",
      "120\n",
      "300\n"
     ]
    }
   ],
   "source": [
    "#para descobrirmos todas as chaves podemos fazer o seguinte\n",
    "\n",
    "receita = { 'jan': 100, 'fev': 120, 'mar':300}\n",
    "\n",
    "print(receita)\n",
    "\n",
    "print(receita.keys())\n",
    "\n",
    "for chave in receita.keys():\n",
    "    print(receita[chave])"
   ]
  },
  {
   "cell_type": "code",
   "execution_count": 3,
   "metadata": {},
   "outputs": [
    {
     "name": "stdout",
     "output_type": "stream",
     "text": [
      "{'jan': 100, 'fev': 120, 'mar': 300}\n",
      "dict_values([100, 120, 300])\n",
      "100\n",
      "120\n",
      "300\n"
     ]
    }
   ],
   "source": [
    "#para acessar aos valores podemos usar\n",
    "\n",
    "receita = { 'jan': 100, 'fev': 120, 'mar':300}\n",
    "\n",
    "print(receita)\n",
    "\n",
    "print(receita.values())\n",
    "\n",
    "for valor in receita.values():\n",
    "    print(valor)"
   ]
  },
  {
   "cell_type": "code",
   "execution_count": 7,
   "metadata": {},
   "outputs": [
    {
     "name": "stdout",
     "output_type": "stream",
     "text": [
      "{'jan': 100, 'fev': 120, 'mar': 300}\n",
      "dict_items([('jan', 100), ('fev', 120), ('mar', 300)])\n",
      "chave=mar e valor=100\n",
      "chave=mar e valor=120\n",
      "chave=mar e valor=300\n",
      "520\n",
      "300\n",
      "100\n",
      "3\n"
     ]
    }
   ],
   "source": [
    "\n",
    "receita = { 'jan': 100, 'fev': 120, 'mar':300}\n",
    "\n",
    "print(receita)\n",
    "\n",
    "#Desempacotamento de dicinários\n",
    "\n",
    "print(receita.items())\n",
    "\n",
    "for chaves, valor in receita.items():\n",
    "    print(f'chave={chave} e valor={valor}')\n",
    "\n",
    "#soma valor max, valor min, tamanho\n",
    "\n",
    "print(sum(receita.values()))\n",
    "print(max(receita.values()))\n",
    "print(min(receita.values()))\n",
    "print(len(receita))"
   ]
  }
 ],
 "metadata": {
  "kernelspec": {
   "display_name": "Python 3",
   "language": "python",
   "name": "python3"
  },
  "language_info": {
   "codemirror_mode": {
    "name": "ipython",
    "version": 3
   },
   "file_extension": ".py",
   "mimetype": "text/x-python",
   "name": "python",
   "nbconvert_exporter": "python",
   "pygments_lexer": "ipython3",
   "version": "3.11.9"
  }
 },
 "nbformat": 4,
 "nbformat_minor": 2
}

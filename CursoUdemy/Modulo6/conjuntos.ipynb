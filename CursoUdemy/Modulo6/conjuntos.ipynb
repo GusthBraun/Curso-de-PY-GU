{
 "cells": [
  {
   "cell_type": "markdown",
   "metadata": {},
   "source": [
    "Conjuntos \n",
    "\n",
    "- Conjuntos em qualquer linguagem de programação, estamos fazendo referência a Teoria dos Conjuntos da matemática\n",
    "\n",
    "- Aqui no Python, os conjuntos são chamados de Sets.\n",
    "\n",
    "Dito isso, da mesma forma que na matemática:\n",
    "\n",
    "- Sets (conjuntos) não possuem valores duplicados:\n",
    "- Sets (conjuntos) não possuem valores ordenado;\n",
    "- Elementos não são acessados via indice, ou seja, conjuntos não são indexados;\n",
    "\n",
    "conjuntos são bons para se utilizar quando precisamos armazenar elementos mas não nos importamos com a ordenação deles. Quando não precisamos se preocupar com chaves, valores e itens duplicados.\n",
    "\n",
    "Os conjuntos(sets) sõa referenciados em Python com chaves`{}\n",
    "\n",
    "Diferença entre conjuntos (set) e Mapas (Dicionários) em Python:\n",
    "    - Um dicionário tem chave/valor;\n",
    "    - Um conjunto tem apenas valor;\n"
   ]
  },
  {
   "cell_type": "code",
   "execution_count": 18,
   "metadata": {},
   "outputs": [
    {
     "name": "stdout",
     "output_type": "stream",
     "text": [
      "{1, 2, 3, 4, 5, 6, 7}\n",
      "<class 'set'>\n"
     ]
    }
   ],
   "source": [
    "# Definindo um conjunto:\n",
    "\n",
    "#forma 1\n",
    "\n",
    "s = set({1,2,3,4,5,5,6,7,2,3}) #repáre que tem valores repetidos.\n",
    "\n",
    "print(s)\n",
    "print(type(s))\n",
    "\n",
    "#OBS: Ao criar um conjunto, caso seja adicionado a um valor já existente, o mesmo será ignorado sem gerar error e não fará parte do conjunto.\n"
   ]
  },
  {
   "cell_type": "code",
   "execution_count": 19,
   "metadata": {},
   "outputs": [
    {
     "name": "stdout",
     "output_type": "stream",
     "text": [
      "{1, 2, 4, 5}\n",
      "<class 'set'>\n",
      "não tem o número 3\n"
     ]
    }
   ],
   "source": [
    "#Forma 2 - Mais comum\n",
    "\n",
    "s = {1,2,4,5,5}\n",
    "print(s)\n",
    "print(type(s))\n",
    "\n",
    "#podemos verificar determinado elemento está contido no conjunto\n",
    "\n",
    "if 3 in s:\n",
    "    print(\"tem o numero 3\")\n",
    "\n",
    "else:\n",
    "    print('não tem o número 3')\n"
   ]
  },
  {
   "cell_type": "code",
   "execution_count": 20,
   "metadata": {},
   "outputs": [
    {
     "name": "stdout",
     "output_type": "stream",
     "text": [
      "Lista: [99, 2, 34, 23, 12, 2, 1, 44, 5, 34] com 10 elementos\n",
      "tupla: (99, 2, 34, 23, 12, 2, 1, 44, 5, 34) com 10 elementos\n",
      "Dicionario: {99: 'dict', 2: 'dict', 34: 'dict', 23: 'dict', 12: 'dict', 1: 'dict', 44: 'dict', 5: 'dict'} com 8 elementos\n",
      "Conjunto: {1, 2, 99, 34, 5, 12, 44, 23} com 8 elementos\n"
     ]
    }
   ],
   "source": [
    "# Importante lembrar que, alem de não termos valores duplicados , não temos ordem\n",
    "\n",
    "lista = [99,2,34,23,12,2,1,44,5,34] #aceita itens repetidos\n",
    "print(f'Lista: {lista} com {len(lista)} elementos')\n",
    "\n",
    "tupla = 99,2,34,23,12,2,1,44,5,34  #aceita itens repetidos\n",
    "print(f'tupla: {tupla} com {len(tupla)} elementos')\n",
    "\n",
    "dicionario = {}.fromkeys([99,2,34,23,12,2,1,44,5,34], 'dict') # não aceita itens repetidos\n",
    "print(f'Dicionario: {dicionario} com {len(dicionario)} elementos')\n",
    "\n",
    "\n",
    "conjunto = {99,2,34,23,12,2,1,44,5,34}  # não aceita itens repetidos\n",
    "print(f'Conjunto: {conjunto} com {len(conjunto)} elementos')\n"
   ]
  },
  {
   "cell_type": "code",
   "execution_count": 21,
   "metadata": {},
   "outputs": [
    {
     "name": "stdout",
     "output_type": "stream",
     "text": [
      "['belo horizonte', 'são paulo', 'campo grande', 'cuiaba', 'campo grande', 'são paulo', 'cuiaba']\n",
      "7\n",
      "4\n"
     ]
    }
   ],
   "source": [
    "#usos interessantes com Sets\n",
    "\n",
    "#imagine que fizemos um formulario de cadastro de visitantes \n",
    "#e os visitantes informam manualmente a cidade de onde vieram\n",
    "\n",
    "#nós adicionamos cada cidade em umna lista Python, já que em uma lista podemos adicionar novos elementos e ter repetição \n",
    "\n",
    "cidades = ['belo horizonte','são paulo', 'campo grande', 'cuiaba', 'campo grande', 'são paulo', 'cuiaba']\n",
    "\n",
    "print(cidades)\n",
    "print(len(cidades))#quantas pessoas ?\n",
    "\n",
    "print(len(set(cidades))) \n"
   ]
  },
  {
   "cell_type": "code",
   "execution_count": 24,
   "metadata": {},
   "outputs": [
    {
     "name": "stdout",
     "output_type": "stream",
     "text": [
      "{1, 2, 3}\n",
      "{1, 2, 3, '4'}\n"
     ]
    }
   ],
   "source": [
    "# Adicionando elementos em um conjunto\n",
    "s = {1, 2, 3}\n",
    "print(s)\n",
    "\n",
    "s.add('4')\n",
    "s.add('4') # duplicidade não gera erro. Simplismente é ignorado \n",
    "print(s)"
   ]
  },
  {
   "cell_type": "code",
   "execution_count": 25,
   "metadata": {},
   "outputs": [
    {
     "name": "stdout",
     "output_type": "stream",
     "text": [
      "{1, 2, 3}\n",
      "{1, 2}\n",
      "{1}\n"
     ]
    }
   ],
   "source": [
    "#Remover elementos em um conjunto\n",
    "\n",
    "s = {1, 2, 3}\n",
    "print(s)\n",
    "\n",
    "# Forma 1\n",
    "\n",
    "s.remove(3) # não é indice! informamos o valor a ser removido\n",
    "\n",
    "print (s)\n",
    "\n",
    "#OBs: caso o valor não seja encontrado vai gerar um KeyError\n",
    "\n",
    "#Forma 2\n",
    "\n",
    "s.discard(2)\n",
    "\n",
    "print(s)\n"
   ]
  },
  {
   "cell_type": "code",
   "execution_count": 26,
   "metadata": {},
   "outputs": [
    {
     "name": "stdout",
     "output_type": "stream",
     "text": [
      "{1, 2, 3}\n",
      "{1, 2, 3, 4}\n",
      "{1, 2, 3}\n",
      "{1, 2, 3, 4}\n",
      "{1, 2, 3, 4}\n"
     ]
    }
   ],
   "source": [
    "# Copiando um conjunto para outro...\n",
    "\n",
    "# Forma 1 - Deep Copy\n",
    "s = {1, 2, 3}\n",
    "print(s) \n",
    "\n",
    "novo = s.copy()\n",
    "\n",
    "novo.add(4)\n",
    "\n",
    "print(novo)\n",
    "print(s)\n",
    "\n",
    "#Forma 2 - Shallow Copy\n",
    "\n",
    "novo = s\n",
    "\n",
    "novo.add(4)\n",
    "\n",
    "print(novo)\n",
    "print(s)"
   ]
  },
  {
   "cell_type": "code",
   "execution_count": 28,
   "metadata": {},
   "outputs": [
    {
     "name": "stdout",
     "output_type": "stream",
     "text": [
      "{1, 2, 3}\n",
      "set()\n"
     ]
    }
   ],
   "source": [
    "#podemos remover todos os itens de um conjunto \n",
    "\n",
    "s = {1, 2, 3}\n",
    "print(s)\n",
    "\n",
    "s.clear()\n",
    "print(s)"
   ]
  },
  {
   "cell_type": "markdown",
   "metadata": {},
   "source": [
    "Métodos Matemáticos de Conjuntos\n",
    "\n",
    "imagine que temos dois conjuntos: Um contendo estudantes do curso Python e um contendo estudantes do curso de Java.\n"
   ]
  },
  {
   "cell_type": "code",
   "execution_count": 30,
   "metadata": {},
   "outputs": [
    {
     "name": "stdout",
     "output_type": "stream",
     "text": [
      "{'Marcos', 'Julia', 'Ana', 'Guilherme', 'Fernando', 'Patricia', 'Gustavo', 'Ellen', 'Pedro'}\n",
      "{'Marcos', 'Julia', 'Ana', 'Guilherme', 'Fernando', 'Patricia', 'Gustavo', 'Ellen', 'Pedro'}\n"
     ]
    }
   ],
   "source": [
    "estudantes_python = {'Marcos','Patricia','Ellen','Pedro','Julia','Guilherme'}\n",
    "estudantes_java = {'Fernando', 'Gustavo', 'Julia','Ana','Patricia'}\n",
    "\n",
    "#veja que alguns do alunos que estudam python também estudam java\n",
    "\n",
    "#precisamos gerar um conjunto com nome de estudantes unicos\n",
    "\n",
    "# Forma 1 - Utilizando um union\n",
    "\n",
    "unicos1 = estudantes_python.union(estudantes_java)\n",
    "\n",
    "print(unicos1)\n",
    "\n",
    "\n",
    "#FORMA 2 - Utilizando o caractere pip |\n",
    "unicos2 = estudantes_python | estudantes_java\n",
    "\n",
    "print(unicos2)"
   ]
  },
  {
   "cell_type": "code",
   "execution_count": 31,
   "metadata": {},
   "outputs": [
    {
     "name": "stdout",
     "output_type": "stream",
     "text": [
      "{'Patricia', 'Julia'}\n",
      "{'Patricia', 'Julia'}\n"
     ]
    }
   ],
   "source": [
    "estudantes_python = {'Marcos','Patricia','Ellen','Pedro','Julia','Guilherme'}\n",
    "estudantes_java = {'Fernando', 'Gustavo', 'Julia','Ana','Patricia'}\n",
    "\n",
    "#Gerar um conjunto de estudantes que estão em ambos os cursos\n",
    "\n",
    "#forma 1 - utilizando intersection\n",
    "\n",
    "ambos1 = estudantes_java.intersection(estudantes_python)\n",
    "print(ambos1)\n",
    "\n",
    "#Forma 2 utilizando o &\n",
    "\n",
    "ambos2 = estudantes_python & estudantes_java\n",
    "print(ambos2)"
   ]
  },
  {
   "cell_type": "code",
   "execution_count": 33,
   "metadata": {},
   "outputs": [
    {
     "name": "stdout",
     "output_type": "stream",
     "text": [
      "{'Ellen', 'Guilherme', 'Marcos', 'Pedro'}\n",
      "{'Ana', 'Fernando', 'Gustavo'}\n"
     ]
    }
   ],
   "source": [
    "estudantes_python = {'Marcos','Patricia','Ellen','Pedro','Julia','Guilherme'}\n",
    "estudantes_java = {'Fernando', 'Gustavo', 'Julia','Ana','Patricia'}\n",
    "\n",
    "#Gerar um conjunto de estudantes que n~]ao estão no outro curso \n",
    "\n",
    "so_python = estudantes_python.difference(estudantes_java)\n",
    "print(so_python)\n",
    "\n",
    "so_java = estudantes_java.difference(estudantes_python)\n",
    "print(so_java)"
   ]
  },
  {
   "cell_type": "code",
   "execution_count": 34,
   "metadata": {},
   "outputs": [
    {
     "name": "stdout",
     "output_type": "stream",
     "text": [
      "21\n",
      "6\n",
      "1\n",
      "6\n"
     ]
    }
   ],
   "source": [
    "#soma, valor max, valor minimo, tamanho\n",
    "\n",
    "s = {1,2,3,4,5,6}\n",
    "\n",
    "print(sum(s))\n",
    "print(max(s))\n",
    "print(min(s))\n",
    "print(len(s))\n"
   ]
  }
 ],
 "metadata": {
  "kernelspec": {
   "display_name": "Python 3",
   "language": "python",
   "name": "python3"
  },
  "language_info": {
   "codemirror_mode": {
    "name": "ipython",
    "version": 3
   },
   "file_extension": ".py",
   "mimetype": "text/x-python",
   "name": "python",
   "nbconvert_exporter": "python",
   "pygments_lexer": "ipython3",
   "version": "3.11.9"
  }
 },
 "nbformat": 4,
 "nbformat_minor": 2
}

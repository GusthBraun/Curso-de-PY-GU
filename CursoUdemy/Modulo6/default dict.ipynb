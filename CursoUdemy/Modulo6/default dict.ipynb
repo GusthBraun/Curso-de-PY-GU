{
 "cells": [
  {
   "cell_type": "markdown",
   "metadata": {},
   "source": [
    "Modulo collection - Default Dict\n",
    "\n",
    "Default Dict -> Ao criar um dicionário utilizando-o, nós informamos um valor default, podendo utilizar um lambda para isso. Este valor será utilizado sempre que não houver um valor definido. Caso tentemos acessar uma chave que não existe, essa chave será criada e o valor default será atribuído. \n",
    "\n",
    "OBS: Lamdas são funções sem nome, que podem ou não receber parâmetros de entrada e retornar valores."
   ]
  },
  {
   "cell_type": "code",
   "execution_count": 1,
   "metadata": {},
   "outputs": [
    {
     "name": "stdout",
     "output_type": "stream",
     "text": [
      "{'Curso': 'Programação em Python Essencial'}\n",
      "Programação em Python Essencial\n"
     ]
    }
   ],
   "source": [
    "dicionario = {'Curso':'Programação em Python Essencial'}\n",
    "\n",
    "print(dicionario)\n",
    "\n",
    "print(dicionario['Curso'])\n",
    "\n",
    "#print(dicionario['outro']) #vai dar keyerror"
   ]
  },
  {
   "cell_type": "code",
   "execution_count": 3,
   "metadata": {},
   "outputs": [
    {
     "name": "stdout",
     "output_type": "stream",
     "text": [
      "defaultdict(<function <lambda> at 0x000001C80817B6A0>, {'Curso': 'Programação em python: essencial'})\n",
      "0\n",
      "defaultdict(<function <lambda> at 0x000001C80817B6A0>, {'Curso': 'Programação em python: essencial', 'outro': 0})\n"
     ]
    }
   ],
   "source": [
    "#fazeendo o import \n",
    "from collections import defaultdict\n",
    "\n",
    "dicionario = defaultdict(lambda: 0)\n",
    "\n",
    "dicionario['Curso'] = 'Programação em python: essencial'\n",
    "\n",
    "print(dicionario)\n",
    "\n",
    "print(dicionario['outro'])\n",
    "\n",
    "print(dicionario)"
   ]
  }
 ],
 "metadata": {
  "kernelspec": {
   "display_name": "Python 3",
   "language": "python",
   "name": "python3"
  },
  "language_info": {
   "codemirror_mode": {
    "name": "ipython",
    "version": 3
   },
   "file_extension": ".py",
   "mimetype": "text/x-python",
   "name": "python",
   "nbconvert_exporter": "python",
   "pygments_lexer": "ipython3",
   "version": "3.11.9"
  }
 },
 "nbformat": 4,
 "nbformat_minor": 2
}

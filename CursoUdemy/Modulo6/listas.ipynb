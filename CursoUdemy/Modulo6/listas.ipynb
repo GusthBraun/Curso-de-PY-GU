{
 "cells": [
  {
   "cell_type": "markdown",
   "metadata": {},
   "source": [
    "Listas\n",
    "\n",
    "Em Python funcional como vetores/matrizes (arrays) em outras linguagens com a diferença de serem DINÂMICO e também de podermos colocar QUALQUER tipo de dado.\n",
    "\n",
    "Linguagens C/Java: Arrays\n",
    "\n",
    "    - Possuem tamanho e tipo de dado fixo;\n",
    "    ou Seja nessas linguagens se vocÊ criar um array do tipo int e com tamanho 5, este array será SEMPRE do tipo inteiro e poderá ter SEMPRE no máxio 5 valores.\n",
    "\n",
    "Já em Python:\n",
    "\n",
    "- DinÂmico: Não possui tamanho fixo: Ou seja, podemos criar a lista e simplismente ir adicionando elementos\n",
    "- Qualquer tipo de dado: não possuem tipo de dado fixo; ou seja podemos colocoar qualquer tipo de dado;\n",
    "\n",
    "As litas em python são representadas por colchetes[ ]\n",
    "\n",
    "lista são mutaveis ou seja elas podem mudar constantemente\n"
   ]
  },
  {
   "cell_type": "code",
   "execution_count": 30,
   "metadata": {},
   "outputs": [],
   "source": [
    "type([])\n",
    "\n",
    "lista1= [1, 99, 4, 27, 15, 22, 3, 1, 44, 42, 21]\n",
    "\n",
    "lista2= ['G','E','E','K','U','N','I','V','E','V','C','I','T','Y']\n",
    "\n",
    "lista3 = []\n",
    "\n",
    "lista4 = list(range(11))\n",
    "\n",
    "lista5 = list('Geek University')"
   ]
  },
  {
   "cell_type": "code",
   "execution_count": 11,
   "metadata": {},
   "outputs": [
    {
     "name": "stdout",
     "output_type": "stream",
     "text": [
      " encontrei7\n"
     ]
    }
   ],
   "source": [
    "#podemos facilmente checar se determinado valor está contido na lista\n",
    "\n",
    "num = 7\n",
    "if num in lista4:\n",
    "    print(f' encontrei{num}')\n",
    "else:\n",
    "    print(f' não encontrei o valor {num}')\n"
   ]
  },
  {
   "cell_type": "code",
   "execution_count": 12,
   "metadata": {},
   "outputs": [
    {
     "name": "stdout",
     "output_type": "stream",
     "text": [
      "[1, 1, 3, 4, 15, 21, 22, 27, 42, 44, 99]\n"
     ]
    }
   ],
   "source": [
    "#podemos facilmente ordenar uma lista\n",
    "lista1.sort()\n",
    "print(lista1)"
   ]
  },
  {
   "cell_type": "code",
   "execution_count": 13,
   "metadata": {},
   "outputs": [
    {
     "name": "stdout",
     "output_type": "stream",
     "text": [
      "2\n",
      "3\n"
     ]
    }
   ],
   "source": [
    "#podemos facilmente conta o número de ocorrências de um valor em uma lista\n",
    "print(lista1.count(1))\n",
    "print(lista5.count('e'))"
   ]
  },
  {
   "cell_type": "code",
   "execution_count": 14,
   "metadata": {},
   "outputs": [
    {
     "name": "stdout",
     "output_type": "stream",
     "text": [
      "[1, 1, 3, 4, 15, 21, 22, 27, 42, 44, 99]\n",
      "[1, 1, 3, 4, 15, 21, 22, 27, 42, 44, 99, 42]\n"
     ]
    }
   ],
   "source": [
    "#Para adicionar elementos em listas, uitilizamos a fun;áo append\n",
    "\n",
    "#OBS: Com append, nós só conseguimos adicionar 1 elemento por vez \n",
    "\n",
    "\n",
    "print(lista1)\n",
    "lista1.append(42)\n",
    "print(lista1)\n",
    "\n",
    "\n"
   ]
  },
  {
   "cell_type": "code",
   "execution_count": 15,
   "metadata": {},
   "outputs": [
    {
     "name": "stdout",
     "output_type": "stream",
     "text": [
      "[1, 1, 3, 4, 15, 21, 22, 27, 42, 44, 99, 42, [8, 3, 11]]\n",
      "encontrei\n",
      "[1, 1, 3, 4, 15, 21, 22, 27, 42, 44, 99, 42, [8, 3, 11], 123, 44, 67]\n"
     ]
    }
   ],
   "source": [
    "#entretanto ao colocar uma lista com varios elementos será considerado como se fosse apenas um elemento\n",
    "\n",
    "lista1.append([8, 3, 11])\n",
    "print(lista1)\n",
    "\n",
    "if[8,3,11] in lista1:\n",
    "    print('encontrei')\n",
    "else:\n",
    "    print('não encontrei a lista')\n",
    "\n",
    "lista1.extend([123, 44, 67]) #Coloca cada elemento da lista como valor adicional á lista\n",
    "print(lista1)\n"
   ]
  },
  {
   "cell_type": "code",
   "execution_count": 16,
   "metadata": {},
   "outputs": [
    {
     "name": "stdout",
     "output_type": "stream",
     "text": [
      "[1, 1, 3, 4, 15, 21, 22, 27, 42, 44, 99, 42, [8, 3, 11], 123, 44, 67, 'G', 'E', 'E', 'K', 'U', 'N', 'I', 'V', 'E', 'C', 'I', 'T', 'Y']\n"
     ]
    }
   ],
   "source": [
    "#Podemos juntar 2 listas\n",
    "\n",
    "lista1.extend(lista2)\n",
    "#lista 1 = lista1+ lista 2 \\\\isso é o que estamos fazendo no campo de cima \n",
    "print(lista1)\n"
   ]
  },
  {
   "cell_type": "code",
   "execution_count": 19,
   "metadata": {},
   "outputs": [
    {
     "name": "stdout",
     "output_type": "stream",
     "text": [
      "[21, 42, 44, 1, 3, 22, 15, 27, 4, 99, 1]\n",
      "['Y', 'T', 'I', 'C', 'E', 'V', 'I', 'N', 'U', 'K', 'E', 'E', 'G']\n"
     ]
    }
   ],
   "source": [
    "#PODEMOS FACILMENTE INVERTER UMA LISTA\n",
    "\n",
    "lista1.reverse()\n",
    "lista2.reverse()\n",
    "print(lista1)\n",
    "print(lista2)\n",
    "\n",
    "#print(lista1[::-1])\n",
    "#print(lista2[::-1])"
   ]
  },
  {
   "cell_type": "code",
   "execution_count": 22,
   "metadata": {},
   "outputs": [
    {
     "name": "stdout",
     "output_type": "stream",
     "text": [
      "['G', 'E', 'E', 'K', 'U', 'N', 'I', 'V', 'E', 'C', 'I', 'T', 'Y']\n"
     ]
    }
   ],
   "source": [
    "#copiar uma lista\n",
    "\n",
    "lista6 = lista2.copy()\n",
    "print(lista6)"
   ]
  },
  {
   "cell_type": "code",
   "execution_count": 23,
   "metadata": {},
   "outputs": [
    {
     "name": "stdout",
     "output_type": "stream",
     "text": [
      "15\n"
     ]
    }
   ],
   "source": [
    "#podemos contar quandos elementos temos dentro de uma lista \n",
    "print(len(lista5))"
   ]
  },
  {
   "cell_type": "code",
   "execution_count": 31,
   "metadata": {},
   "outputs": [
    {
     "name": "stdout",
     "output_type": "stream",
     "text": [
      "[1, 99, 4, 27, 15, 22, 3, 1, 44, 42, 21]\n",
      "[1, 99, 4, 27, 15, 22, 3, 1, 44, 42]\n",
      "['G', 'e', 'e', 'k', ' ', 'U', 'n', 'i', 'v', 'e', 'r', 's', 'i', 't', 'y']\n",
      "['G', 'e', 'k', ' ', 'U', 'n', 'i', 'v', 'e', 'r', 's', 'i', 't', 'y']\n"
     ]
    }
   ],
   "source": [
    "#podemos remover o último elemento de uma lista\n",
    "print(lista1)\n",
    "lista1.pop()\n",
    "print(lista1)\n",
    "\n",
    "#e também pelo indice \n",
    "print(lista5)\n",
    "lista5.pop(2)\n",
    "print(lista5)"
   ]
  },
  {
   "cell_type": "code",
   "execution_count": 33,
   "metadata": {},
   "outputs": [
    {
     "name": "stdout",
     "output_type": "stream",
     "text": [
      "[1, 2, 3]\n",
      "[1, 2, 3, 1, 2, 3, 1, 2, 3]\n",
      "[1, 1, 1, 2, 2, 2, 3, 3, 3]\n"
     ]
    }
   ],
   "source": [
    "#podemos facilmente repetir elementos em uma lista\n",
    "\n",
    "nova = [ 1, 2, 3]\n",
    "print(nova)\n",
    "nova = nova * 3\n",
    "print(nova)\n",
    "nova.sort()\n",
    "print(nova)"
   ]
  },
  {
   "cell_type": "code",
   "execution_count": 34,
   "metadata": {},
   "outputs": [
    {
     "name": "stdout",
     "output_type": "stream",
     "text": [
      "['programação', 'em', 'Python', 'Essencial']\n",
      "programação em Python Essencial\n"
     ]
    }
   ],
   "source": [
    "# Convertendo uma lista em uma string\n",
    "\n",
    "lista7 = ['programação', 'em', 'Python', 'Essencial']\n",
    "print(lista7)\n",
    "\n",
    "#abaixo estamos falando: PEga a lista 6 e coloca espaço entre cada elemento e tranforma em uma string\n",
    "curso = ' '.join(lista7)\n",
    "print(curso)"
   ]
  },
  {
   "cell_type": "code",
   "execution_count": 35,
   "metadata": {},
   "outputs": [
    {
     "name": "stdout",
     "output_type": "stream",
     "text": [
      "[1, 2.34, True, 'Geek', 'd', ['1, 2, 3'], 45345345345]\n",
      "<class 'list'>\n"
     ]
    }
   ],
   "source": [
    "# Podemos realmente colocar qualuqer tipo de dado em uma lista, inclusive misturanbdo esses dados\n",
    "\n",
    "lista6 =[1, 2.34, True, 'Geek', 'd', ['1, 2, 3'], 45345345345]\n",
    "print(lista6)\n",
    "print(type(lista6))"
   ]
  },
  {
   "cell_type": "code",
   "execution_count": 37,
   "metadata": {},
   "outputs": [
    {
     "name": "stdout",
     "output_type": "stream",
     "text": [
      "0\n",
      "1\n",
      "2\n",
      "3\n",
      "4\n",
      "5\n",
      "6\n",
      "7\n",
      "8\n",
      "9\n",
      "10\n",
      "55\n"
     ]
    }
   ],
   "source": [
    "# Iterando sobre listaas\n",
    "\n",
    "# Exemplo 1 - Utilizando for \n",
    "\n",
    "soma = 0\n",
    "for elemento in lista4:\n",
    "    print(elemento)\n",
    "    soma = soma + elemento\n",
    "print(soma)"
   ]
  },
  {
   "cell_type": "code",
   "execution_count": null,
   "metadata": {},
   "outputs": [],
   "source": [
    "# Exemplo 2 - utlizando while\n",
    "\n",
    "carrinho = []\n",
    "podurto = ''\n",
    "\n",
    "while produto != 'sair':\n",
    "    print(\"Adicione um produto na lista ou digite 'sair' para sair\")\n",
    "    produto = input()\n",
    "    if produto != 'sair':\n",
    "        carrinho.append(produto)\n",
    "\n",
    "for produto in carrinho:\n",
    "    print(produto)\n"
   ]
  },
  {
   "cell_type": "code",
   "execution_count": 38,
   "metadata": {},
   "outputs": [
    {
     "name": "stdout",
     "output_type": "stream",
     "text": [
      "0 verde\n",
      "1 Amarelo\n",
      "2 Branco\n",
      "3 Vermelho\n"
     ]
    }
   ],
   "source": [
    "# Gerar indice em um for\n",
    "\n",
    "cores =['verde', 'Amarelo', 'Branco', 'Vermelho']\n",
    "\n",
    "for indice, cor in enumerate(cores):\n",
    "    print(indice, cor)\n",
    "\n"
   ]
  },
  {
   "cell_type": "code",
   "execution_count": 39,
   "metadata": {},
   "outputs": [
    {
     "name": "stdout",
     "output_type": "stream",
     "text": [
      "1\n",
      "4\n"
     ]
    }
   ],
   "source": [
    "#encontrar  o indice de um elemento na lista \n",
    "\n",
    "numeros = [5, 6, 7 , 8 , 9, 10]\n",
    "\n",
    "#Em qual indice está o valor 6\n",
    "print(numeros.index(6))\n",
    "\n",
    "\n",
    "#Em qual indice da lista está o valor 9?\n",
    "print(numeros.index(9))\n",
    "\n",
    "# OBS: Caso não tenha este elemento na lista, será apresentado erro ValueError\n",
    "\n",
    "# OBS: Retorna o índice do primeiro elemento encontrato\n",
    "\n",
    "# Padoremos fazer busca dentro de um rang eou seja , qual indice começar a buscar\n",
    "\n",
    "# podemos fazer uma busca dentro de um indice inicio/fim\n",
    "\n"
   ]
  },
  {
   "cell_type": "code",
   "execution_count": null,
   "metadata": {},
   "outputs": [],
   "source": [
    "#revisão de slicing \n",
    "\n",
    "#lista[inicio:fim:passo]\n",
    "#range(inicio:fim:passo)\n",
    "\n",
    "#Trabalhando com slice de lista com o parâmetro 'inicio'\n",
    "\n",
    "lista = [1, 2, 3, 4]\n",
    "\n",
    "print(lista[1:]) #iniciando com index 1 e pegando todos os elementos restantes\n",
    "\n",
    "\n",
    "#Trabalhando com slice de lista com o parâmetro 'fim'\n",
    "\n",
    "print(lista[:2]) # começa em 0, pega até o indice 3 -1 "
   ]
  },
  {
   "cell_type": "code",
   "execution_count": null,
   "metadata": {},
   "outputs": [],
   "source": [
    "#invertendo valores em uma lista\n",
    "\n",
    "nomes =['Geek', 'University']\n",
    "\n",
    "#nomes[0], nomes[1] = nomes[1], nomes[0]\n",
    "\n",
    "nomes.reverse()\n",
    "print(nomes)"
   ]
  },
  {
   "cell_type": "code",
   "execution_count": null,
   "metadata": {},
   "outputs": [],
   "source": [
    "# Soma, Valor máximo\", Valor minimo*, Tamanmho\n",
    "\n",
    "# Se os valores forem todos inteiros ou reais \n",
    "\n",
    "lista [ 1, 2, 3, 4, 5, 6]\n",
    "\n",
    "print(sum(lista))#soma\n",
    "print(max(lista))#maximo valor\n",
    "print(min(lista))#minimo valor\n",
    "print(len(lista))#tamanho da lista\n",
    "\n",
    "tupla = (tuple(lista))\n",
    "print(tupla)\n",
    "print(type(tupla))\n"
   ]
  },
  {
   "cell_type": "code",
   "execution_count": 2,
   "metadata": {},
   "outputs": [
    {
     "name": "stdout",
     "output_type": "stream",
     "text": [
      "1\n",
      "2\n",
      "3\n"
     ]
    }
   ],
   "source": [
    "# Desempacotamento de listas\n",
    "\n",
    "lista = [1, 2, 3]\n",
    "\n",
    "num1, num2, num3 = lista\n",
    "\n",
    "print(num1)\n",
    "print(num2)\n",
    "print(num3)\n",
    "\n",
    "#OBs: Se tivermos mais elemento para desempacotar do que variaveis para receber os valores ou o inverso teremos Value Error\n",
    "\n"
   ]
  },
  {
   "cell_type": "code",
   "execution_count": 1,
   "metadata": {},
   "outputs": [
    {
     "name": "stdout",
     "output_type": "stream",
     "text": [
      "[1, 2, 3]\n",
      "[1, 2, 3]\n",
      "[1, 2, 3, 4]\n"
     ]
    }
   ],
   "source": [
    "# Copiando uma lista para outa( Shallow Copy e Deep Copy)\n",
    "\n",
    "# Forma 1 Deep Copy\n",
    "\n",
    "lista = [1, 2, 3]\n",
    "print(lista)\n",
    "\n",
    "nova = lista.copy()\n",
    "\n",
    "nova.append(4)\n",
    "\n",
    "print(lista)\n",
    "print(nova)\n"
   ]
  }
 ],
 "metadata": {
  "kernelspec": {
   "display_name": "Python 3",
   "language": "python",
   "name": "python3"
  },
  "language_info": {
   "codemirror_mode": {
    "name": "ipython",
    "version": 3
   },
   "file_extension": ".py",
   "mimetype": "text/x-python",
   "name": "python",
   "nbconvert_exporter": "python",
   "pygments_lexer": "ipython3",
   "version": "3.11.9"
  }
 },
 "nbformat": 4,
 "nbformat_minor": 2
}

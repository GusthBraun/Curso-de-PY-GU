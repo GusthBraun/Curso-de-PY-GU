{
 "cells": [
  {
   "cell_type": "markdown",
   "metadata": {},
   "source": [
    "utilizando Lambdas \n",
    "\n",
    "conhecidas por Expressões Lambdas, ou simplesmente Lambdas, são funções sem nome, ou seja, funções anônimas."
   ]
  },
  {
   "cell_type": "code",
   "execution_count": 3,
   "metadata": {},
   "outputs": [
    {
     "name": "stdout",
     "output_type": "stream",
     "text": [
      "13\n",
      "22\n",
      "13\n",
      "22\n"
     ]
    }
   ],
   "source": [
    "def funcao(x):\n",
    "    return 3 *x + 1\n",
    "\n",
    "print(funcao(4))\n",
    "print(funcao(7)) \n",
    "\n",
    "lambda x: 3* x + 1\n",
    "\n",
    "#como utilizar a expressão lambda?\n",
    "\n",
    "calc = lambda x: 3 * x + 1\n",
    "\n",
    "print(calc(4))\n",
    "print(calc(7))"
   ]
  },
  {
   "cell_type": "markdown",
   "metadata": {},
   "source": [
    "Podemos ter expressões lambdas com múltiplas entradas"
   ]
  },
  {
   "cell_type": "code",
   "execution_count": 6,
   "metadata": {},
   "outputs": [
    {
     "name": "stdout",
     "output_type": "stream",
     "text": [
      "Andelina Jolie\n",
      "Felicity Jones\n"
     ]
    }
   ],
   "source": [
    "nome_completo = lambda nome, sobrenomes: nome.strip().title() + ' ' + sobrenomes.strip().title()\n",
    "print(nome_completo(' andelina ', 'JOLIE'))\n",
    "print(nome_completo(' FELICITY      ', ' JONES '))\n"
   ]
  },
  {
   "cell_type": "markdown",
   "metadata": {},
   "source": [
    "Em funções Python ter nenhuma ou várias entradas. Em lambdas também \n"
   ]
  },
  {
   "cell_type": "code",
   "execution_count": 8,
   "metadata": {},
   "outputs": [
    {
     "name": "stdout",
     "output_type": "stream",
     "text": [
      "Como não amar Python?\n",
      "18\n",
      "5.916079783099616\n",
      "4.909090909090908\n"
     ]
    }
   ],
   "source": [
    "amar = lambda: 'Como não amar Python?'\n",
    "\n",
    "uma = lambda x : 3 * x * 1\n",
    "\n",
    "duas = lambda x, y: (x*y) ** 0.5\n",
    "\n",
    "tres = lambda x, y, z: 3/ (1/ x +1 / y + 1 / z)\n",
    "\n",
    "print(amar())\n",
    "print(uma(6))\n",
    "print(duas(5,7))\n",
    "print(tres(3,6,9))"
   ]
  },
  {
   "cell_type": "markdown",
   "metadata": {},
   "source": [
    "se passarmos mais argumentos do que parâmetros esperados teremos TypeError\n"
   ]
  },
  {
   "cell_type": "code",
   "execution_count": 9,
   "metadata": {},
   "outputs": [
    {
     "name": "stdout",
     "output_type": "stream",
     "text": [
      "['Isaac Asimov', 'Ray bradbury', 'Robert Heinlein', 'Arthur C. Clarke', 'Frank Herbert', 'Orson Scott Card', 'Douglas Adams', 'H. P. Lovecraft', 'Leigh Brackett']\n",
      "['Douglas Adams', 'Isaac Asimov', 'Leigh Brackett', 'Ray bradbury', 'Orson Scott Card', 'Arthur C. Clarke', 'Robert Heinlein', 'Frank Herbert', 'H. P. Lovecraft']\n"
     ]
    }
   ],
   "source": [
    "autores =['Isaac Asimov', 'Ray bradbury', 'Robert Heinlein', 'Arthur C. Clarke','Frank Herbert','Orson Scott Card', 'Douglas Adams','H. P. Lovecraft', 'Leigh Brackett']\n",
    "\n",
    "print(autores)\n",
    "\n",
    "autores.sort(key= lambda sobrenome: sobrenome.split(' ')[-1].lower())\n",
    "print(autores)"
   ]
  },
  {
   "cell_type": "markdown",
   "metadata": {},
   "source": [
    "função quadrática:\n",
    "f(x)= a *x **2 + b * x + c\n",
    "\n",
    "definindo a função"
   ]
  },
  {
   "cell_type": "code",
   "execution_count": null,
   "metadata": {},
   "outputs": [],
   "source": [
    "def geradora_funcao_quadratica(a,b,c):\n",
    "    return lambda x:a *x **2 + b * x + c\n",
    "\n",
    "teste= geradora_funcao_quadratica(2,3,-5)\n",
    "\n",
    "print(teste(0))\n",
    "print(teste(1))\n",
    "print(teste(2))"
   ]
  },
  {
   "cell_type": "markdown",
   "metadata": {},
   "source": [
    "geralmente nós usamos lambdas para fazer filtragem e ordenação de dados."
   ]
  }
 ],
 "metadata": {
  "kernelspec": {
   "display_name": "Python 3",
   "language": "python",
   "name": "python3"
  },
  "language_info": {
   "codemirror_mode": {
    "name": "ipython",
    "version": 3
   },
   "file_extension": ".py",
   "mimetype": "text/x-python",
   "name": "python",
   "nbconvert_exporter": "python",
   "pygments_lexer": "ipython3",
   "version": "3.11.9"
  }
 },
 "nbformat": 4,
 "nbformat_minor": 2
}

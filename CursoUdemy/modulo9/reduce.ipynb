{
 "cells": [
  {
   "cell_type": "markdown",
   "metadata": {},
   "source": [
    "Reduce\n",
    "\n",
    "OBS: A partir do Python3+ a função reduce() não é mais uma função integrada (built-in) agora temos que importar e utilizar esta função a partir do modulo 'functools'\n",
    "\n",
    "Guido Van Rossum: Utilize a função reduce() se vocÊ realmente precisa dela. Em todo caso, 99% das vezes um loop for é mais legível.\n",
    "\n",
    "Para entender o reduce()\n",
    "\n",
    "Imgine que você tem uma coleção de dados:\n",
    "\n",
    "dados =[a1,a2,a3,a4,....an]\n",
    "\n",
    "e vocÊ tem uma função que recebe dois parametros:\n",
    "\n",
    "def funcao(x,y)\n",
    "    Return x * y\n",
    "\n",
    "\n",
    "assim como map() e filter (), a função reduce() recebe dois parametros: a função e o iterável.\n",
    "\n",
    "reduce(funcao, dados)\n",
    "\n",
    "A função reduce(), funciona da seguinte forma:\n",
    "    PAsso1:res =f(a1,2) #aplica a função passando o resultado do passo 1 mas o terceiro elemento e guarda o res.\n",
    "    passo2: res2 = f(res1, a3)# Aplica a função passando o resultado do passo1 mais o terceiro elemento e guarda o res.\n",
    "\n",
    "    Isso é repetido até o final.\n",
    "    passo3:ews 3 = f(res2,a4)\n",
    "    .\n",
    "    .\n",
    "    .\n",
    "    passon: resn = (resn, an)\n",
    "\n",
    "Ou seja, em cada passo ela aplica a função passando como primeiro argumento o resultado da aplicação anterior. No final, reduce() irá retornar o resultado final.\n",
    "\n",
    "Alternativamente, poderiamos ver a função reduce() como:\n",
    "\n",
    "funcao(funcao(funcao(a1,a2),a3)........an)\n"
   ]
  },
  {
   "cell_type": "code",
   "execution_count": 2,
   "metadata": {},
   "outputs": [
    {
     "name": "stdout",
     "output_type": "stream",
     "text": [
      "25878772920\n",
      "25878772920\n"
     ]
    }
   ],
   "source": [
    "#como funciona na pratica?\n",
    "\n",
    "#Vamos utilizar a função reduce() para multiplicar todos os números de uma lista\n",
    "\n",
    "from functools import reduce\n",
    "\n",
    "dados = [2, 3, 4, 5, 7, 11, 13, 17, 19, 23, 29]\n",
    "\n",
    "#para utilizar o reduce() nós precisamos de uma função que receba dois parâmetros\n",
    "\n",
    "multi = lambda x, y: x* y\n",
    "res = reduce(multi,dados)\n",
    "print (res)\n",
    "\n",
    "#ultilizando um loop normal\n",
    "res = 1\n",
    "for n in dados:\n",
    "    res = res * n\n",
    "    \n",
    "print(res)"
   ]
  }
 ],
 "metadata": {
  "kernelspec": {
   "display_name": "Python 3",
   "language": "python",
   "name": "python3"
  },
  "language_info": {
   "codemirror_mode": {
    "name": "ipython",
    "version": 3
   },
   "file_extension": ".py",
   "mimetype": "text/x-python",
   "name": "python",
   "nbconvert_exporter": "python",
   "pygments_lexer": "ipython3",
   "version": "3.11.9"
  }
 },
 "nbformat": 4,
 "nbformat_minor": 2
}

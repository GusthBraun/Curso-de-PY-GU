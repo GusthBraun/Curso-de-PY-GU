{
 "cells": [
  {
   "cell_type": "markdown",
   "metadata": {},
   "source": [
    "Len, Abs, Sum, Round\n",
    "\n",
    "Len\n",
    "\n",
    "len() -> Retorna o tamanho (ou seja, o número de itens) de um iterável.\n"
   ]
  },
  {
   "cell_type": "code",
   "execution_count": 7,
   "metadata": {},
   "outputs": [
    {
     "name": "stdout",
     "output_type": "stream",
     "text": [
      "15\n",
      "5\n",
      "5\n",
      "5\n",
      "5\n",
      "10\n",
      "15\n"
     ]
    }
   ],
   "source": [
    "#Só pra revisar\n",
    "\n",
    "print(len('Geek University'))\n",
    "\n",
    "print(len([1, 2, 3, 4, 5]))\n",
    "\n",
    "print(len((1, 2, 3, 4, 5)))\n",
    "\n",
    "print(len({1, 2, 3, 4, 5}))\n",
    "\n",
    "print(len({'a':1, 'b':2,'c': 3,'d': 4,'e': 5}))\n",
    "\n",
    "print(len(range(0, 10)))\n",
    "\n",
    "#Por debaixo dos panos, quando utilizamos a função len() o python faz o seguinte:\n",
    "\n",
    "# Dunder len\n",
    "print('Geek University'.__len__())"
   ]
  },
  {
   "cell_type": "markdown",
   "metadata": {},
   "source": [
    "ABS\n",
    "\n",
    "abs() -> Retorna o valor absoluto de um número inteiro ou real. De forma básica, seria o seu valor real sem o sinal.\n",
    "\n",
    "#Exemplos de Abs:"
   ]
  },
  {
   "cell_type": "code",
   "execution_count": 8,
   "metadata": {},
   "outputs": [
    {
     "name": "stdout",
     "output_type": "stream",
     "text": [
      "5\n",
      "5\n",
      "3.14\n",
      "3.14\n"
     ]
    }
   ],
   "source": [
    "print(abs(-5))\n",
    "print(abs(5))\n",
    "print(abs(3.14))\n",
    "print(abs(-3.14))"
   ]
  },
  {
   "cell_type": "markdown",
   "metadata": {},
   "source": [
    "Sum\n",
    "\n",
    "sum() -> Recebe como parâmetro um iterável, podendo receber um valor inicial, e retorna a soma total dos elementos, incluindo o valor 0\n",
    "\n"
   ]
  },
  {
   "cell_type": "code",
   "execution_count": 9,
   "metadata": {},
   "outputs": [
    {
     "name": "stdout",
     "output_type": "stream",
     "text": [
      "15\n",
      "20\n",
      "8.823\n",
      "15\n",
      "15\n",
      "15\n"
     ]
    }
   ],
   "source": [
    "print(sum([1,2,3,4,5]))\n",
    "\n",
    "print(sum([1,2,3,4,5], 5))\n",
    "\n",
    "print(sum([3.145, 5.678]))\n",
    "\n",
    "print(sum((1,2,3,4,5)))\n",
    "\n",
    "print(sum({1,2,3,4,5}))\n",
    "\n",
    "print(sum({'a': 1,'b': 2,'c': 3,'d': 4,'e': 5}.values()))"
   ]
  },
  {
   "cell_type": "markdown",
   "metadata": {},
   "source": [
    "Round\n",
    "\n",
    "Round() -> Retorna um número arrendodado para n digito de precisão após a casa decimal. Se a precisão não for informada retorna o inteiro mais próximo da entrada \n",
    "\n",
    "\n"
   ]
  },
  {
   "cell_type": "code",
   "execution_count": 10,
   "metadata": {},
   "outputs": [
    {
     "name": "stdout",
     "output_type": "stream",
     "text": [
      "10\n",
      "10\n",
      "11\n",
      "1.21\n",
      "1.22\n"
     ]
    }
   ],
   "source": [
    "print (round(10.2))\n",
    "\n",
    "print(round(10.5))\n",
    "\n",
    "print(round(10.6))\n",
    "\n",
    "print(round(1.21212121, 2))\n",
    "\n",
    "print(round(1.21999999, 2))"
   ]
  }
 ],
 "metadata": {
  "kernelspec": {
   "display_name": "Python 3",
   "language": "python",
   "name": "python3"
  },
  "language_info": {
   "codemirror_mode": {
    "name": "ipython",
    "version": 3
   },
   "file_extension": ".py",
   "mimetype": "text/x-python",
   "name": "python",
   "nbconvert_exporter": "python",
   "pygments_lexer": "ipython3",
   "version": "3.11.9"
  }
 },
 "nbformat": 4,
 "nbformat_minor": 2
}

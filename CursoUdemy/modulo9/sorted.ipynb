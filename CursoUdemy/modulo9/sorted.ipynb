{
 "cells": [
  {
   "cell_type": "markdown",
   "metadata": {},
   "source": [
    "Sorted \n",
    "\n",
    "OBS: não confunda, apesar do nome com a função sort() que já estudamos em listas, o sort() só funciona em listas.\n",
    "\n",
    "podemos utilizar o sorted() com qualquer iterável.\n",
    "\n",
    "como o próprio nome diz, sorted() serve para ordenar.\n",
    "\n",
    "OBS: O sorted, SEMPRE retorna uma Lista com os elementos do iterável ordenados"
   ]
  },
  {
   "cell_type": "code",
   "execution_count": null,
   "metadata": {},
   "outputs": [],
   "source": [
    "numeros = [6, 1, 8, 2]\n",
    "print(numeros)\n",
    "\n",
    "print(sorted(numeros)) #ordenar do menor para o maior ele cria uma nova lista ordenada \n",
    "\n",
    "print(numeros)"
   ]
  },
  {
   "cell_type": "code",
   "execution_count": 1,
   "metadata": {},
   "outputs": [
    {
     "name": "stdout",
     "output_type": "stream",
     "text": [
      "[6, 1, 8, 2]\n",
      "[1, 2, 6, 8]\n",
      "[8, 6, 2, 1]\n"
     ]
    }
   ],
   "source": [
    "numeros = [6, 1, 8, 2]\n",
    "print(numeros)\n",
    "\n",
    "print(sorted(numeros))\n",
    "\n",
    "#Adicionando parâmetros ao sorted()\n",
    "\n",
    "print(sorted(numeros,reverse= True)) #ordena do maior para o menos"
   ]
  },
  {
   "cell_type": "code",
   "execution_count": 5,
   "metadata": {},
   "outputs": [
    {
     "name": "stdout",
     "output_type": "stream",
     "text": [
      "[{'username': 'samuel', 'tweets': ['Eu adoro bolos', 'Eu adoro pizzas']}, {'username': 'carla', 'tweets': ['Eu amo meu gato']}, {'username': 'jeff', 'tweets': []}, {'username': 'bob234', 'tweets': []}, {'username': 'doggo', 'tweets': ['Eu gosto de cachorros', 'Vou sair hoje']}, {'username': 'gal', 'tweets': [], 'cor': 'preto', 'musica': 'rock'}]\n",
      "[{'username': 'samuel', 'tweets': ['Eu adoro bolos', 'Eu adoro pizzas']}, {'username': 'carla', 'tweets': ['Eu amo meu gato']}, {'username': 'jeff', 'tweets': []}, {'username': 'bob234', 'tweets': []}, {'username': 'doggo', 'tweets': ['Eu gosto de cachorros', 'Vou sair hoje']}, {'username': 'gal', 'tweets': [], 'cor': 'preto', 'musica': 'rock'}]\n",
      "[{'username': 'jeff', 'tweets': []}, {'username': 'bob234', 'tweets': []}, {'username': 'gal', 'tweets': [], 'cor': 'preto', 'musica': 'rock'}, {'username': 'carla', 'tweets': ['Eu amo meu gato']}, {'username': 'samuel', 'tweets': ['Eu adoro bolos', 'Eu adoro pizzas']}, {'username': 'doggo', 'tweets': ['Eu gosto de cachorros', 'Vou sair hoje']}]\n"
     ]
    }
   ],
   "source": [
    "# Podemos utilizar o sorted() para coisas mais complexas\n",
    "\n",
    "usuarios = [\n",
    "    {\"username\":\"samuel\", \"tweets\": [\"Eu adoro bolos\", \"Eu adoro pizzas\"]},\n",
    "    {\"username\":\"carla\", \"tweets\": [\"Eu amo meu gato\"]},\n",
    "    {\"username\":\"jeff\", \"tweets\": []},\n",
    "    {\"username\":\"bob234\", \"tweets\": []},\n",
    "    {\"username\":\"doggo\", \"tweets\": [\"Eu gosto de cachorros\", \"Vou sair hoje\"]},\n",
    "    {\"username\":\"gal\", \"tweets\": [], \"cor\":\"preto\", \"musica\":\"rock\"},\n",
    "]\n",
    "print(usuarios)\n",
    "\n",
    "print(sorted(usuarios, key=lambda usuarios:\"username\"))\n",
    "\n",
    "#ORdenando pelo número de tweets\n",
    "print(sorted(usuarios,key=lambda usuarios:len(usuarios[\"tweets\"])))\n"
   ]
  }
 ],
 "metadata": {
  "kernelspec": {
   "display_name": "Python 3",
   "language": "python",
   "name": "python3"
  },
  "language_info": {
   "codemirror_mode": {
    "name": "ipython",
    "version": 3
   },
   "file_extension": ".py",
   "mimetype": "text/x-python",
   "name": "python",
   "nbconvert_exporter": "python",
   "pygments_lexer": "ipython3",
   "version": "3.11.9"
  }
 },
 "nbformat": 4,
 "nbformat_minor": 2
}

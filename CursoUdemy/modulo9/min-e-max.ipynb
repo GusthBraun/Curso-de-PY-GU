
{
    "cells": [
     {
      "cell_type": "markdown",
      "metadata": {},
      "source": [
       "MIN e MAX\n",
       "\n",
       "max() - > Retorna o maior valor em um iterável ou maior de dois ou mais elemento."
      ]
     },
     {
      "cell_type": "code",
      "execution_count": 5,
      "metadata": {},
      "outputs": [
       {
        "name": "stdout",
        "output_type": "stream",
        "text": [
         "129\n",
         "129\n",
         "129\n",
         "f\n",
         "129\n"
        ]
       }
      ],
      "source": [
       "#Exemplos\n",
       "\n",
       "lista = [1, 8, 4, 99, 34, 129]\n",
       "print(max(lista))\n",
       "\n",
       "tupla = (1, 8, 4, 99, 34, 129)\n",
       "print(max(tupla))\n",
       "\n",
       "conjunto = {1, 8, 4, 99, 34, 129}\n",
       "print(max(conjunto))\n",
       "\n",
       "dicionario= {'a': 1, 'b':8, 'c':4, 'd':99, 'e': 34, 'f':129 }\n",
       "print(max(dicionario))\n",
       "\n",
       "dicionario= {'a': 1, 'b':8, 'c':4, 'd':99, 'e': 34, 'f':129 }\n",
       "print(max(dicionario.values()))"
      ]
     },
     {
      "cell_type": "code",
      "execution_count": 6,
      "metadata": {},
      "outputs": [
       {
        "name": "stdout",
        "output_type": "stream",
        "text": [
         "58\n"
        ]
       }
      ],
      "source": [
       "#MAIOR VALORES ENTRE CADA UM \n",
       "\n",
       "val1 = int(input('informe o primeiro valor: '))\n",
       "val2 = int(input('Informe o segundo valor: '))\n",
       "\n",
       "print(max(val1, val2))\n"
      ]
     },
     {
      "cell_type": "code",
      "execution_count": 7,
      "metadata": {},
      "outputs": [
       {
        "name": "stdout",
        "output_type": "stream",
        "text": [
         "67\n",
         "abc\n",
         "g\n",
         "5.789\n",
         "y\n"
        ]
       }
      ],
      "source": [
       "#podemos fazer com vários tipos de iteráveis\n",
       "\n",
       "print(max(4, 67, 54))\n",
       "\n",
       "print(max('a', 'ab', 'abc'))\n",
       "\n",
       "print(max('a', 'b', 'c', 'g'))\n",
       "\n",
       "print(max(3.145, 5.789))\n",
       "\n",
       "print(max('Geek University'))\n",
       "\n"
      ]
     },
     {
      "cell_type": "code",
      "execution_count": 8,
      "metadata": {},
      "outputs": [
       {
        "name": "stdout",
        "output_type": "stream",
        "text": [
         "1\n",
         "1\n",
         "1\n",
         "a\n",
         "1\n",
         "4\n",
         "a\n",
         "a\n",
         "3.145\n",
         " \n"
        ]
       }
      ],
      "source": [
       "#min() -> Retorna o menor valor em um iterável ou o menor de dois ou mais elementos\n",
       "\n",
       "lista = [1, 8, 4, 99, 34, 129]\n",
       "print(min(lista))\n",
       "\n",
       "tupla = (1, 8, 4, 99, 34, 129)\n",
       "print(min(tupla))\n",
       "\n",
       "conjunto = {1, 8, 4, 99, 34, 129}\n",
       "print(min(conjunto))\n",
       "\n",
       "dicionario= {'a': 1, 'b':8, 'c':4, 'd':99, 'e': 34, 'f':129 }\n",
       "print(min(dicionario))\n",
       "\n",
       "dicionario= {'a': 1, 'b':8, 'c':4, 'd':99, 'e': 34, 'f':129 }\n",
       "print(min(dicionario.values()))\n",
       "\n",
       "\n",
       "print(min(4, 67, 54))\n",
       "\n",
       "print(min('a', 'ab', 'abc'))\n",
       "\n",
       "print(min('a', 'b', 'c', 'g'))\n",
       "\n",
       "print(min(3.145, 5.789))\n",
       "\n",
       "print(min('Geek University'))"
      ]
     },
     {
      "cell_type": "code",
      "execution_count": 9,
      "metadata": {},
      "outputs": [
       {
        "name": "stdout",
        "output_type": "stream",
        "text": [
         "Tim\n",
         "Arya\n"
        ]
       }
      ],
      "source": [
       "#Outros explos \n",
       "\n",
       "nome = ['Arya', 'Samson','Dora','Tim', 'Olivander']\n",
       "\n",
       "print(max(nome))\n",
       "\n",
       "print(min(nome))"
      ]
     },
     {
      "cell_type": "code",
      "execution_count": 13,
      "metadata": {},
      "outputs": [
       {
        "name": "stdout",
        "output_type": "stream",
        "text": [
         "{'Titulo': 'Too old to rock in roll', 'tocou': 32}\n",
         "{'Titulo': 'Dead Skin Mask', 'tocou': 2}\n"
        ]
       },
       {
        "ename": "TypeError",
        "evalue": "'int' object is not subscriptable",
        "output_type": "error",
        "traceback": [
         "\u001b[1;31m---------------------------------------------------------------------------\u001b[0m",
         "\u001b[1;31mTypeError\u001b[0m                                 Traceback (most recent call last)",
         "Cell \u001b[1;32mIn[13], line 14\u001b[0m\n\u001b[0;32m      9\u001b[0m \u001b[38;5;28mprint\u001b[39m(\u001b[38;5;28mmin\u001b[39m(musicas, key \u001b[38;5;241m=\u001b[39m \u001b[38;5;28;01mlambda\u001b[39;00m musica: musica[\u001b[38;5;124m'\u001b[39m\u001b[38;5;124mtocou\u001b[39m\u001b[38;5;124m'\u001b[39m]))\n\u001b[0;32m     11\u001b[0m \u001b[38;5;66;03m#Impirma somente o título da música mais ou menos tocada\u001b[39;00m\n\u001b[1;32m---> 14\u001b[0m mais_tocada \u001b[38;5;241m=\u001b[39m (\u001b[38;5;28;43mmax\u001b[39;49m\u001b[43m(\u001b[49m\u001b[43mmusicas\u001b[49m\u001b[43m,\u001b[49m\u001b[43m \u001b[49m\u001b[43mkey\u001b[49m\u001b[43m \u001b[49m\u001b[38;5;241;43m=\u001b[39;49m\u001b[43m \u001b[49m\u001b[38;5;28;43;01mlambda\u001b[39;49;00m\u001b[43m \u001b[49m\u001b[43mmusica\u001b[49m\u001b[43m:\u001b[49m\u001b[43m \u001b[49m\u001b[43mmusica\u001b[49m\u001b[43m[\u001b[49m\u001b[38;5;124;43m\"\u001b[39;49m\u001b[38;5;124;43mtocou\u001b[39;49m\u001b[38;5;124;43m\"\u001b[39;49m\u001b[43m]\u001b[49m\u001b[43m[\u001b[49m\u001b[38;5;124;43m\"\u001b[39;49m\u001b[38;5;124;43mtitulo\u001b[39;49m\u001b[38;5;124;43m\"\u001b[39;49m\u001b[43m]\u001b[49m\u001b[43m)\u001b[49m)\n\u001b[0;32m     15\u001b[0m menos_tocada \u001b[38;5;241m=\u001b[39m (\u001b[38;5;28mmin\u001b[39m(musicas, key \u001b[38;5;241m=\u001b[39m \u001b[38;5;28;01mlambda\u001b[39;00m musica: musica[\u001b[38;5;124m\"\u001b[39m\u001b[38;5;124mtocou\u001b[39m\u001b[38;5;124m\"\u001b[39m][\u001b[38;5;124m\"\u001b[39m\u001b[38;5;124mtitulo\u001b[39m\u001b[38;5;124m\"\u001b[39m]))\n\u001b[0;32m     17\u001b[0m \u001b[38;5;28mprint\u001b[39m(mais_tocada)\n",
         "Cell \u001b[1;32mIn[13], line 14\u001b[0m, in \u001b[0;36m<lambda>\u001b[1;34m(musica)\u001b[0m\n\u001b[0;32m      9\u001b[0m \u001b[38;5;28mprint\u001b[39m(\u001b[38;5;28mmin\u001b[39m(musicas, key \u001b[38;5;241m=\u001b[39m \u001b[38;5;28;01mlambda\u001b[39;00m musica: musica[\u001b[38;5;124m'\u001b[39m\u001b[38;5;124mtocou\u001b[39m\u001b[38;5;124m'\u001b[39m]))\n\u001b[0;32m     11\u001b[0m \u001b[38;5;66;03m#Impirma somente o título da música mais ou menos tocada\u001b[39;00m\n\u001b[1;32m---> 14\u001b[0m mais_tocada \u001b[38;5;241m=\u001b[39m (\u001b[38;5;28mmax\u001b[39m(musicas, key \u001b[38;5;241m=\u001b[39m \u001b[38;5;28;01mlambda\u001b[39;00m musica: \u001b[43mmusica\u001b[49m\u001b[43m[\u001b[49m\u001b[38;5;124;43m\"\u001b[39;49m\u001b[38;5;124;43mtocou\u001b[39;49m\u001b[38;5;124;43m\"\u001b[39;49m\u001b[43m]\u001b[49m\u001b[43m[\u001b[49m\u001b[38;5;124;43m\"\u001b[39;49m\u001b[38;5;124;43mtitulo\u001b[39;49m\u001b[38;5;124;43m\"\u001b[39;49m\u001b[43m]\u001b[49m))\n\u001b[0;32m     15\u001b[0m menos_tocada \u001b[38;5;241m=\u001b[39m (\u001b[38;5;28mmin\u001b[39m(musicas, key \u001b[38;5;241m=\u001b[39m \u001b[38;5;28;01mlambda\u001b[39;00m musica: musica[\u001b[38;5;124m\"\u001b[39m\u001b[38;5;124mtocou\u001b[39m\u001b[38;5;124m\"\u001b[39m][\u001b[38;5;124m\"\u001b[39m\u001b[38;5;124mtitulo\u001b[39m\u001b[38;5;124m\"\u001b[39m]))\n\u001b[0;32m     17\u001b[0m \u001b[38;5;28mprint\u001b[39m(mais_tocada)\n",
         "\u001b[1;31mTypeError\u001b[0m: 'int' object is not subscriptable"
        ]
       }
      ],
      "source": [
       "musicas = [\n",
       "    {\"Titulo\":\"Thunderstuck\", \"tocou\": 3},\n",
       "    {\"Titulo\":\"Dead Skin Mask\" , \"tocou\": 2},\n",
       "    {\"Titulo\": \"Back in Clack\", \"tocou\": 4},\n",
       "    {\"Titulo\":\"Too old to rock in roll\" , \"tocou\": 32}\n",
       "]\n",
       "\n",
       "print(max(musicas, key = lambda musica: musica['tocou']))\n",
       "print(min(musicas, key = lambda musica: musica['tocou']))\n",
       "\n",
       "#Impirma somente o título da música mais ou menos tocada\n",
       "\n",
       "\n",
       "print(min(musicas, key=lambda musica: musica[\"tocou\"])[\"Titulo\"])\n",
       "print(min(musicas, key=lambda musica: musica[\"tocou\"])[\"Titulo\"])"
      ]
     },
     {
      "cell_type": "code",
      "execution_count": null,
      "metadata": {},
      "outputs": [],
      "source": []
     }
    ],
    "metadata": {
     "kernelspec": {
      "display_name": "Python 3",
      "language": "python",
      "name": "python3"
     },
     "language_info": {
      "codemirror_mode": {
       "name": "ipython",
       "version": 3
      },
      "file_extension": ".py",
      "mimetype": "text/x-python",
      "name": "python",
      "nbconvert_exporter": "python",
      "pygments_lexer": "ipython3",
      "version": "3.11.9"
     }
    },
    "nbformat": 4,
    "nbformat_minor": 2
   }
   
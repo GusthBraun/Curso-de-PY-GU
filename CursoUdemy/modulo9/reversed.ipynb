{
 "cells": [
  {
   "cell_type": "markdown",
   "metadata": {},
   "source": [
    "Reversed\n",
    "\n",
    "OBS: Não confunda com a função reserve() que estudamos nas listas.\n",
    "\n",
    "A função reverse() só funciona em listas.\n",
    "\n",
    "Já a função reversed() funciona com qualquer iterável.\n",
    "\n",
    "Sua função é inverter o terável.\n",
    "\n",
    "Afunção reversed() retorna um iterável chamado List Reverse Iterator"
   ]
  },
  {
   "cell_type": "code",
   "execution_count": 2,
   "metadata": {},
   "outputs": [
    {
     "name": "stdout",
     "output_type": "stream",
     "text": [
      "<list_reverseiterator object at 0x00000231D0C70BB0>\n",
      "<class 'list_reverseiterator'>\n",
      "[5, 4, 3, 2, 1]\n",
      "(5, 4, 3, 2, 1)\n",
      "{1, 2, 3, 4, 5}\n",
      "ytisrevinU keeGytisrevinU keeG\n",
      "ytisrevinU keeG\n",
      "9\n",
      "8\n",
      "7\n",
      "6\n",
      "5\n",
      "4\n",
      "3\n",
      "2\n",
      "1\n",
      "0\n"
     ]
    }
   ],
   "source": [
    "#Exemplos\n",
    "\n",
    "lista = [1, 2, 3, 4, 5]\n",
    "\n",
    "res = reversed(lista)\n",
    "\n",
    "print(res)\n",
    "print(type(res))\n",
    "\n",
    "#Podemos converter o elemento retornado para um Lista, Tupla ou Conjunto\n",
    "\n",
    "#Lista\n",
    "print(list(reversed(lista)))\n",
    "\n",
    "#Tupla\n",
    "print(tuple(reversed(lista)))\n",
    "\n",
    "# OBS: Em conjuntos, não definimos a ordem dos elementos\n",
    "#Conjunto (Set)\n",
    "print(set(reversed(lista)))\n",
    "\n",
    "#Podemos iterar sobre o reversed\n",
    "for letra in reversed('Geek University'):\n",
    "    print(letra, end='')\n",
    "\n",
    "\n",
    "#Podemos fazer o mesmo sem o uso do for\n",
    "print(''.join(list(reversed('Geek University'))))\n",
    "\n",
    "#Já vimos como fazer isso mais fácil com o slice de strings\n",
    "print('Geek University'[::-1])\n",
    "\n",
    "#Podemos também utilizar o reversed() para fazer um loop for reverso\n",
    "\n",
    "for n in reversed(range(0,10)):\n",
    "    print (n)\n",
    "\n"
   ]
  }
 ],
 "metadata": {
  "kernelspec": {
   "display_name": "Python 3",
   "language": "python",
   "name": "python3"
  },
  "language_info": {
   "codemirror_mode": {
    "name": "ipython",
    "version": 3
   },
   "file_extension": ".py",
   "mimetype": "text/x-python",
   "name": "python",
   "nbconvert_exporter": "python",
   "pygments_lexer": "ipython3",
   "version": "3.11.9"
  }
 },
 "nbformat": 4,
 "nbformat_minor": 2
}

{
 "cells": [
  {
   "cell_type": "markdown",
   "metadata": {},
   "source": [
    "Zip\n",
    "\n",
    "Zip() -> Cria um iterável (Zip Object) que agrega elemento de cada um dos iteráveis passados como entrada em pares."
   ]
  },
  {
   "cell_type": "code",
   "execution_count": 2,
   "metadata": {},
   "outputs": [
    {
     "name": "stdout",
     "output_type": "stream",
     "text": [
      "<zip object at 0x00000228FDE569C0>\n",
      "<class 'zip'>\n",
      "[(1, 4), (2, 5), (3, 6)]\n",
      "()\n",
      "set()\n",
      "{}\n"
     ]
    }
   ],
   "source": [
    "#Exemplos\n",
    "\n",
    "lista1 = [1, 2, 3]\n",
    "lista2 = [4, 5, 6]\n",
    "\n",
    "zip1= zip(lista1,lista2)\n",
    "\n",
    "print(zip1)\n",
    "print(type(zip1))\n",
    "\n",
    "#Sempre podemos gerar uma Lista, Tupla ou Dicionário\n",
    "\n",
    "print(list(zip1))\n",
    "\n",
    "print(tuple(zip1))\n",
    "\n",
    "print(set(zip1))\n",
    "\n",
    "print(dict(zip1))"
   ]
  },
  {
   "cell_type": "markdown",
   "metadata": {},
   "source": [
    "Ele cria conjuntos dentro de uma tupla pegando um elemento de cda casa e agrupando com o seu respectivo em outra tupla\n"
   ]
  },
  {
   "cell_type": "code",
   "execution_count": 3,
   "metadata": {},
   "outputs": [
    {
     "name": "stdout",
     "output_type": "stream",
     "text": [
      "((1, 4, 'a'), (2, 5, 'b'), (3, 6, 'c'))\n",
      "{(2, 5, 'b'), (1, 4, 'a'), (3, 6, 'c')}\n",
      "{1: 4, 2: 5, 3: 6}\n"
     ]
    }
   ],
   "source": [
    "zip1= zip(lista1,lista2, 'abc')\n",
    "print(tuple(zip1))\n",
    "\n",
    "zip1= zip(lista1,lista2, 'abc')\n",
    "print(set(zip1))\n",
    "\n",
    "zip1= zip(lista1,lista2)\n",
    "print(dict(zip1))"
   ]
  },
  {
   "cell_type": "markdown",
   "metadata": {},
   "source": [
    "Ele conjuga os elementos na mesma quantidade da menor lista \n",
    "\n",
    "ou seja uma lista maior que a menor lista perderá alguns elementos que não serão conjugados\n"
   ]
  },
  {
   "cell_type": "code",
   "execution_count": 5,
   "metadata": {},
   "outputs": [
    {
     "name": "stdout",
     "output_type": "stream",
     "text": [
      "[(1, 6, 11), (2, 7, 12), (3, 8, 13), (4, 9, 14), (5, 10, 15)]\n",
      "[(0, 1, 2, 3, 4), (1, 2, 3, 4, 5)]\n"
     ]
    }
   ],
   "source": [
    "#podemos utilizar diferentes iterávbeis como zip\n",
    "\n",
    "tupla = 1, 2, 3, 4, 5\n",
    "lista = [6, 7, 8, 9, 10]\n",
    "dicionario = {'a': 11, 'b':12, 'c':13, 'd':14, 'e':15}\n",
    "\n",
    "zt = zip(tupla,lista,dicionario.values())\n",
    "print(list(zt))\n",
    "\n",
    "#Lista de tuplas\n",
    "\n",
    "dados = [(0, 1),(1, 2), (2,3), (3,4), (4,5)]\n",
    "\n",
    "print(list(zip(*dados)))"
   ]
  },
  {
   "cell_type": "code",
   "execution_count": 9,
   "metadata": {},
   "outputs": [
    {
     "name": "stdout",
     "output_type": "stream",
     "text": [
      "{'Maria': 98, 'Pedro': 91, 'Carla': 78}\n"
     ]
    }
   ],
   "source": [
    "#Exemplo mais complexo\n",
    "\n",
    "#Colocar a maior nota que o aluno tirou na prova substitutiva\n",
    "\n",
    "prova1 = [80, 91, 78]\n",
    "prova2 = [98, 89, 53]\n",
    "alunos = ['Maria','Pedro','Carla']\n",
    "\n",
    "final = {dado[0]: max(dado[1],dado[2])for dado in zip(alunos, prova1, prova2)}\n",
    "print(final)\n",
    "\n",
    "#Podemos utilizar o map()\n"
   ]
  },
  {
   "cell_type": "code",
   "execution_count": 10,
   "metadata": {},
   "outputs": [
    {
     "name": "stdout",
     "output_type": "stream",
     "text": [
      "{'Maria': 98, 'Pedro': 91, 'Carla': 78}\n"
     ]
    }
   ],
   "source": [
    "final = zip(alunos, map(lambda nota: max(nota), zip(prova1,prova2)))\n",
    "\n",
    "print(dict(final))"
   ]
  }
 ],
 "metadata": {
  "kernelspec": {
   "display_name": "Python 3",
   "language": "python",
   "name": "python3"
  },
  "language_info": {
   "codemirror_mode": {
    "name": "ipython",
    "version": 3
   },
   "file_extension": ".py",
   "mimetype": "text/x-python",
   "name": "python",
   "nbconvert_exporter": "python",
   "pygments_lexer": "ipython3",
   "version": "3.11.9"
  }
 },
 "nbformat": 4,
 "nbformat_minor": 2
}

{
 "cells": [
  {
   "cell_type": "markdown",
   "metadata": {},
   "source": [
    "Any e All \n",
    "\n",
    "all() -> Retorna True se todos os elementos do iterável são verdadeiros ou ainda se o iterável está vazio.  "
   ]
  },
  {
   "cell_type": "code",
   "execution_count": 3,
   "metadata": {},
   "outputs": [
    {
     "name": "stdout",
     "output_type": "stream",
     "text": [
      "False\n",
      "True\n"
     ]
    }
   ],
   "source": [
    "# Exemplo all()\n",
    "\n",
    "print(all([0,2,3,4])) # todos os números são verdadeiros? True\n",
    "print(all([1,2,3,4])) # todos os números são verdadeiros? False"
   ]
  },
  {
   "cell_type": "code",
   "execution_count": null,
   "metadata": {},
   "outputs": [],
   "source": [
    "nomes = ['Carlos', 'Camila', 'Cassiano', 'Cristina']\n",
    "\n",
    "print(all([nome[0] == 'C' for nome in nomes]))#verifica se todos os nomes começam com C\n",
    "\n",
    "print(all([letra for letra in 'eio' if letra in 'aeiou']))#se todas essa letras estão presentes na lista\n",
    "\n",
    "print(all([num for num in [4,2,10,6,8] if num % 2 == 0]))"
   ]
  },
  {
   "cell_type": "markdown",
   "metadata": {},
   "source": [
    "any() -> retorna True se qualquer elemento do iterável for verdadeiro. se o iterável estiver vazio, reotrna False"
   ]
  },
  {
   "cell_type": "code",
   "execution_count": 6,
   "metadata": {},
   "outputs": [
    {
     "name": "stdout",
     "output_type": "stream",
     "text": [
      "True\n",
      "False\n",
      "True\n",
      "True\n"
     ]
    }
   ],
   "source": [
    "print(any([0,1,2,3,4,5])) #True\n",
    "\n",
    "print(any([0, False, {}, (), []]))\n",
    "\n",
    "nomes = ['Carlos', 'Camila', 'Carla', 'Cassiano','Cristina','Vanessa']\n",
    "\n",
    "print(any([nome[0] == 'C' for nome in nomes]))\n",
    "\n",
    "print(any([num for num in [4, 2, 10, 6, 8, 9] if num % 2 == 0]))"
   ]
  }
 ],
 "metadata": {
  "kernelspec": {
   "display_name": "Python 3",
   "language": "python",
   "name": "python3"
  },
  "language_info": {
   "codemirror_mode": {
    "name": "ipython",
    "version": 3
   },
   "file_extension": ".py",
   "mimetype": "text/x-python",
   "name": "python",
   "nbconvert_exporter": "python",
   "pygments_lexer": "ipython3",
   "version": "3.11.9"
  }
 },
 "nbformat": 4,
 "nbformat_minor": 2
}

{
 "cells": [
  {
   "cell_type": "markdown",
   "metadata": {},
   "source": [
    "Map \n",
    "\n",
    "com map, fazemos mapeamento de valores para função \n",
    "não são mapas ou seja dictonarys "
   ]
  },
  {
   "cell_type": "code",
   "execution_count": 2,
   "metadata": {},
   "outputs": [
    {
     "name": "stdout",
     "output_type": "stream",
     "text": [
      "12.566370614359172\n",
      "88.24733763933729\n",
      "[12.566370614359172, 78.53981633974483, 158.36768566746147, 0.2827433388230814, 314.1592653589793, 6082.12337734984]\n",
      "<map object at 0x000001C312E376D0>\n",
      "<class 'map'>\n",
      "[12.566370614359172, 78.53981633974483, 158.36768566746147, 0.2827433388230814, 314.1592653589793, 6082.12337734984]\n",
      "[12.566370614359172, 78.53981633974483, 158.36768566746147, 0.2827433388230814, 314.1592653589793, 6082.12337734984]\n"
     ]
    }
   ],
   "source": [
    "import math\n",
    "\n",
    "def area(r):\n",
    "    #calcula a áriea de um círculo com r\n",
    "    return math.pi *(r ** 2)\n",
    "\n",
    "print(area(2))\n",
    "print(area(5.3))\n",
    "\n",
    "raios =[2,5, 7.1, 0.3, 10, 44 ]\n",
    "\n",
    "#forma comum\n",
    "\n",
    "areas = []\n",
    "for r in raios:\n",
    "    areas.append((area(r)))\n",
    "\n",
    "print(areas) \n",
    "\n",
    "#forma 2 - Map\n",
    "\n",
    "#Map é uma função que recebe dois parâmetros: 0 primeiro a fução, o segundo iterável. Retorna um Map Object\n",
    "\n",
    "areas = map(area, raios)\n",
    "\n",
    "print(areas)\n",
    "print(type(areas))\n",
    "\n",
    "print(list(areas))\n",
    "\n",
    "#forma 3 - Map com lambda\n",
    "print(list(map(lambda r: math.pi * (r ** 2), raios)))\n",
    "\n"
   ]
  },
  {
   "cell_type": "markdown",
   "metadata": {},
   "source": [
    "observação apos utilizar a função(map) depois da primeir utilização do resultado, ele zera.\n",
    "\n",
    "para fixar - Map\n",
    "\n",
    "temos dados iteráveis \n",
    "temos uma função  \n",
    "e utilizamos a função(f, dados) onde map irá 'mapear' cada elemento dos dados e aplicar a função.\n",
    "\n",
    "O Map object: \n",
    "\n",
    "Mais um exemplo:"
   ]
  },
  {
   "cell_type": "code",
   "execution_count": 4,
   "metadata": {},
   "outputs": [
    {
     "name": "stdout",
     "output_type": "stream",
     "text": [
      "[('Berlim', 29), ('Cairo', 36), ('Bueno Aires', 19), ('los angeles', 26), ('Tokyo', 27), ('Nova York', 28), ('londes', 22)]\n",
      "[('Berlim', 84.2), ('Cairo', 96.8), ('Bueno Aires', 66.2), ('los angeles', 78.80000000000001), ('Tokyo', 80.6), ('Nova York', 82.4), ('londes', 71.6)]\n"
     ]
    }
   ],
   "source": [
    "cidades= [('Berlim', 29),('Cairo',36),('Bueno Aires',19),('los angeles',26), ('Tokyo', 27),('Nova York',28), ('londes',22)]\n",
    "\n",
    "print(cidades)\n",
    "\n",
    "#f = 9/5 * c + 32\n",
    "\n",
    "#lambda\n",
    "\n",
    "c_para_f = lambda dado: (dado[0], (9/5)*dado[1]+32)\n",
    "\n",
    "print(list(map(c_para_f, cidades)))"
   ]
  }
 ],
 "metadata": {
  "kernelspec": {
   "display_name": "Python 3",
   "language": "python",
   "name": "python3"
  },
  "language_info": {
   "codemirror_mode": {
    "name": "ipython",
    "version": 3
   },
   "file_extension": ".py",
   "mimetype": "text/x-python",
   "name": "python",
   "nbconvert_exporter": "python",
   "pygments_lexer": "ipython3",
   "version": "3.11.9"
  }
 },
 "nbformat": 4,
 "nbformat_minor": 2
}

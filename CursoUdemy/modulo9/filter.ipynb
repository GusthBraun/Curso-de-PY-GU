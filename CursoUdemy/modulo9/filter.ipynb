{
 "cells": [
  {
   "cell_type": "markdown",
   "metadata": {},
   "source": [
    "Filter \n",
    "\n",
    "filter() -> Serve para filtrar dados de uma determinada coleção.\n",
    "\n",
    "\n",
    "Bilioteca para trabalho com dados estatísticos: statistics"
   ]
  },
  {
   "cell_type": "code",
   "execution_count": 1,
   "metadata": {},
   "outputs": [
    {
     "name": "stdout",
     "output_type": "stream",
     "text": [
      "2.183333333333333\n",
      "[2.7, 4.1, 4.3]\n",
      "Novamente: []\n"
     ]
    }
   ],
   "source": [
    "import statistics\n",
    "\n",
    "#dados coletados em algum sensor\n",
    "\n",
    "dados = [1.3, 2.7, 0.8, 4.1, 4.3,-0.1 ]\n",
    "\n",
    "#calculando a méia dos dados usando a função mena() do statistics\n",
    "\n",
    "media = statistics.mean(dados)\n",
    "print(media)\n",
    "\n",
    "#Assim como na função map(), a filter() recebe dois parâmetros, sendo uma função e um iteravel\n",
    "\n",
    "res= filter(lambda valor: valor > media, dados)# isso aqui é um boolean\n",
    "print(list(res))\n",
    "\n",
    "print(f'Novamente: {list(res)}')\n",
    "\n",
    "#OBS: assim como na função map() após ser utilizados os dados de filter eles são excluidos da memória."
   ]
  },
  {
   "cell_type": "markdown",
   "metadata": {},
   "source": [
    "Lista de dados faltantes componente em IA etc:"
   ]
  },
  {
   "cell_type": "code",
   "execution_count": 3,
   "metadata": {},
   "outputs": [
    {
     "name": "stdout",
     "output_type": "stream",
     "text": [
      "['', 'Argentina', '', 'Brasil', 'Chile', ', Colombia', '']\n",
      "['Argentina', 'Brasil', 'Chile', ', Colombia']\n"
     ]
    }
   ],
   "source": [
    "paises = ['', 'Argentina', '', 'Brasil', 'Chile', ', Colombia', '']\n",
    "\n",
    "print(paises)\n",
    "\n",
    "# res = filter(lambda pais: len(pais)>0, paises)\n",
    "#res = filter(None, paises)\n",
    "res= filter(lambda pais: pais != '', paises)\n",
    "print(list(res))"
   ]
  },
  {
   "cell_type": "markdown",
   "metadata": {},
   "source": [
    "a diferença entre map() e filter() é:\n",
    "\n",
    "map( ) -> Recebe dois parâmetros, uma função e um iterável e retorna um objeto mapeando a função para cada elemento do iterável.\n",
    "\n",
    "filter() ->  Recebe dois parâmetros , uma função e um iterável e retorna um objeto filtrando apenas os elementos de acordo com a condição"
   ]
  },
  {
   "cell_type": "code",
   "execution_count": 10,
   "metadata": {},
   "outputs": [
    {
     "name": "stdout",
     "output_type": "stream",
     "text": [
      "[{'username': 'jeff', 'tweets': []}, {'username': 'bob234', 'tweets': []}, {'username': 'gal', 'tweets': []}]\n"
     ]
    }
   ],
   "source": [
    "# Exemplo mais completo\n",
    "\n",
    "usuarios = [\n",
    "    {\"username\":\"samuel\", \"tweets\": [\"Eu adoro bolos\", \"Eu adoro pizzas\"]},\n",
    "    {\"username\":\"carla\", \"tweets\": [\"Eu amo meu gato\"]},\n",
    "    {\"username\":\"jeff\", \"tweets\": []},\n",
    "    {\"username\":\"bob234\", \"tweets\": []},\n",
    "    {\"username\":\"doggo\", \"tweets\": [\"Eu gosto de cachorros\", \"Vou sair hoje\"]},\n",
    "    {\"username\":\"gal\", \"tweets\": []},\n",
    "]\n",
    "\n",
    "# filtrar os usuários que estão inativos no Twitter\n",
    "\n",
    "inativos = list(filter(lambda usuario: not usuario['tweets'], usuarios))\n",
    "\n",
    "print(list(inativos))"
   ]
  },
  {
   "cell_type": "code",
   "execution_count": 11,
   "metadata": {},
   "outputs": [
    {
     "ename": "TypeError",
     "evalue": "filter expected 2 arguments, got 1",
     "output_type": "error",
     "traceback": [
      "\u001b[1;31m---------------------------------------------------------------------------\u001b[0m",
      "\u001b[1;31mTypeError\u001b[0m                                 Traceback (most recent call last)",
      "Cell \u001b[1;32mIn[11], line 7\u001b[0m\n\u001b[0;32m      3\u001b[0m nomes \u001b[38;5;241m=\u001b[39m [\u001b[38;5;124m'\u001b[39m\u001b[38;5;124mVanessa\u001b[39m\u001b[38;5;124m'\u001b[39m, \u001b[38;5;124m'\u001b[39m\u001b[38;5;124mAna\u001b[39m\u001b[38;5;124m'\u001b[39m,\u001b[38;5;124m'\u001b[39m\u001b[38;5;124mMaria\u001b[39m\u001b[38;5;124m'\u001b[39m]\n\u001b[0;32m      5\u001b[0m \u001b[38;5;66;03m#Devemos criar uma lista contendo 'Sua instrutura é' +nome, desde que cada nome tenha menos de 5 caracteres\u001b[39;00m\n\u001b[1;32m----> 7\u001b[0m lista \u001b[38;5;241m=\u001b[39m \u001b[38;5;28mlist\u001b[39m(\u001b[38;5;28mmap\u001b[39m(\u001b[38;5;28;01mlambda\u001b[39;00m nome: \u001b[38;5;124mf\u001b[39m\u001b[38;5;124m'\u001b[39m\u001b[38;5;124mSua instrutora é\u001b[39m\u001b[38;5;132;01m{\u001b[39;00mnome\u001b[38;5;132;01m}\u001b[39;00m\u001b[38;5;124m'\u001b[39m, \u001b[38;5;28;43mfilter\u001b[39;49m\u001b[43m(\u001b[49m\u001b[38;5;28;43;01mlambda\u001b[39;49;00m\u001b[43m \u001b[49m\u001b[43mnome\u001b[49m\u001b[43m:\u001b[49m\u001b[43m \u001b[49m\u001b[38;5;28;43mlen\u001b[39;49m\u001b[43m(\u001b[49m\u001b[43mnome\u001b[49m\u001b[43m)\u001b[49m\u001b[43m \u001b[49m\u001b[38;5;241;43m<\u001b[39;49m\u001b[38;5;241;43m5\u001b[39;49m\u001b[43m)\u001b[49m, nomes))\n\u001b[0;32m      9\u001b[0m \u001b[38;5;28mprint\u001b[39m (lista)\n",
      "\u001b[1;31mTypeError\u001b[0m: filter expected 2 arguments, got 1"
     ]
    }
   ],
   "source": [
    "#Combinar filter() e Map()\n",
    "\n",
    "nomes = ['Vanessa', 'Ana','Maria']\n",
    "\n",
    "#Devemos criar uma lista contendo 'Sua instrutura é' +nome, desde que cada nome tenha menos de 5 caracteres\n",
    "\n",
    "lista = list(map(lambda nome: f'Sua instrutora é{nome}', filter(lambda nome: len(nome) <5), nomes))\n",
    "\n",
    "print (lista)"
   ]
  }
 ],
 "metadata": {
  "kernelspec": {
   "display_name": "Python 3",
   "language": "python",
   "name": "python3"
  },
  "language_info": {
   "codemirror_mode": {
    "name": "ipython",
    "version": 3
   },
   "file_extension": ".py",
   "mimetype": "text/x-python",
   "name": "python",
   "nbconvert_exporter": "python",
   "pygments_lexer": "ipython3",
   "version": "3.11.9"
  }
 },
 "nbformat": 4,
 "nbformat_minor": 2
}

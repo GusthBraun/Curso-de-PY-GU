{
 "cells": [
  {
   "cell_type": "markdown",
   "metadata": {},
   "source": [
    "# Funções de maior grandeza - High Order Functions - HOF\n",
    "\n",
    "O que isso significa?\n",
    "\n",
    "- Quando um linguagem de programação suporta HOF indica que podemos ter funções que retornam outras funçãoes como resultado ou mesmo que podemos passar funções como argumento para outras funções, e até mesmo criar variáveis do tipo de funções nos nossos programas.\n",
    "\n",
    "OBS: Na seção de funções, nós utilizamos isso.\n",
    "\n",
    "Em Python, as funções são Cidadões de Primeira Classe, First Class Citizer"
   ]
  },
  {
   "cell_type": "code",
   "execution_count": 1,
   "metadata": {},
   "outputs": [
    {
     "name": "stdout",
     "output_type": "stream",
     "text": [
      "7\n",
      "1\n",
      "12\n",
      "1.3333333333333333\n"
     ]
    }
   ],
   "source": [
    "#exemplo - Definindo as funções \n",
    "\n",
    "def somar(a, b):\n",
    "    return a + b\n",
    "\n",
    "def diminuir(a,b):\n",
    "    return a - b\n",
    "\n",
    "def multiplicar(a, b):\n",
    "    return a * b\n",
    "\n",
    "def dividir(a, b):\n",
    "    return a/b\n",
    "\n",
    "def calcular(num1, num2, funcao):\n",
    "    return funcao(num1, num2)\n",
    "\n",
    "#Testando as funções \n",
    "\n",
    "print(calcular(4, 3, somar))\n",
    "\n",
    "print(calcular(4, 3, diminuir))\n",
    "\n",
    "print(calcular(4, 3, multiplicar))\n",
    "\n",
    "print(calcular(4, 3, dividir))\n",
    "\n",
    "\n"
   ]
  },
  {
   "cell_type": "markdown",
   "metadata": {},
   "source": [
    "# Nested Functions - Funções aninhadas\n",
    "\n",
    "Em python podemos também ter funções dentro de funções, que são conhecidas por Nested Functions ou também inner functions (Funções Internas).\n",
    "\n",
    "Exemplo:"
   ]
  },
  {
   "cell_type": "code",
   "execution_count": 9,
   "metadata": {},
   "outputs": [
    {
     "name": "stdout",
     "output_type": "stream",
     "text": [
      "Gosto muito de você Angelina\n",
      "Eai  Felicity\n"
     ]
    }
   ],
   "source": [
    "from random import choice \n",
    "\n",
    "def cumprimento(pessoa):\n",
    "    def humor():\n",
    "        return choice(('Eai ', 'Suma daqui', 'Gosto muito de você'))\n",
    "    return humor() + pessoa\n",
    "\n",
    "\n",
    "print(cumprimento(' Angelina'))\n",
    "\n",
    "print(cumprimento(' Felicity'))"
   ]
  },
  {
   "cell_type": "markdown",
   "metadata": {},
   "source": [
    "# Retornando funções de outras funções"
   ]
  },
  {
   "cell_type": "code",
   "execution_count": 14,
   "metadata": {},
   "outputs": [
    {
     "name": "stdout",
     "output_type": "stream",
     "text": [
      "jajajajajjajajajjaja\n"
     ]
    }
   ],
   "source": [
    "from random import choice \n",
    "\n",
    "def faz_me_rir():\n",
    "    def rir():\n",
    "        return choice(('kkkkkkkkkkkkkkkkkkkkkkkkkkkkkk ', 'hahahahahhahah', 'jajajajajjajajajjaja'))\n",
    "    return rir\n",
    "\n",
    "#tertando\n",
    "\n",
    "rindo = faz_me_rir()\n",
    "print(rindo())\n"
   ]
  },
  {
   "cell_type": "markdown",
   "metadata": {},
   "source": [
    "# Inner functions Podem acessar escopos de funções mais externas."
   ]
  },
  {
   "cell_type": "code",
   "execution_count": 27,
   "metadata": {},
   "outputs": [
    {
     "name": "stdout",
     "output_type": "stream",
     "text": [
      "jajoajo   Fernanda\n",
      "jajoajo   Fernanda\n",
      "hahahaha  Fernanda\n"
     ]
    }
   ],
   "source": [
    "from random import choice \n",
    "\n",
    "def faz_me_rir_novamente(pessoa):\n",
    "    def dando_risada():\n",
    "        risada = choice(('hahahaha ', 'jajoajo  ', 'kkkkkkkkkkkk'))\n",
    "        return f'{risada} {pessoa}'\n",
    "    return dando_risada\n",
    "# Testando\n",
    "\n",
    "rindo2 = faz_me_rir_novamente( 'Fernanda')\n",
    "\n",
    "print(rindo2())\n",
    "print(rindo2())\n",
    "print(rindo2())"
   ]
  }
 ],
 "metadata": {
  "kernelspec": {
   "display_name": "Python 3",
   "language": "python",
   "name": "python3"
  },
  "language_info": {
   "codemirror_mode": {
    "name": "ipython",
    "version": 3
   },
   "file_extension": ".py",
   "mimetype": "text/x-python",
   "name": "python",
   "nbconvert_exporter": "python",
   "pygments_lexer": "ipython3",
   "version": "3.11.9"
  }
 },
 "nbformat": 4,
 "nbformat_minor": 2
}

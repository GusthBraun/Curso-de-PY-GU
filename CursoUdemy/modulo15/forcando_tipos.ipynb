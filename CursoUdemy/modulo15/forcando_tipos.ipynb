{
 "cells": [
  {
   "cell_type": "code",
   "execution_count": 1,
   "metadata": {},
   "outputs": [
    {
     "name": "stdout",
     "output_type": "stream",
     "text": [
      "Geek\n",
      "Geek\n",
      "Geek\n",
      "0.2\n"
     ]
    }
   ],
   "source": [
    "def forca_tipo(*tipos):\n",
    "    def decorador(funcao):\n",
    "        def converte(*args, **kwargs):\n",
    "            novo_args = []\n",
    "            for (valor, tipo) in zip(args, tipos):\n",
    "                novo_args.append(tipo(valor))\n",
    "            return funcao(*novo_args, **kwargs)\n",
    "        return converte\n",
    "    return decorador    \n",
    "\n",
    "@forca_tipo(str, int)\n",
    "def repete_msg(msg, vezes):\n",
    "    for vez in range(int(vezes)):\n",
    "        print(msg)\n",
    "\n",
    "repete_msg('Geek','3')\n",
    "\n",
    "@forca_tipo(float, float)\n",
    "def dividir(a, b):\n",
    "    print(a/b)\n",
    "\n",
    "dividir('1', 5)\n",
    "\n"
   ]
  }
 ],
 "metadata": {
  "kernelspec": {
   "display_name": "Python 3",
   "language": "python",
   "name": "python3"
  },
  "language_info": {
   "codemirror_mode": {
    "name": "ipython",
    "version": 3
   },
   "file_extension": ".py",
   "mimetype": "text/x-python",
   "name": "python",
   "nbconvert_exporter": "python",
   "pygments_lexer": "ipython3",
   "version": "3.11.9"
  }
 },
 "nbformat": 4,
 "nbformat_minor": 2
}

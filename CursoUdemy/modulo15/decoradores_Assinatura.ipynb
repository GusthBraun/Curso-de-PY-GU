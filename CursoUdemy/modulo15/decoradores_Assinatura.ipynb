{
 "cells": [
  {
   "cell_type": "markdown",
   "metadata": {},
   "source": [
    "# Decorator com diferentes assintauras"
   ]
  },
  {
   "cell_type": "code",
   "execution_count": 3,
   "metadata": {},
   "outputs": [
    {
     "name": "stdout",
     "output_type": "stream",
     "text": [
      "OLA, EU SOU O/A ANGELINA\n"
     ]
    }
   ],
   "source": [
    "\"\"\"\n",
    "def gritar(funcao):\n",
    "    def aumentar(nome):\n",
    "        return funcao(nome).upper()\n",
    "    return aumentar\n",
    "\"\"\"\n",
    "def gritar(funcao):\n",
    "    def aumentar(*args, **kwargs):\n",
    "        return funcao(*args, **kwargs).upper()\n",
    "    return aumentar\n",
    "\n",
    "@gritar\n",
    "def saudacao (nome):\n",
    "    return f'Ola, eu sou o/a {nome}'\n",
    "\n",
    "print(saudacao('Angelina'))"
   ]
  },
  {
   "cell_type": "markdown",
   "metadata": {},
   "source": [
    "quando usamos pela primeira vez o codigo abaixo ele apresentou Type erro por o decorator @Gritar não pois ele só recebe um parametro quando e ao usar a função ordenar usamos 2 parametros e para resolver este problema iremos usar algo chamado Decorator Pattern"
   ]
  },
  {
   "cell_type": "code",
   "execution_count": 4,
   "metadata": {},
   "outputs": [
    {
     "name": "stdout",
     "output_type": "stream",
     "text": [
      "OLÁ, EU GOSTARIA DE PICANHA, ACOMPANHADO DE BATATA FRITA , POR FAVOR.\n"
     ]
    }
   ],
   "source": [
    "@gritar\n",
    "def ordenar(principal, acompanhamento):\n",
    "    return f'Olá, eu gostaria de {principal}, acompanhado de {acompanhamento}, por favor.'\n",
    "\n",
    "# Testando\n",
    "\n",
    "print(ordenar('Picanha', 'Batata Frita '))"
   ]
  },
  {
   "cell_type": "code",
   "execution_count": null,
   "metadata": {},
   "outputs": [],
   "source": [
    "@gritar\n",
    "def lol():\n",
    "    return 'lol'\n",
    "\n",
    "print(lol())\n",
    "\n",
    "# OBS: Vale lembrar que podemos utilizar parâmetros nomeados\n",
    "\n",
    "print(ordenar(principal= 'Picanha',acompanhamento= 'Batata Frita '))"
   ]
  },
  {
   "cell_type": "markdown",
   "metadata": {},
   "source": [
    "# Decorator com argumentos "
   ]
  },
  {
   "cell_type": "code",
   "execution_count": 8,
   "metadata": {},
   "outputs": [
    {
     "name": "stdout",
     "output_type": "stream",
     "text": [
      "22\n",
      " Valor incorreto! PRimeiro argumento precisa ser 10\n"
     ]
    }
   ],
   "source": [
    "def verifica_primeiro_argumento(valor):\n",
    "    def interna(funcao):\n",
    "        def outra(*args, **kwargs):\n",
    "            if args and args[0] != valor:\n",
    "                return f'Valor incorreto! PRimeiro argumento precisa ser {valor}'\n",
    "            return funcao(*args, **kwargs)\n",
    "        return outra\n",
    "    return interna\n",
    "\n",
    "@verifica_primeiro_argumento('pizza')\n",
    "def comida_favorita(*args):\n",
    "    print(args)\n",
    "\n",
    "@verifica_primeiro_argumento(10)\n",
    "def soma_dez(num1, num2):\n",
    "    return num1 + num2\n",
    "\n",
    "\n",
    "\n",
    "print(soma_dez(10, 12))\n",
    "\n",
    "print(soma_dez(1 ,10))"
   ]
  }
 ],
 "metadata": {
  "kernelspec": {
   "display_name": "Python 3",
   "language": "python",
   "name": "python3"
  },
  "language_info": {
   "codemirror_mode": {
    "name": "ipython",
    "version": 3
   },
   "file_extension": ".py",
   "mimetype": "text/x-python",
   "name": "python",
   "nbconvert_exporter": "python",
   "pygments_lexer": "ipython3",
   "version": "3.11.9"
  }
 },
 "nbformat": 4,
 "nbformat_minor": 2
}

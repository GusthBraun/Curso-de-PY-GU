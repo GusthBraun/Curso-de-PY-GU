{
 "cells": [
  {
   "cell_type": "markdown",
   "metadata": {},
   "source": [
    "# Decoradores (Decorators)\n",
    "\n",
    "o que são decorators?\n",
    "\n",
    " - Decorators são funções;\n",
    " - Decorators envolvem outras funções e aprimoram seus comportamentos;\n",
    " - Decorators também são exemplos de HOF\n",
    " - tem uma sintaxe própria, usando \"@\" (Syntact Sugas / Açucar Sintático)"
   ]
  },
  {
   "cell_type": "code",
   "execution_count": 7,
   "metadata": {},
   "outputs": [
    {
     "name": "stdout",
     "output_type": "stream",
     "text": [
      "Foi um prazer conhecer você!\n",
      "Seja bem-vindo à Geek university\n",
      "Tenha um ótimo dia!\n",
      "\n",
      "\n",
      "Foi um prazer conhecer você!\n",
      "Eu te ODEIO!\n",
      "Tenha um ótimo dia!\n"
     ]
    }
   ],
   "source": [
    "# Decoratos como funções Sintaxe não recomendada / Sem Açucar Sintatático\n",
    "\n",
    "def seja_educado(funcao):\n",
    "    def sendo():\n",
    "        print('Foi um prazer conhecer você!')\n",
    "        funcao()\n",
    "        print('Tenha um ótimo dia!')\n",
    "    return sendo\n",
    "\n",
    "def saudacao():\n",
    "    print('Seja bem-vindo à Geek university')\n",
    "\n",
    "#testando 1\n",
    "\n",
    "teste = seja_educado(saudacao)\n",
    "#com decorator nós estamos aprimoramos outras funções \n",
    "\n",
    "teste()\n",
    "\n",
    "#teste 2 \n",
    "\n",
    "print('\\n')\n",
    "\n",
    "def raiva():\n",
    "    print('Eu te ODEIO!')\n",
    "\n",
    "raiva_educada = seja_educado(raiva)\n",
    "\n",
    "raiva_educada()"
   ]
  },
  {
   "cell_type": "markdown",
   "metadata": {},
   "source": [
    "# Decorators com Systax Sugar (Açucar sintático)"
   ]
  },
  {
   "cell_type": "code",
   "execution_count": 8,
   "metadata": {},
   "outputs": [
    {
     "name": "stdout",
     "output_type": "stream",
     "text": [
      "Foi um prazer conhecer você!\n",
      "Meu nome é Pedro\n",
      "tenha um excelente dia!\n",
      "\n",
      "\n",
      "Foi um prazer conhecer você!\n",
      "Quero dormir....\n",
      "tenha um excelente dia!\n"
     ]
    }
   ],
   "source": [
    "def seja_educado_mesmo(funcao):\n",
    "    def sendo_mesmo():\n",
    "        print('Foi um prazer conhecer você!')\n",
    "        funcao()\n",
    "        print('tenha um excelente dia!')\n",
    "    return sendo_mesmo\n",
    "\n",
    "@seja_educado_mesmo\n",
    "def apresentando():\n",
    "    print('Meu nome é Pedro')\n",
    "\n",
    "# Testando\n",
    "\n",
    "apresentando()\n",
    "\n",
    "print('\\n')\n",
    "\n",
    "@seja_educado_mesmo\n",
    "def dormir ():\n",
    "    print('Quero dormir....')\n",
    "\n",
    "dormir()"
   ]
  },
  {
   "cell_type": "markdown",
   "metadata": {},
   "source": [
    "# OBS: - não Confunda decorator com Decorator Function"
   ]
  }
 ],
 "metadata": {
  "kernelspec": {
   "display_name": "Python 3",
   "language": "python",
   "name": "python3"
  },
  "language_info": {
   "codemirror_mode": {
    "name": "ipython",
    "version": 3
   },
   "file_extension": ".py",
   "mimetype": "text/x-python",
   "name": "python",
   "nbconvert_exporter": "python",
   "pygments_lexer": "ipython3",
   "version": "3.11.9"
  }
 },
 "nbformat": 4,
 "nbformat_minor": 2
}

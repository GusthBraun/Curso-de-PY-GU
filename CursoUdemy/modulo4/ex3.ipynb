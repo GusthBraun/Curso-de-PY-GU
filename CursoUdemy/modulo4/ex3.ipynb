{
 "cells": [
  {
   "cell_type": "markdown",
   "metadata": {},
   "source": [
    "3 Faça um programa que recebe um número inteiro e informe se este número é par ou impar"
   ]
  },
  {
   "cell_type": "code",
   "execution_count": 6,
   "metadata": {},
   "outputs": [],
   "source": [
    "numero = int(input(\"Informe um numero inteiro: \"))"
   ]
  },
  {
   "cell_type": "code",
   "execution_count": 7,
   "metadata": {},
   "outputs": [
    {
     "name": "stdout",
     "output_type": "stream",
     "text": [
      "o numero digitado não é positivo\n"
     ]
    }
   ],
   "source": [
    "if numero > 0:\n",
    "    if numero % 2 == 0:\n",
    "        print('numero é par')\n",
    "    else:\n",
    "        print('número é impar')\n",
    "else:\n",
    "    print('o numero digitado não é positivo')"
   ]
  }
 ],
 "metadata": {
  "kernelspec": {
   "display_name": "Python 3",
   "language": "python",
   "name": "python3"
  },
  "language_info": {
   "codemirror_mode": {
    "name": "ipython",
    "version": 3
   },
   "file_extension": ".py",
   "mimetype": "text/x-python",
   "name": "python",
   "nbconvert_exporter": "python",
   "pygments_lexer": "ipython3",
   "version": "3.11.9"
  }
 },
 "nbformat": 4,
 "nbformat_minor": 2
}

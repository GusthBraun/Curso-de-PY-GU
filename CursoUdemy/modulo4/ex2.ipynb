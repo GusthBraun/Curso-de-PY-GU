{
 "cells": [
  {
   "cell_type": "markdown",
   "metadata": {},
   "source": [
    "2. Faça um programa que leia um número inteiro fornecido peloi usuário. Se esse núimero for positivo, calcule a raiz quadrada do número e paresente-a. Se o número for negativo, mostre uma mensagem dizendo que o número é invalido."
   ]
  },
  {
   "cell_type": "code",
   "execution_count": 3,
   "metadata": {},
   "outputs": [],
   "source": [
    "numero = int(input(\"Informe um numero inteiro: \"))"
   ]
  },
  {
   "cell_type": "code",
   "execution_count": 4,
   "metadata": {},
   "outputs": [
    {
     "name": "stdout",
     "output_type": "stream",
     "text": [
      "36 é positivo e sua raiz quadrada é 1296\n"
     ]
    }
   ],
   "source": [
    "if numero > 0:\n",
    "    print(f'{numero} é positivo e sua raiz quadrada é {numero*numero}')\n",
    "else:\n",
    "    print('o numero digitado não é positivo')"
   ]
  }
 ],
 "metadata": {
  "kernelspec": {
   "display_name": "Python 3",
   "language": "python",
   "name": "python3"
  },
  "language_info": {
   "codemirror_mode": {
    "name": "ipython",
    "version": 3
   },
   "file_extension": ".py",
   "mimetype": "text/x-python",
   "name": "python",
   "nbconvert_exporter": "python",
   "pygments_lexer": "ipython3",
   "version": "3.11.9"
  }
 },
 "nbformat": 4,
 "nbformat_minor": 2
}

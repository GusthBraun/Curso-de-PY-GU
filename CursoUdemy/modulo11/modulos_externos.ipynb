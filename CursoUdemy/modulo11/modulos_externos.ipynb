{
 "cells": [
  {
   "cell_type": "markdown",
   "metadata": {},
   "source": [
    "Módulos Externos\n",
    "\n",
    "utilizamos o gerenciador de pacotes Python chamado pip - Python Installer Package\n",
    "\n",
    "o site para procurar pacotes é o pyip.org\n",
    "\n",
    "coloramea -> É utilizado para permitir impressão de textos coloridos no terminal.\n",
    "\n",
    "Instalando um módulo:\n",
    "\n",
    "#no terminal:\n",
    "\n",
    "pip install colorama\n",
    "\n",
    "from colorama import init, Fore\n",
    "\n",
    "init()\n",
    "\n",
    "print(Fore.MGENTA + 'Gustavo')"
   ]
  }
 ],
 "metadata": {
  "language_info": {
   "name": "python"
  }
 },
 "nbformat": 4,
 "nbformat_minor": 2
}

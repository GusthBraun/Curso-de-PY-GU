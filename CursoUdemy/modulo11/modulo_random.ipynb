{
 "cells": [
  {
   "cell_type": "markdown",
   "metadata": {},
   "source": [
    "Módulo Random e o que são módulos?\n",
    "\n",
    "Em python, módulos nada mais são do que outros arquivos Python.\n",
    "\n",
    "módulo Random -> Possui vária funções para geração números pseudo-aleatório\n",
    "\n",
    "** Existem duas formas de se utilizar um módulo ou função deste \n",
    "\n",
    "#Forma 1 - Importando todo o módulo.\n",
    "\n",
    "import random \n",
    "\n",
    "# Ao realizar o import de todo o módulo todas as funções, atributos, classes e propriedade que estiverem dentro do módulo ficarão disponiveis (Ou seja vão ficar na memória). Caso você saiba quais funções vocÊ precisa utilizar deste módulo, então esta não seria a forma ideal de utilização. Nós veremos uma forma melhor na Forma 2."
   ]
  },
  {
   "cell_type": "code",
   "execution_count": 1,
   "metadata": {},
   "outputs": [
    {
     "name": "stdout",
     "output_type": "stream",
     "text": [
      "0.4130613336430894\n"
     ]
    }
   ],
   "source": [
    "#import random\n",
    "\n",
    "#print(random.random())"
   ]
  },
  {
   "cell_type": "markdown",
   "metadata": {},
   "source": [
    "veja que para utilizar a função random() do pacote random nós colocamos o nome do pacote e o nome da função separados por ponto.\n",
    "\n",
    "não confunda a função random()com o pacote random. Pode parecer confuso, mas a função random() é apenas uma função dentro do módulo random."
   ]
  },
  {
   "cell_type": "code",
   "execution_count": 2,
   "metadata": {},
   "outputs": [
    {
     "name": "stdout",
     "output_type": "stream",
     "text": [
      "0.5044812290522518\n",
      "0.5789939986863549\n",
      "0.285178282661981\n",
      "0.43350968108572896\n",
      "0.7866869724403506\n",
      "0.999952102330291\n",
      "0.7954353224160435\n",
      "0.39155408471628306\n",
      "0.9091370967791808\n",
      "0.9042499684403332\n"
     ]
    }
   ],
   "source": [
    "#Forma 2 - Importando uma função específica do módulo (Forma recomendada)\n",
    "\n",
    "from random import random\n",
    "\n",
    "#Mo import acim, estamos falando: Do módulo random, importe a função random\n",
    "\n",
    "for i in range(10):\n",
    "    print(random())\n",
    "    "
   ]
  },
  {
   "cell_type": "markdown",
   "metadata": {},
   "source": [
    "Função uniform()\n",
    "\n",
    "uniform() -> Gerar um número pseudo-alearoio entre os valores estabelecidos "
   ]
  },
  {
   "cell_type": "code",
   "execution_count": 3,
   "metadata": {},
   "outputs": [
    {
     "name": "stdout",
     "output_type": "stream",
     "text": [
      "6.195601411766438\n",
      "6.404316037589874\n",
      "4.242181456588668\n",
      "5.180074944376408\n",
      "3.3837353027333843\n",
      "3.062273362726737\n",
      "5.41170730880785\n",
      "3.397807592522652\n",
      "5.84737430709119\n",
      "3.4294800220891686\n"
     ]
    }
   ],
   "source": [
    "from random import uniform\n",
    "\n",
    "for i in range(10):\n",
    "    print(uniform(3,7)) # entretanto o valor 7 nunca será atingindo"
   ]
  },
  {
   "cell_type": "markdown",
   "metadata": {},
   "source": [
    "Função randint()\n",
    "\n",
    "Randint() -> Gera valores inteiros pseudo-aleatórios entre os valores estabelecidos.\n"
   ]
  },
  {
   "cell_type": "code",
   "execution_count": 6,
   "metadata": {},
   "outputs": [
    {
     "name": "stdout",
     "output_type": "stream",
     "text": [
      "22, 11, 17, 19, 3, 21, 12, 2, 24, 25, 16, 14, 20, 12, 3, "
     ]
    }
   ],
   "source": [
    "from random import randint\n",
    "\n",
    "#Gerador de apostas para a lotofacil\n",
    "\n",
    "for i in range(15):\n",
    "    print (randint(1,25), end=', ') # começa em 1 e vai até 25\n"
   ]
  },
  {
   "cell_type": "code",
   "execution_count": 6,
   "metadata": {},
   "outputs": [
    {
     "name": "stdout",
     "output_type": "stream",
     "text": [
      "32, 35, 41, 12, 6, 25, "
     ]
    }
   ],
   "source": [
    "from random import randint\n",
    "\n",
    "for i in range(6):\n",
    "    print (randint(1,60), end=', ')"
   ]
  },
  {
   "cell_type": "markdown",
   "metadata": {},
   "source": [
    "Função choice()\n",
    "\n",
    "-> Mostra um valor aleatório entre um iterável."
   ]
  },
  {
   "cell_type": "code",
   "execution_count": 8,
   "metadata": {},
   "outputs": [
    {
     "name": "stdout",
     "output_type": "stream",
     "text": [
      "papel\n"
     ]
    }
   ],
   "source": [
    "from random import choice\n",
    "\n",
    "jogadas = [ 'pedra', 'papel', 'tesoura']\n",
    "\n",
    "print(choice(jogadas))"
   ]
  },
  {
   "cell_type": "markdown",
   "metadata": {},
   "source": [
    "shuffle() -> tem a função de embaralhar dados"
   ]
  },
  {
   "cell_type": "code",
   "execution_count": 2,
   "metadata": {},
   "outputs": [
    {
     "name": "stdout",
     "output_type": "stream",
     "text": [
      "['K', 'Q', 'J', 'A', '1', 3]\n",
      "[3, 'K', 'A', 'J', '1', 'Q']\n"
     ]
    }
   ],
   "source": [
    "from random import shuffle\n",
    "\n",
    "cartas = ['K', 'Q', 'J', 'A', '1',3]\n",
    "\n",
    "print(cartas)\n",
    "\n",
    "shuffle(cartas)\n",
    "\n",
    "print(cartas)"
   ]
  }
 ],
 "metadata": {
  "kernelspec": {
   "display_name": "Python 3",
   "language": "python",
   "name": "python3"
  },
  "language_info": {
   "codemirror_mode": {
    "name": "ipython",
    "version": 3
   },
   "file_extension": ".py",
   "mimetype": "text/x-python",
   "name": "python",
   "nbconvert_exporter": "python",
   "pygments_lexer": "ipython3",
   "version": "3.11.9"
  }
 },
 "nbformat": 4,
 "nbformat_minor": 2
}

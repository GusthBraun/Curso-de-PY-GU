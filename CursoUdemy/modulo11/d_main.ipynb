{
 "cells": [
  {
   "cell_type": "markdown",
   "metadata": {},
   "source": [
    "Dunder Name e Dunder Main\n",
    "\n",
    "Dunder -> Double Under\n",
    "\n",
    "Dunder Name -> __name__\n",
    "\n",
    "Dunder Main -> __main__\n",
    "\n",
    "Em Pyhton, são utilizados dunder para cirar funções, atributos, propriedades e etc utilizando Double Under para não gerar conflito com outros nomes desses elementos na programação\n",
    "\n",
    "\n",
    "Em C , temos o programa começando em:\n",
    "\n",
    "# C\n",
    "\n",
    "int main(){\n",
    "\n",
    "    return 0;\n",
    "}\n",
    "\n",
    "# Java \n",
    "\n",
    "public static void main (String[] args){\n",
    "\n",
    "}\n",
    "\n",
    "Em pyhton, se executarmos um módulo Python diretamente na linha de comando, internamente o Python atriburá a variavel __nome__ o valor __main__ indicando que este módulo é o modulo de execução principal."
   ]
  },
  {
   "cell_type": "code",
   "execution_count": null,
   "metadata": {},
   "outputs": [],
   "source": []
  }
 ],
 "metadata": {
  "language_info": {
   "name": "python"
  }
 },
 "nbformat": 4,
 "nbformat_minor": 2
}

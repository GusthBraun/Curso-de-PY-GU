{
 "cells": [
  {
   "cell_type": "markdown",
   "metadata": {},
   "source": [
    "Pacotes\n",
    "\n",
    "módulos -> É apenas um arquvio python que pode ter diversas funções para utilizarmos\n",
    "\n",
    "Pacotes -> É um diretório contendo uma coleção de módulos:\n",
    "\n",
    "OBS: Nas versões 2.x do Python, um pacote deveira conter dentro dele um arquivo chamado __init__.py\n",
    "\n",
    "Nas versões do Python 3.x não é mais obrigatória a utilização deste arquivo, mas normalmente ainda é utilizado para manter compatibilidade. \n",
    "\n",
    "aqui segue a estrutura que já vimos em JAVA só que você faz a importação \n",
    "\n",
    "from (nome do pacote) import (funções dentro do pacote)\n",
    "\n",
    "from (nome do pacote).(sub pacote dentro do pacote) import (funções)\n",
    "\n",
    "print((programa))"
   ]
  },
  {
   "cell_type": "code",
   "execution_count": null,
   "metadata": {},
   "outputs": [],
   "source": []
  }
 ],
 "metadata": {
  "language_info": {
   "name": "python"
  }
 },
 "nbformat": 4,
 "nbformat_minor": 2
}

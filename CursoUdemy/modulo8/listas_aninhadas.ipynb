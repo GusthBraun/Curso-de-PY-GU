{
 "cells": [
  {
   "cell_type": "markdown",
   "metadata": {},
   "source": [
    "Listas Aninhadas\n",
    "\n",
    "Algumas linguagens programação (c/Java/PHP) possuem uma estrutura de dados chamadas de arryas:\n",
    "    - unidimensionais (Arrays/Vetores):\n",
    "    -Multimensionais(Matrizes):\n",
    "\n",
    "Em Python nós temos as Listas\n",
    "\n",
    "numeros =[1, 'b', 3.234, True, 5]"
   ]
  },
  {
   "cell_type": "code",
   "execution_count": 1,
   "metadata": {},
   "outputs": [
    {
     "name": "stdout",
     "output_type": "stream",
     "text": [
      "[[1, 2, 3], [4, 5, 6], [7, 8, 9]]\n",
      "<class 'list'>\n",
      "2\n"
     ]
    }
   ],
   "source": [
    "listas = [[1,2,3],[4,5,6],[7,8,9]] # Matriz 3 x 3\n",
    "\n",
    "print(listas)\n",
    "\n",
    "print(type(listas))\n",
    "\n",
    "#como fazemos para acessar os dados?\n",
    "\n",
    "print(listas[0][1]) # fazer acesso a um item especifico da lista dentro da lista.\n",
    "\n"
   ]
  },
  {
   "cell_type": "code",
   "execution_count": 2,
   "metadata": {},
   "outputs": [
    {
     "name": "stdout",
     "output_type": "stream",
     "text": [
      "1\n",
      "2\n",
      "3\n",
      "4\n",
      "5\n",
      "6\n",
      "7\n",
      "8\n",
      "9\n",
      "7\n",
      "7\n",
      "7\n",
      "8\n",
      "8\n",
      "8\n",
      "9\n",
      "9\n",
      "9\n"
     ]
    },
    {
     "data": {
      "text/plain": [
       "[None, None, None, None, None, None, None, None, None]"
      ]
     },
     "execution_count": 2,
     "metadata": {},
     "output_type": "execute_result"
    }
   ],
   "source": [
    "#iterando com loops em uma lista aninhada\n",
    "\n",
    "for lista in listas: \n",
    "    for num in lista:\n",
    "        print (num)\n",
    "\n",
    "[print(valor) for valor in lista for lista in listas]"
   ]
  },
  {
   "cell_type": "code",
   "execution_count": 2,
   "metadata": {},
   "outputs": [
    {
     "name": "stdout",
     "output_type": "stream",
     "text": [
      "[[1, 2, 3], [1, 2, 3], [1, 2, 3]]\n",
      "[['0', 'X', '0'], ['0', 'X', '0'], ['0', 'X', '0']]\n",
      "[['*', '*', '*'], ['*', '*', '*'], ['*', '*', '*']]\n"
     ]
    }
   ],
   "source": [
    "tabuleiro = [[numero for numero in range (1, 4)] for valor in range (1,4)]\n",
    "print(tabuleiro)\n",
    "\n",
    "velha = [['X' if numero % 2 == 0 else '0' for numero in range(1,4)]for valor in range(1, 4)]\n",
    "print(velha)\n",
    "\n",
    "print([['*' for i in range(1,4)] for j in range(1, 4)])"
   ]
  }
 ],
 "metadata": {
  "kernelspec": {
   "display_name": "Python 3",
   "language": "python",
   "name": "python3"
  },
  "language_info": {
   "codemirror_mode": {
    "name": "ipython",
    "version": 3
   },
   "file_extension": ".py",
   "mimetype": "text/x-python",
   "name": "python",
   "nbconvert_exporter": "python",
   "pygments_lexer": "ipython3",
   "version": "3.11.9"
  }
 },
 "nbformat": 4,
 "nbformat_minor": 2
}

{
 "cells": [
  {
   "cell_type": "markdown",
   "metadata": {},
   "source": [
    "Set comprehension\n",
    "\n",
    "Lista = [ 1,2,3,4,5]\n",
    "\n",
    "Set = {1,2,3,4,5}\n",
    "\n"
   ]
  },
  {
   "cell_type": "code",
   "execution_count": 3,
   "metadata": {},
   "outputs": [
    {
     "name": "stdout",
     "output_type": "stream",
     "text": [
      "{1, 2, 3, 4, 5, 6}\n",
      "{0, 1, 64, 4, 36, 9, 16, 49, 81, 25}\n",
      "{0: 0, 1: 1, 2: 4, 3: 9, 4: 16, 5: 25, 6: 36, 7: 49, 8: 64, 9: 81}\n",
      "{'v', 'G', 'k', ' ', 'i', 'r', 't', 'e', 'U', 'y', 's', 'n'}\n"
     ]
    }
   ],
   "source": [
    "numeros ={num for num in range (1,7)}\n",
    "print(numeros)\n",
    "\n",
    "numeros = {quad ** 2 for quad in range (10)} \n",
    "print(numeros)\n",
    "\n",
    "numeros = {x: x ** 2 for x in range(10)}\n",
    "print(numeros)\n",
    "\n",
    "letras = {letra for letra in 'Geek University'}\n",
    "print(letras)"
   ]
  }
 ],
 "metadata": {
  "kernelspec": {
   "display_name": "Python 3",
   "language": "python",
   "name": "python3"
  },
  "language_info": {
   "codemirror_mode": {
    "name": "ipython",
    "version": 3
   },
   "file_extension": ".py",
   "mimetype": "text/x-python",
   "name": "python",
   "nbconvert_exporter": "python",
   "pygments_lexer": "ipython3",
   "version": "3.11.9"
  }
 },
 "nbformat": 4,
 "nbformat_minor": 2
}

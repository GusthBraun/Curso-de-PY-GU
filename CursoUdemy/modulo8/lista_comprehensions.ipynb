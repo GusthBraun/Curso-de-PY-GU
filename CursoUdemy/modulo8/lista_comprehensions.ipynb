{
 "cells": [
  {
   "cell_type": "markdown",
   "metadata": {},
   "source": [
    "List comprethension \n",
    "\n",
    "- utilizando Lits Comprehension nós podemos gerar novas listas com dados processasdos a partir de outro iterável.\n",
    "\n",
    "Sintaxe da List Comprehension\n",
    "\n",
    "[ dado for dado in iterável]"
   ]
  },
  {
   "cell_type": "code",
   "execution_count": 1,
   "metadata": {},
   "outputs": [
    {
     "name": "stdout",
     "output_type": "stream",
     "text": [
      "[10, 20, 30, 40, 50]\n"
     ]
    }
   ],
   "source": [
    "# Exemplos\n",
    "\n",
    "numeros = [1,2,3,4,5]\n",
    "\n",
    "res = [numero *10 for numero in numeros]\n",
    "\n",
    "print(res)"
   ]
  },
  {
   "cell_type": "markdown",
   "metadata": {},
   "source": [
    "para entender melhor o que está acontecendo devemos dividir a explerssão em duas partes:\n",
    "\n",
    "-A primeira parte: for numero in numeros # essa parte fica responsavel por criar o loop da operação\n",
    "\n",
    "-A segunda parte: numero *10 #Aqui determinanmos a operação que precisamos\n",
    "\n",
    "Agora veremos alguns exemplos de como utilizar comprehension é mais efetivo do que listas:"
   ]
  },
  {
   "cell_type": "code",
   "execution_count": null,
   "metadata": {},
   "outputs": [],
   "source": [
    "#loop \n",
    "numeros_dobrados = []\n",
    "for numero in [1,2,3,4,5]:\n",
    "    numeros_dobrados.append(numero*2)\n",
    "\n",
    "print(numeros_dobrados)\n",
    "\n",
    "#List comprehension\n",
    "\n",
    "print([numero *2 for numero in [1,2,3,4,5]])"
   ]
  },
  {
   "cell_type": "markdown",
   "metadata": {},
   "source": [
    "podemos ver o tanto de linhas que o comprehension economiza no código \n"
   ]
  },
  {
   "cell_type": "code",
   "execution_count": 5,
   "metadata": {},
   "outputs": [
    {
     "name": "stdout",
     "output_type": "stream",
     "text": [
      "['G', 'E', 'E', 'K', ' ', 'U', 'N', 'I', 'V', 'E', 'R', 'S', 'I', 'T', 'Y']\n",
      "[4, 5, 6, 7, 8, 9, 10, 11, 12]\n",
      "[False, False, False, True, True, True]\n",
      "['1', '2', '3', '4', '5']\n"
     ]
    }
   ],
   "source": [
    "nome = 'Geek University'\n",
    "\n",
    "print([letra.upper() for letra in nome])\n",
    "\n",
    "def caixa_alta(nome):\n",
    "    nome = nome.replace(nome[0, nome[0].upper()])\n",
    "    return nome\n",
    "\n",
    "amigos = ['maria','julia','pedro','guilherme','vanessa']\n",
    "\n",
    "print([numero +3 for numero in range(1,10)])\n",
    "\n",
    "print ([bool(valor) for valor in [0, [], '', True, 1, 3.14]])\n",
    "\n",
    "print([str(numero) for numero in [1,2,3,4,5]])"
   ]
  }
 ],
 "metadata": {
  "kernelspec": {
   "display_name": "Python 3",
   "language": "python",
   "name": "python3"
  },
  "language_info": {
   "codemirror_mode": {
    "name": "ipython",
    "version": 3
   },
   "file_extension": ".py",
   "mimetype": "text/x-python",
   "name": "python",
   "nbconvert_exporter": "python",
   "pygments_lexer": "ipython3",
   "version": "3.11.9"
  }
 },
 "nbformat": 4,
 "nbformat_minor": 2
}

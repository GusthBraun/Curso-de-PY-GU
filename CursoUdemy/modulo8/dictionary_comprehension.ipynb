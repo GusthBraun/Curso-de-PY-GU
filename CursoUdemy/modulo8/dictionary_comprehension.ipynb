{
 "cells": [
  {
   "cell_type": "markdown",
   "metadata": {},
   "source": [
    "Dictionary comprehension\n",
    "\n",
    "Pense no seguinte:\n",
    "\n",
    "Se quisermos criar uma lista fazemos:\n",
    "\n",
    "lista = [´1, 2, 3, 4]\n",
    "\n",
    "se quisermos criar uma tupla:\n",
    "\n",
    "tupla = (1,2,3,4)\n",
    "\n",
    "se quisermos criar um set (conjunto)\n",
    "\n",
    "conjunto = {1, 2, 3, 4}\n",
    "\n",
    "se quisermos criar um dicionário \n",
    "\n",
    "dicionario = { 'a': 1, 'b': 2, 'c':3, 'd': 4}\n",
    "\n",
    "Sintaxe \n",
    "\n",
    "{chave:valor for valor in iterável}\n",
    "\n"
   ]
  },
  {
   "cell_type": "code",
   "execution_count": 1,
   "metadata": {},
   "outputs": [
    {
     "name": "stdout",
     "output_type": "stream",
     "text": [
      "{'a': 1, 'b': 4, 'c': 9, 'd': 16, 'e': 25}\n"
     ]
    }
   ],
   "source": [
    "numeros = {'a': 1, 'b': 2, 'c':3, 'd': 4, 'e': 5}\n",
    "\n",
    "quadrado = {chave:valor ** 2 for chave , valor in numeros.items()}\n",
    "\n",
    "print(quadrado)"
   ]
  },
  {
   "cell_type": "code",
   "execution_count": 5,
   "metadata": {},
   "outputs": [
    {
     "name": "stdout",
     "output_type": "stream",
     "text": [
      "{'a': 1, 'b': 2, 'c': 3, 'd': 4, 'e': 5}\n"
     ]
    }
   ],
   "source": [
    "chaves = 'abcde'\n",
    "valores = [1,2,3,4,5]\n",
    "\n",
    "mistura = {chaves[i]: valores[i] for i in range(0,len(chaves))}\n",
    "print(mistura)"
   ]
  }
 ],
 "metadata": {
  "kernelspec": {
   "display_name": "Python 3",
   "language": "python",
   "name": "python3"
  },
  "language_info": {
   "codemirror_mode": {
    "name": "ipython",
    "version": 3
   },
   "file_extension": ".py",
   "mimetype": "text/x-python",
   "name": "python",
   "nbconvert_exporter": "python",
   "pygments_lexer": "ipython3",
   "version": "3.11.9"
  }
 },
 "nbformat": 4,
 "nbformat_minor": 2
}

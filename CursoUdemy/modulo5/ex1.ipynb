{
 "cells": [
  {
   "cell_type": "markdown",
   "metadata": {},
   "source": [
    "Faça um programa que determine e mostre os cinco primeiros multiplos de 3 considerando números maiores que 0."
   ]
  },
  {
   "cell_type": "code",
   "execution_count": 2,
   "metadata": {},
   "outputs": [
    {
     "name": "stdout",
     "output_type": "stream",
     "text": [
      "O numero 3 eh multiplo de 3.\n",
      "O numero 6 eh multiplo de 3.\n",
      "O numero 9 eh multiplo de 3.\n",
      "O numero 12 eh multiplo de 3.\n",
      "O numero 15 eh multiplo de 3.\n"
     ]
    }
   ],
   "source": [
    "multiplo: int = 0\n",
    "indice: int =1\n",
    "\n",
    "while multiplo < 5:\n",
    "    if indice % 3 == 0:\n",
    "        print(f'O numero {indice} eh multiplo de 3.')\n",
    "        multiplo = multiplo +1\n",
    "    indice = indice +1"
   ]
  }
 ],
 "metadata": {
  "kernelspec": {
   "display_name": "Python 3",
   "language": "python",
   "name": "python3"
  },
  "language_info": {
   "codemirror_mode": {
    "name": "ipython",
    "version": 3
   },
   "file_extension": ".py",
   "mimetype": "text/x-python",
   "name": "python",
   "nbconvert_exporter": "python",
   "pygments_lexer": "ipython3",
   "version": "3.11.9"
  }
 },
 "nbformat": 4,
 "nbformat_minor": 2
}

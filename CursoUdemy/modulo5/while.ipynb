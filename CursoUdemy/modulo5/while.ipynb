{
 "cells": [
  {
   "cell_type": "markdown",
   "metadata": {},
   "source": [
    "while expressão_booleana:\n",
    "// execução do loop\n",
    "\n",
    "O bloco do while será repetido enquanto a expressão boleana for verdadeira \n",
    "\n",
    "Epressão booleana é toda expressão onde o resultado é verdadeiro ou falso \n",
    "\n",
    "Exemplo:\n",
    "\n",
    "num = 5\n",
    "\n",
    "num < 5"
   ]
  },
  {
   "cell_type": "code",
   "execution_count": null,
   "metadata": {},
   "outputs": [],
   "source": [
    "#exemplo 1\n",
    "numero = 1 \n",
    "\n",
    "while numero < 10:\n",
    "    print(numero)\n",
    "    "
   ]
  },
  {
   "cell_type": "code",
   "execution_count": null,
   "metadata": {},
   "outputs": [],
   "source": [
    "#exemplo 2 \n",
    "\n",
    "resposta = ''\n",
    "\n",
    "while resposta != 'sim':\n",
    "    resposta = input('já acabou Jéssica: ')"
   ]
  }
 ],
 "metadata": {
  "language_info": {
   "name": "python"
  }
 },
 "nbformat": 4,
 "nbformat_minor": 2
}

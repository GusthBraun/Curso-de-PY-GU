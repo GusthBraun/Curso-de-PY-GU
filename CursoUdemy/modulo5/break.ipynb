{
 "cells": [
  {
   "cell_type": "markdown",
   "metadata": {},
   "source": [
    "Saindo de loops com break \n",
    "\n",
    "Funciona da mesma forma que nas linguagens C ou Java.\n",
    "\n",
    "Utilizamos o break para sair de loops de maneira projetada."
   ]
  },
  {
   "cell_type": "code",
   "execution_count": null,
   "metadata": {},
   "outputs": [],
   "source": [
    "#exemplo 1 \n",
    "\n",
    "for numero in range(1, 11):\n",
    "    if numero ==6:\n",
    "        break\n",
    "    else:  \n",
    "        print(numero)\n",
    "print('Sai do loop')"
   ]
  },
  {
   "cell_type": "code",
   "execution_count": null,
   "metadata": {},
   "outputs": [],
   "source": [
    "#exemplo 2 \n",
    "\n",
    "while True:\n",
    "    comando = input(\"digite sair para sair: \")\n",
    "    if comando == 'sair':\n",
    "        break"
   ]
  }
 ],
 "metadata": {
  "language_info": {
   "name": "python"
  }
 },
 "nbformat": 4,
 "nbformat_minor": 2
}

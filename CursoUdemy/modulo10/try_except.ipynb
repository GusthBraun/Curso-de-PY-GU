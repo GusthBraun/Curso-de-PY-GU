{
 "cells": [
  {
   "cell_type": "markdown",
   "metadata": {},
   "source": [
    "O bloco try/except\n",
    "\n",
    "Utilizamos o bloco try/except para tratar erros que podem ocorrer no nosso código. Prvenindo assim que o programa pare de funcionar e o usuário receba mensagens de erro inesperadas. \n",
    "\n",
    "A forma geral mais simples é:   \n",
    "try: \n",
    "    //execução problemática\n",
    "except:\n",
    "    //o que deve ser feito em caso de problema\n",
    "\n",
    "    "
   ]
  },
  {
   "cell_type": "code",
   "execution_count": 1,
   "metadata": {},
   "outputs": [
    {
     "name": "stdout",
     "output_type": "stream",
     "text": [
      "Deu algum problema\n"
     ]
    }
   ],
   "source": [
    "#Tratando um erro genérico\n",
    "\n",
    "try:\n",
    "    geek()\n",
    "except:\n",
    "    print(\"Deu algum problema\")"
   ]
  },
  {
   "cell_type": "markdown",
   "metadata": {},
   "source": [
    "Basicamente dizemos ao Python tente executar a função geek(), caso vocÊ encontre erros, imprima a mensagem de erro.\n",
    "\n",
    "OBS: tratar erro de forma genérica não é a melhor forma de treatamento de erros. O idela é SEMPRE tratar de forma específica. "
   ]
  },
  {
   "cell_type": "code",
   "execution_count": 3,
   "metadata": {},
   "outputs": [
    {
     "name": "stdout",
     "output_type": "stream",
     "text": [
      "Você está utilizando uma função inexistente\n"
     ]
    }
   ],
   "source": [
    "#tratando um erro específico\n",
    "\n",
    "try:\n",
    "    len(5)\n",
    "except TypeError:\n",
    "    print('Você está utilizando uma função inexistente')\n"
   ]
  },
  {
   "cell_type": "code",
   "execution_count": null,
   "metadata": {},
   "outputs": [],
   "source": [
    "#Exemplo 5- Tratando um erro específico com detalhes do erro \n",
    "try:\n",
    "    len(5)\n",
    "except TypeError as err:\n",
    "    print(f'A aplicação gerou o seguinte erro: {err}')"
   ]
  },
  {
   "cell_type": "code",
   "execution_count": 1,
   "metadata": {},
   "outputs": [],
   "source": [
    "#Xemplo mais complexo- Semi-Genérico\n",
    "#OBS: VocÊ é responsável pelas entradas das suas funções, Então trate-as!\n",
    "\n",
    "def dividir(a, b):\n",
    "    try:\n",
    "         return int(a) /int (b)\n",
    "    except(ValueError,ZeroDivisionError)as err:\n",
    "        return 'Ocorreu um problema: {err}'\n",
    "    \n",
    "num1 = input('Informe o primeiro número: ')\n",
    "\n",
    "num2 = input('Infome o segundo número: ')\n",
    "\n",
    "print(dividir(num1, num2))"
   ]
  }
 ],
 "metadata": {
  "kernelspec": {
   "display_name": "Python 3",
   "language": "python",
   "name": "python3"
  },
  "language_info": {
   "codemirror_mode": {
    "name": "ipython",
    "version": 3
   },
   "file_extension": ".py",
   "mimetype": "text/x-python",
   "name": "python",
   "nbconvert_exporter": "python",
   "pygments_lexer": "ipython3",
   "version": "3.11.9"
  }
 },
 "nbformat": 4,
 "nbformat_minor": 2
}

{
 "cells": [
  {
   "cell_type": "markdown",
   "metadata": {},
   "source": [
    "Debuggando com PDB\n",
    "\n",
    "PDB -> Python Debugger\n",
    "\n",
    "Vida de Inseto -> Life's Bug\n",
    "\n",
    "Bug -> Inseto"
   ]
  },
  {
   "cell_type": "code",
   "execution_count": null,
   "metadata": {},
   "outputs": [],
   "source": [
    "#USAR PRINT PRA RESOLVER BUG  É UMA BOSTA NÃO USAR\n",
    "\n",
    "def dividir (a, b):\n",
    "    print(f'a={a},b ={b}')\n",
    "    try:\n",
    "        return int(a) / int(b)\n",
    "    except(ValueError,ZeroDivisionError) as err:\n",
    "        return f'Ocorreu um problema: {err}'\n",
    "    \n",
    "print(dividir(4, 7))"
   ]
  },
  {
   "cell_type": "markdown",
   "metadata": {},
   "source": [
    "EXISTEM FORMAS MAIS PROFISSIONAIS DE SE FAZER ESSE 'DEBUG'"
   ]
  }
 ],
 "metadata": {
  "language_info": {
   "name": "python"
  }
 },
 "nbformat": 4,
 "nbformat_minor": 2
}

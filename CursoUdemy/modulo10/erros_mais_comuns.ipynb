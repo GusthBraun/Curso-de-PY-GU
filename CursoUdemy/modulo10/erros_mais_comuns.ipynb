{
 "cells": [
  {
   "cell_type": "markdown",
   "metadata": {},
   "source": [
    "Erro mais comuns em Python\n",
    "\n",
    "Atenção: é importante prestar atenção e aprender a ler as saídas de erros geradas pela execução do nosso código.\n",
    "\n",
    "Os erros mais comuns:\n",
    "\n",
    "SyntaxError -> Ocorre quando o Python encontra um erro de sintaxe. Ou seja, vocÊ escreveu algo que o Python não reconhece como parte da linguagem. \n",
    "\n",
    "NameError -> Ocorre quando uma variável ou função não foi definida.\n",
    "\n",
    "TypeError -> Ocorre quando uma função/operação/ação é aplicada a um tipo errado\n",
    "\n",
    "#Exemplo TypeError\n",
    "\n",
    "a) print(len(5))\n",
    "\n",
    "uma função int não tem tamanho len \n",
    "\n",
    "b) print('Geek' + [])\n",
    "\n",
    "IndexError -> Ocorre quando tentamos acessar um elemento em uma lista ou outro tipo de dado indexao utilizando um indice invalid. ou seja você tem que acessar via index \n",
    "\n",
    "\n",
    "ValueError -> Ocorre quando uma função/operação  build-in (interada) recebe um argumento com tipo correto mas valor inapropriado.\n",
    "\n",
    "KeyError -> Ocorre quando tentamos acessar um dicionário com uma chave que não exite.\n",
    "\n",
    "AttributeError -> Ocorre quando uma varável não tem um atributo/função.\n",
    "\n",
    "IdentationError -> Ocorre quando não respeitamos a identação do Python "
   ]
  },
  {
   "cell_type": "code",
   "execution_count": null,
   "metadata": {},
   "outputs": [],
   "source": [
    "    "
   ]
  }
 ],
 "metadata": {
  "kernelspec": {
   "display_name": "Python 3",
   "language": "python",
   "name": "python3"
  },
  "language_info": {
   "codemirror_mode": {
    "name": "ipython",
    "version": 3
   },
   "file_extension": ".py",
   "mimetype": "text/x-python",
   "name": "python",
   "nbconvert_exporter": "python",
   "pygments_lexer": "ipython3",
   "version": "3.11.9"
  }
 },
 "nbformat": 4,
 "nbformat_minor": 2
}

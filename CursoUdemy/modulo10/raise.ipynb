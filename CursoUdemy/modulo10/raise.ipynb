{
 "cells": [
  {
   "cell_type": "markdown",
   "metadata": {},
   "source": [
    "Levantando os próprios erros com raise\n",
    "\n",
    "raise -> Lança exceções sobre o codigo\n",
    "\n",
    "Ele não é uma função é uma palavra reservada, para simplificar pense no raise como sendo útil para que possamos criar nossas próprias exceções e mensagens de erro.\n",
    "\n",
    "Aforma geral de utilização é \n",
    "\n",
    "raíse TipoDoErro('Mensagem de erro')\n",
    "\n"
   ]
  },
  {
   "cell_type": "code",
   "execution_count": 6,
   "metadata": {},
   "outputs": [
    {
     "name": "stdout",
     "output_type": "stream",
     "text": [
      "O texto Geek será impresso na cor azul\n"
     ]
    }
   ],
   "source": [
    "#Exemplo real\n",
    "\n",
    "def colore(texto, cor):\n",
    "    cores = ('verde', 'amarelo','azul','branco')\n",
    "    if type(texto) is not str:\n",
    "        raise TypeError('texto precisa ser uma string')\n",
    "    if type(cor) is not str:\n",
    "        raise TypeError('Cor precisa ser uma string')\n",
    "    if cor not in cores:\n",
    "        raise ValueError(f'A cor precisa ser uma entre: {cores}')\n",
    "    print(f'O texto {texto} será impresso na cor {cor}')\n",
    "\n",
    "colore('Geek', 'azul')"
   ]
  },
  {
   "cell_type": "code",
   "execution_count": null,
   "metadata": {},
   "outputs": [],
   "source": []
  }
 ],
 "metadata": {
  "kernelspec": {
   "display_name": "Python 3",
   "language": "python",
   "name": "python3"
  },
  "language_info": {
   "codemirror_mode": {
    "name": "ipython",
    "version": 3
   },
   "file_extension": ".py",
   "mimetype": "text/x-python",
   "name": "python",
   "nbconvert_exporter": "python",
   "pygments_lexer": "ipython3",
   "version": "3.11.9"
  }
 },
 "nbformat": 4,
 "nbformat_minor": 2
}
